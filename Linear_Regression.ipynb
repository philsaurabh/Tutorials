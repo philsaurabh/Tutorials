{
  "nbformat": 4,
  "nbformat_minor": 0,
  "metadata": {
    "colab": {
      "name": "Linear Regression.ipynb",
      "provenance": [],
      "authorship_tag": "ABX9TyNq4+sXFw1a9GcuYnYvFR6d",
      "include_colab_link": true
    },
    "kernelspec": {
      "name": "python3",
      "display_name": "Python 3"
    },
    "language_info": {
      "name": "python"
    }
  },
  "cells": [
    {
      "cell_type": "markdown",
      "metadata": {
        "id": "view-in-github",
        "colab_type": "text"
      },
      "source": [
        "<a href=\"https://colab.research.google.com/github/philsaurabh/Tutorials/blob/main/Linear_Regression.ipynb\" target=\"_parent\"><img src=\"https://colab.research.google.com/assets/colab-badge.svg\" alt=\"Open In Colab\"/></a>"
      ]
    },
    {
      "cell_type": "markdown",
      "metadata": {
        "id": "o2mzBgA8B-2B"
      },
      "source": [
        "# Importing Libraries"
      ]
    },
    {
      "cell_type": "code",
      "metadata": {
        "id": "b2iRX35_B1ib",
        "colab": {
          "base_uri": "https://localhost:8080/"
        },
        "outputId": "b2823d18-d080-4be8-8354-67fc6176695d"
      },
      "source": [
        "import pandas as pd\n",
        "import scipy.stats as st\n",
        "import statsmodels.api as sm\n",
        "from statsmodels.formula.api import ols"
      ],
      "execution_count": 1,
      "outputs": [
        {
          "output_type": "stream",
          "name": "stderr",
          "text": [
            "/usr/local/lib/python3.7/dist-packages/statsmodels/tools/_testing.py:19: FutureWarning: pandas.util.testing is deprecated. Use the functions in the public API at pandas.testing instead.\n",
            "  import pandas.util.testing as tm\n"
          ]
        }
      ]
    },
    {
      "cell_type": "code",
      "metadata": {
        "id": "Po3bju8yEGAT",
        "colab": {
          "base_uri": "https://localhost:8080/",
          "height": 203
        },
        "outputId": "7a751e90-3bae-466c-ee2b-ca4954a8b8bc"
      },
      "source": [
        "# To read data as dataframe\n",
        "df = pd.read_csv('https://raw.githubusercontent.com/philsaurabh/Tutorials/main/Advertising.csv')\n",
        "df.head()"
      ],
      "execution_count": 2,
      "outputs": [
        {
          "output_type": "execute_result",
          "data": {
            "text/html": [
              "<div>\n",
              "<style scoped>\n",
              "    .dataframe tbody tr th:only-of-type {\n",
              "        vertical-align: middle;\n",
              "    }\n",
              "\n",
              "    .dataframe tbody tr th {\n",
              "        vertical-align: top;\n",
              "    }\n",
              "\n",
              "    .dataframe thead th {\n",
              "        text-align: right;\n",
              "    }\n",
              "</style>\n",
              "<table border=\"1\" class=\"dataframe\">\n",
              "  <thead>\n",
              "    <tr style=\"text-align: right;\">\n",
              "      <th></th>\n",
              "      <th>Unnamed: 0</th>\n",
              "      <th>TV</th>\n",
              "      <th>radio</th>\n",
              "      <th>newspaper</th>\n",
              "      <th>sales</th>\n",
              "    </tr>\n",
              "  </thead>\n",
              "  <tbody>\n",
              "    <tr>\n",
              "      <th>0</th>\n",
              "      <td>1</td>\n",
              "      <td>230.1</td>\n",
              "      <td>37.8</td>\n",
              "      <td>69.2</td>\n",
              "      <td>22.1</td>\n",
              "    </tr>\n",
              "    <tr>\n",
              "      <th>1</th>\n",
              "      <td>2</td>\n",
              "      <td>44.5</td>\n",
              "      <td>39.3</td>\n",
              "      <td>45.1</td>\n",
              "      <td>10.4</td>\n",
              "    </tr>\n",
              "    <tr>\n",
              "      <th>2</th>\n",
              "      <td>3</td>\n",
              "      <td>17.2</td>\n",
              "      <td>45.9</td>\n",
              "      <td>69.3</td>\n",
              "      <td>9.3</td>\n",
              "    </tr>\n",
              "    <tr>\n",
              "      <th>3</th>\n",
              "      <td>4</td>\n",
              "      <td>151.5</td>\n",
              "      <td>41.3</td>\n",
              "      <td>58.5</td>\n",
              "      <td>18.5</td>\n",
              "    </tr>\n",
              "    <tr>\n",
              "      <th>4</th>\n",
              "      <td>5</td>\n",
              "      <td>180.8</td>\n",
              "      <td>10.8</td>\n",
              "      <td>58.4</td>\n",
              "      <td>12.9</td>\n",
              "    </tr>\n",
              "  </tbody>\n",
              "</table>\n",
              "</div>"
            ],
            "text/plain": [
              "   Unnamed: 0     TV  radio  newspaper  sales\n",
              "0           1  230.1   37.8       69.2   22.1\n",
              "1           2   44.5   39.3       45.1   10.4\n",
              "2           3   17.2   45.9       69.3    9.3\n",
              "3           4  151.5   41.3       58.5   18.5\n",
              "4           5  180.8   10.8       58.4   12.9"
            ]
          },
          "metadata": {},
          "execution_count": 2
        }
      ]
    },
    {
      "cell_type": "markdown",
      "metadata": {
        "id": "fLWYrUDvyu_E"
      },
      "source": [
        "# Check Null Values"
      ]
    },
    {
      "cell_type": "code",
      "metadata": {
        "colab": {
          "base_uri": "https://localhost:8080/"
        },
        "id": "Zw6GzbJRyyBE",
        "outputId": "377238e6-6876-480f-bd11-becc884a8873"
      },
      "source": [
        "df.isnull().sum()"
      ],
      "execution_count": 4,
      "outputs": [
        {
          "output_type": "execute_result",
          "data": {
            "text/plain": [
              "Unnamed: 0    0\n",
              "TV            0\n",
              "radio         0\n",
              "newspaper     0\n",
              "sales         0\n",
              "dtype: int64"
            ]
          },
          "metadata": {},
          "execution_count": 4
        }
      ]
    },
    {
      "cell_type": "markdown",
      "metadata": {
        "id": "mtWnAVzsz06x"
      },
      "source": [
        "# Model Building\n",
        "For Simple Linear Regression,\n",
        "\n",
        "Equation of linear regression\n",
        "\n",
        "*y=c+m<sub>1</sub>x<sub>1</sub>+m<sub>2</sub>x<sub>2</sub>+...+m<sub>n</sub>x<sub>n</sub>*\n",
        "\n",
        "*y*  is the response\n",
        "*c*  is the intercept\n",
        "*m<sub>1</sub>*  is the coefficient for the first feature\n",
        "*m<sub>n</sub>*  is the coefficient for the nth feature\n",
        "In our case:\n",
        "\n",
        "*y=c+m<sub>1</sub>×TV*\n",
        "\n",
        "The  *m*  values are called the model coefficients or model parameters."
      ]
    },
    {
      "cell_type": "code",
      "metadata": {
        "id": "eTek6buP0xCJ"
      },
      "source": [
        "X = df['TV']\n",
        "y = df['sales']"
      ],
      "execution_count": 10,
      "outputs": []
    },
    {
      "cell_type": "code",
      "metadata": {
        "id": "sLEHEaKq03C9"
      },
      "source": [
        "from sklearn.model_selection import train_test_split\n",
        "X_train, X_test, y_train, y_test = train_test_split(X, y, train_size = 0.8, test_size = 0.2)# random_state = 100"
      ],
      "execution_count": 12,
      "outputs": []
    },
    {
      "cell_type": "code",
      "metadata": {
        "colab": {
          "base_uri": "https://localhost:8080/"
        },
        "id": "tA7Cfwf-04Bn",
        "outputId": "ed459a58-dd1d-4368-e5b0-a5aa9095889c"
      },
      "source": [
        "# The training dataset\n",
        "print(X_train.head())\n",
        "print(y_train.head())"
      ],
      "execution_count": 13,
      "outputs": [
        {
          "output_type": "stream",
          "name": "stdout",
          "text": [
            "147    243.2\n",
            "11     214.7\n",
            "141    193.7\n",
            "44      25.1\n",
            "166     17.9\n",
            "Name: TV, dtype: float64\n",
            "147    25.4\n",
            "11     17.4\n",
            "141    19.2\n",
            "44      8.5\n",
            "166     8.0\n",
            "Name: sales, dtype: float64\n"
          ]
        }
      ]
    },
    {
      "cell_type": "code",
      "metadata": {
        "id": "QOm6xnG_1OLA"
      },
      "source": [
        "import statsmodels.api as sm\n",
        "# Add a constant to get an intercept\n",
        "X_train_sm = sm.add_constant(X_train)\n",
        "\n",
        "# Fit the resgression line using 'OLS'\n",
        "lr = sm.OLS(y_train, X_train_sm).fit()"
      ],
      "execution_count": 14,
      "outputs": []
    },
    {
      "cell_type": "code",
      "metadata": {
        "colab": {
          "base_uri": "https://localhost:8080/"
        },
        "id": "jnlG6vBn1R3F",
        "outputId": "9e472bd9-b91c-4450-e094-cb97861c114f"
      },
      "source": [
        "# Print the parameters, i.e. the intercept and the slope of the regression line fitted\n",
        "lr.params"
      ],
      "execution_count": 15,
      "outputs": [
        {
          "output_type": "execute_result",
          "data": {
            "text/plain": [
              "const    7.117657\n",
              "TV       0.048274\n",
              "dtype: float64"
            ]
          },
          "metadata": {},
          "execution_count": 15
        }
      ]
    },
    {
      "cell_type": "code",
      "metadata": {
        "colab": {
          "base_uri": "https://localhost:8080/"
        },
        "id": "e5ch4kjK1VdZ",
        "outputId": "5d2e821b-5bd4-403a-c76a-92b933c7653e"
      },
      "source": [
        "# Performing a summary operation lists out all the different parameters of the regression line fitted\n",
        "print(lr.summary())"
      ],
      "execution_count": 16,
      "outputs": [
        {
          "output_type": "stream",
          "name": "stdout",
          "text": [
            "                            OLS Regression Results                            \n",
            "==============================================================================\n",
            "Dep. Variable:                  sales   R-squared:                       0.634\n",
            "Model:                            OLS   Adj. R-squared:                  0.631\n",
            "Method:                 Least Squares   F-statistic:                     273.4\n",
            "Date:                Fri, 12 Nov 2021   Prob (F-statistic):           2.75e-36\n",
            "Time:                        11:08:17   Log-Likelihood:                -408.87\n",
            "No. Observations:                 160   AIC:                             821.7\n",
            "Df Residuals:                     158   BIC:                             827.9\n",
            "Df Model:                           1                                         \n",
            "Covariance Type:            nonrobust                                         \n",
            "==============================================================================\n",
            "                 coef    std err          t      P>|t|      [0.025      0.975]\n",
            "------------------------------------------------------------------------------\n",
            "const          7.1177      0.493     14.448      0.000       6.145       8.091\n",
            "TV             0.0483      0.003     16.534      0.000       0.043       0.054\n",
            "==============================================================================\n",
            "Omnibus:                        0.559   Durbin-Watson:                   2.029\n",
            "Prob(Omnibus):                  0.756   Jarque-Bera (JB):                0.583\n",
            "Skew:                          -0.139   Prob(JB):                        0.747\n",
            "Kurtosis:                       2.902   Cond. No.                         335.\n",
            "==============================================================================\n",
            "\n",
            "Warnings:\n",
            "[1] Standard Errors assume that the covariance matrix of the errors is correctly specified.\n"
          ]
        }
      ]
    },
    {
      "cell_type": "markdown",
      "metadata": {
        "id": "PiUtWl8C1y3i"
      },
      "source": [
        "# Model Evaluation"
      ]
    },
    {
      "cell_type": "code",
      "metadata": {
        "id": "sFe1c96k1yOv"
      },
      "source": [
        "y_train_pred = lr.predict(X_train_sm)\n",
        "res = (y_train - y_train_pred)"
      ],
      "execution_count": 19,
      "outputs": []
    },
    {
      "cell_type": "code",
      "metadata": {
        "id": "NB8eBmIv12d8"
      },
      "source": [
        "# Add a constant to X_test\n",
        "X_test_sm = sm.add_constant(X_test)\n",
        "\n",
        "# Predict the y values corresponding to X_test_sm\n",
        "y_pred = lr.predict(X_test_sm)"
      ],
      "execution_count": 20,
      "outputs": []
    },
    {
      "cell_type": "code",
      "metadata": {
        "colab": {
          "base_uri": "https://localhost:8080/"
        },
        "id": "joYCnGwZ18vs",
        "outputId": "6effd9db-80c8-4e92-f7a9-484716d8c35c"
      },
      "source": [
        "y_pred.head()"
      ],
      "execution_count": 21,
      "outputs": [
        {
          "output_type": "execute_result",
          "data": {
            "text/plain": [
              "35     21.150837\n",
              "62     18.669566\n",
              "43     17.105496\n",
              "157    14.349065\n",
              "104    18.616465\n",
              "dtype: float64"
            ]
          },
          "metadata": {},
          "execution_count": 21
        }
      ]
    },
    {
      "cell_type": "code",
      "metadata": {
        "colab": {
          "base_uri": "https://localhost:8080/"
        },
        "id": "aTf6sGRD1-wk",
        "outputId": "306f6297-9860-4469-b8b5-8632442ef627"
      },
      "source": [
        "from sklearn.metrics import mean_squared_error\n",
        "from sklearn.metrics import r2_score\n",
        "import numpy as np\n",
        "#Returns the mean squared error; we'll take a square root\n",
        "np.sqrt(mean_squared_error(y_test, y_pred))"
      ],
      "execution_count": 24,
      "outputs": [
        {
          "output_type": "execute_result",
          "data": {
            "text/plain": [
              "3.732923528444344"
            ]
          },
          "metadata": {},
          "execution_count": 24
        }
      ]
    },
    {
      "cell_type": "code",
      "metadata": {
        "colab": {
          "base_uri": "https://localhost:8080/"
        },
        "id": "ntH4tqb_2H9P",
        "outputId": "8844b1ca-8df5-4ed3-a7b7-b8bad00b166c"
      },
      "source": [
        "# Checking the R-squared on the test set\n",
        "r_squared = r2_score(y_test, y_pred)\n",
        "r_squared"
      ],
      "execution_count": 26,
      "outputs": [
        {
          "output_type": "execute_result",
          "data": {
            "text/plain": [
              "0.5200927781124346"
            ]
          },
          "metadata": {},
          "execution_count": 26
        }
      ]
    },
    {
      "cell_type": "markdown",
      "metadata": {
        "id": "GLj5zaLiyu5A"
      },
      "source": [
        "# Additional"
      ]
    },
    {
      "cell_type": "markdown",
      "metadata": {
        "id": "2bqXWFpdzEqN"
      },
      "source": [
        "## Visualization"
      ]
    },
    {
      "cell_type": "code",
      "metadata": {
        "colab": {
          "base_uri": "https://localhost:8080/",
          "height": 274
        },
        "id": "tssAT4Hryj7J",
        "outputId": "59d5b6f6-f639-4b60-a7a4-ed1412f743de"
      },
      "source": [
        "# Data Visualisation\n",
        "import matplotlib.pyplot as plt \n",
        "import seaborn as sns\n",
        "# Let's see the correlation between different variables.\n",
        "sns.heatmap(df.corr(),annot= True)# , cmap=\"YlGnBu\", annot = True\n",
        "plt.show()"
      ],
      "execution_count": 7,
      "outputs": [
        {
          "output_type": "display_data",
          "data": {
            "image/png": "[encoded data removed]",
            "text/plain": [
              "<Figure size 432x288 with 2 Axes>"
            ]
          },
          "metadata": {
            "needs_background": "light"
          }
        }
      ]
    },
    {
      "cell_type": "code",
      "metadata": {
        "colab": {
          "base_uri": "https://localhost:8080/",
          "height": 490
        },
        "id": "dzr4K1-UzKQ7",
        "outputId": "8c9895e7-8440-49c4-dd0e-9cc54bb020a8"
      },
      "source": [
        "# Outlier Analysis\n",
        "fig, axs = plt.subplots(3, figsize = (5,5))\n",
        "plt1 = sns.boxplot(df['TV'], ax = axs[0])\n",
        "plt2 = sns.boxplot(df['newspaper'], ax = axs[1])\n",
        "plt3 = sns.boxplot(df['radio'], ax = axs[2])\n",
        "plt.tight_layout()"
      ],
      "execution_count": 9,
      "outputs": [
        {
          "output_type": "stream",
          "name": "stderr",
          "text": [
            "/usr/local/lib/python3.7/dist-packages/seaborn/_decorators.py:43: FutureWarning: Pass the following variable as a keyword arg: x. From version 0.12, the only valid positional argument will be `data`, and passing other arguments without an explicit keyword will result in an error or misinterpretation.\n",
            "  FutureWarning\n",
            "/usr/local/lib/python3.7/dist-packages/seaborn/_decorators.py:43: FutureWarning: Pass the following variable as a keyword arg: x. From version 0.12, the only valid positional argument will be `data`, and passing other arguments without an explicit keyword will result in an error or misinterpretation.\n",
            "  FutureWarning\n",
            "/usr/local/lib/python3.7/dist-packages/seaborn/_decorators.py:43: FutureWarning: Pass the following variable as a keyword arg: x. From version 0.12, the only valid positional argument will be `data`, and passing other arguments without an explicit keyword will result in an error or misinterpretation.\n",
            "  FutureWarning\n"
          ]
        },
        {
          "output_type": "display_data",
          "data": {
            "image/png": "[encoded data removed]",
            "text/plain": [
              "<Figure size 360x360 with 3 Axes>"
            ]
          },
          "metadata": {
            "needs_background": "light"
          }
        }
      ]
    },
    {
      "cell_type": "code",
      "metadata": {
        "id": "PDxNKgkBzldN"
      },
      "source": [
        "# There are no considerable outliers present in the data."
      ],
      "execution_count": null,
      "outputs": []
    },
    {
      "cell_type": "code",
      "metadata": {
        "colab": {
          "base_uri": "https://localhost:8080/",
          "height": 265
        },
        "id": "1kTfuLpSzdxG",
        "outputId": "a1c8f5cf-9469-4c04-d137-2efc767cc673"
      },
      "source": [
        "plt.scatter(X_train, y_train)\n",
        "plt.plot(X_train, 7.1177 + 0.0483*X_train, 'r')\n",
        "plt.show()"
      ],
      "execution_count": 18,
      "outputs": [
        {
          "output_type": "display_data",
          "data": {
            "image/png": "[encoded data removed]",
            "text/plain": [
              "<Figure size 432x288 with 1 Axes>"
            ]
          },
          "metadata": {
            "needs_background": "light"
          }
        }
      ]
    },
    {
      "cell_type": "markdown",
      "metadata": {
        "id": "KZncFSng5TbE"
      },
      "source": [
        "# Using Sklearn"
      ]
    },
    {
      "cell_type": "code",
      "metadata": {
        "colab": {
          "base_uri": "https://localhost:8080/"
        },
        "id": "8ZeSt-k12Rc1",
        "outputId": "d1e0062e-4604-4b15-a703-13598230514a"
      },
      "source": [
        "from sklearn.linear_model import LinearRegression\n",
        "# To read data as dataframe\n",
        "df = pd.read_csv('https://raw.githubusercontent.com/philsaurabh/Tutorials/main/Advertising.csv')\n",
        "X = df.iloc[:, :-1].values\n",
        "y = df.iloc[:, 1].values\n",
        "print(X)\n",
        "X_train, X_test, y_train, y_test = train_test_split(X, y, train_size = 0.8, test_size = 0.2)# random_state = 100\n",
        "reg = LinearRegression().fit(X_train, y_train)\n",
        "print(reg.score(X_train, y_train))\n",
        "reg.score(X_test, y_test)"
      ],
      "execution_count": 42,
      "outputs": [
        {
          "output_type": "stream",
          "name": "stdout",
          "text": [
            "[[  1.  230.1  37.8  69.2]\n",
            " [  2.   44.5  39.3  45.1]\n",
            " [  3.   17.2  45.9  69.3]\n",
            " [  4.  151.5  41.3  58.5]\n",
            " [  5.  180.8  10.8  58.4]\n",
            " [  6.    8.7  48.9  75. ]\n",
            " [  7.   57.5  32.8  23.5]\n",
            " [  8.  120.2  19.6  11.6]\n",
            " [  9.    8.6   2.1   1. ]\n",
            " [ 10.  199.8   2.6  21.2]\n",
            " [ 11.   66.1   5.8  24.2]\n",
            " [ 12.  214.7  24.    4. ]\n",
            " [ 13.   23.8  35.1  65.9]\n",
            " [ 14.   97.5   7.6   7.2]\n",
            " [ 15.  204.1  32.9  46. ]\n",
            " [ 16.  195.4  47.7  52.9]\n",
            " [ 17.   67.8  36.6 114. ]\n",
            " [ 18.  281.4  39.6  55.8]\n",
            " [ 19.   69.2  20.5  18.3]\n",
            " [ 20.  147.3  23.9  19.1]\n",
            " [ 21.  218.4  27.7  53.4]\n",
            " [ 22.  237.4   5.1  23.5]\n",
            " [ 23.   13.2  15.9  49.6]\n",
            " [ 24.  228.3  16.9  26.2]\n",
            " [ 25.   62.3  12.6  18.3]\n",
            " [ 26.  262.9   3.5  19.5]\n",
            " [ 27.  142.9  29.3  12.6]\n",
            " [ 28.  240.1  16.7  22.9]\n",
            " [ 29.  248.8  27.1  22.9]\n",
            " [ 30.   70.6  16.   40.8]\n",
            " [ 31.  292.9  28.3  43.2]\n",
            " [ 32.  112.9  17.4  38.6]\n",
            " [ 33.   97.2   1.5  30. ]\n",
            " [ 34.  265.6  20.    0.3]\n",
            " [ 35.   95.7   1.4   7.4]\n",
            " [ 36.  290.7   4.1   8.5]\n",
            " [ 37.  266.9  43.8   5. ]\n",
            " [ 38.   74.7  49.4  45.7]\n",
            " [ 39.   43.1  26.7  35.1]\n",
            " [ 40.  228.   37.7  32. ]\n",
            " [ 41.  202.5  22.3  31.6]\n",
            " [ 42.  177.   33.4  38.7]\n",
            " [ 43.  293.6  27.7   1.8]\n",
            " [ 44.  206.9   8.4  26.4]\n",
            " [ 45.   25.1  25.7  43.3]\n",
            " [ 46.  175.1  22.5  31.5]\n",
            " [ 47.   89.7   9.9  35.7]\n",
            " [ 48.  239.9  41.5  18.5]\n",
            " [ 49.  227.2  15.8  49.9]\n",
            " [ 50.   66.9  11.7  36.8]\n",
            " [ 51.  199.8   3.1  34.6]\n",
            " [ 52.  100.4   9.6   3.6]\n",
            " [ 53.  216.4  41.7  39.6]\n",
            " [ 54.  182.6  46.2  58.7]\n",
            " [ 55.  262.7  28.8  15.9]\n",
            " [ 56.  198.9  49.4  60. ]\n",
            " [ 57.    7.3  28.1  41.4]\n",
            " [ 58.  136.2  19.2  16.6]\n",
            " [ 59.  210.8  49.6  37.7]\n",
            " [ 60.  210.7  29.5   9.3]\n",
            " [ 61.   53.5   2.   21.4]\n",
            " [ 62.  261.3  42.7  54.7]\n",
            " [ 63.  239.3  15.5  27.3]\n",
            " [ 64.  102.7  29.6   8.4]\n",
            " [ 65.  131.1  42.8  28.9]\n",
            " [ 66.   69.    9.3   0.9]\n",
            " [ 67.   31.5  24.6   2.2]\n",
            " [ 68.  139.3  14.5  10.2]\n",
            " [ 69.  237.4  27.5  11. ]\n",
            " [ 70.  216.8  43.9  27.2]\n",
            " [ 71.  199.1  30.6  38.7]\n",
            " [ 72.  109.8  14.3  31.7]\n",
            " [ 73.   26.8  33.   19.3]\n",
            " [ 74.  129.4   5.7  31.3]\n",
            " [ 75.  213.4  24.6  13.1]\n",
            " [ 76.   16.9  43.7  89.4]\n",
            " [ 77.   27.5   1.6  20.7]\n",
            " [ 78.  120.5  28.5  14.2]\n",
            " [ 79.    5.4  29.9   9.4]\n",
            " [ 80.  116.    7.7  23.1]\n",
            " [ 81.   76.4  26.7  22.3]\n",
            " [ 82.  239.8   4.1  36.9]\n",
            " [ 83.   75.3  20.3  32.5]\n",
            " [ 84.   68.4  44.5  35.6]\n",
            " [ 85.  213.5  43.   33.8]\n",
            " [ 86.  193.2  18.4  65.7]\n",
            " [ 87.   76.3  27.5  16. ]\n",
            " [ 88.  110.7  40.6  63.2]\n",
            " [ 89.   88.3  25.5  73.4]\n",
            " [ 90.  109.8  47.8  51.4]\n",
            " [ 91.  134.3   4.9   9.3]\n",
            " [ 92.   28.6   1.5  33. ]\n",
            " [ 93.  217.7  33.5  59. ]\n",
            " [ 94.  250.9  36.5  72.3]\n",
            " [ 95.  107.4  14.   10.9]\n",
            " [ 96.  163.3  31.6  52.9]\n",
            " [ 97.  197.6   3.5   5.9]\n",
            " [ 98.  184.9  21.   22. ]\n",
            " [ 99.  289.7  42.3  51.2]\n",
            " [100.  135.2  41.7  45.9]\n",
            " [101.  222.4   4.3  49.8]\n",
            " [102.  296.4  36.3 100.9]\n",
            " [103.  280.2  10.1  21.4]\n",
            " [104.  187.9  17.2  17.9]\n",
            " [105.  238.2  34.3   5.3]\n",
            " [106.  137.9  46.4  59. ]\n",
            " [107.   25.   11.   29.7]\n",
            " [108.   90.4   0.3  23.2]\n",
            " [109.   13.1   0.4  25.6]\n",
            " [110.  255.4  26.9   5.5]\n",
            " [111.  225.8   8.2  56.5]\n",
            " [112.  241.7  38.   23.2]\n",
            " [113.  175.7  15.4   2.4]\n",
            " [114.  209.6  20.6  10.7]\n",
            " [115.   78.2  46.8  34.5]\n",
            " [116.   75.1  35.   52.7]\n",
            " [117.  139.2  14.3  25.6]\n",
            " [118.   76.4   0.8  14.8]\n",
            " [119.  125.7  36.9  79.2]\n",
            " [120.   19.4  16.   22.3]\n",
            " [121.  141.3  26.8  46.2]\n",
            " [122.   18.8  21.7  50.4]\n",
            " [123.  224.    2.4  15.6]\n",
            " [124.  123.1  34.6  12.4]\n",
            " [125.  229.5  32.3  74.2]\n",
            " [126.   87.2  11.8  25.9]\n",
            " [127.    7.8  38.9  50.6]\n",
            " [128.   80.2   0.    9.2]\n",
            " [129.  220.3  49.    3.2]\n",
            " [130.   59.6  12.   43.1]\n",
            " [131.    0.7  39.6   8.7]\n",
            " [132.  265.2   2.9  43. ]\n",
            " [133.    8.4  27.2   2.1]\n",
            " [134.  219.8  33.5  45.1]\n",
            " [135.   36.9  38.6  65.6]\n",
            " [136.   48.3  47.    8.5]\n",
            " [137.   25.6  39.    9.3]\n",
            " [138.  273.7  28.9  59.7]\n",
            " [139.   43.   25.9  20.5]\n",
            " [140.  184.9  43.9   1.7]\n",
            " [141.   73.4  17.   12.9]\n",
            " [142.  193.7  35.4  75.6]\n",
            " [143.  220.5  33.2  37.9]\n",
            " [144.  104.6   5.7  34.4]\n",
            " [145.   96.2  14.8  38.9]\n",
            " [146.  140.3   1.9   9. ]\n",
            " [147.  240.1   7.3   8.7]\n",
            " [148.  243.2  49.   44.3]\n",
            " [149.   38.   40.3  11.9]\n",
            " [150.   44.7  25.8  20.6]\n",
            " [151.  280.7  13.9  37. ]\n",
            " [152.  121.    8.4  48.7]\n",
            " [153.  197.6  23.3  14.2]\n",
            " [154.  171.3  39.7  37.7]\n",
            " [155.  187.8  21.1   9.5]\n",
            " [156.    4.1  11.6   5.7]\n",
            " [157.   93.9  43.5  50.5]\n",
            " [158.  149.8   1.3  24.3]\n",
            " [159.   11.7  36.9  45.2]\n",
            " [160.  131.7  18.4  34.6]\n",
            " [161.  172.5  18.1  30.7]\n",
            " [162.   85.7  35.8  49.3]\n",
            " [163.  188.4  18.1  25.6]\n",
            " [164.  163.5  36.8   7.4]\n",
            " [165.  117.2  14.7   5.4]\n",
            " [166.  234.5   3.4  84.8]\n",
            " [167.   17.9  37.6  21.6]\n",
            " [168.  206.8   5.2  19.4]\n",
            " [169.  215.4  23.6  57.6]\n",
            " [170.  284.3  10.6   6.4]\n",
            " [171.   50.   11.6  18.4]\n",
            " [172.  164.5  20.9  47.4]\n",
            " [173.   19.6  20.1  17. ]\n",
            " [174.  168.4   7.1  12.8]\n",
            " [175.  222.4   3.4  13.1]\n",
            " [176.  276.9  48.9  41.8]\n",
            " [177.  248.4  30.2  20.3]\n",
            " [178.  170.2   7.8  35.2]\n",
            " [179.  276.7   2.3  23.7]\n",
            " [180.  165.6  10.   17.6]\n",
            " [181.  156.6   2.6   8.3]\n",
            " [182.  218.5   5.4  27.4]\n",
            " [183.   56.2   5.7  29.7]\n",
            " [184.  287.6  43.   71.8]\n",
            " [185.  253.8  21.3  30. ]\n",
            " [186.  205.   45.1  19.6]\n",
            " [187.  139.5   2.1  26.6]\n",
            " [188.  191.1  28.7  18.2]\n",
            " [189.  286.   13.9   3.7]\n",
            " [190.   18.7  12.1  23.4]\n",
            " [191.   39.5  41.1   5.8]\n",
            " [192.   75.5  10.8   6. ]\n",
            " [193.   17.2   4.1  31.6]\n",
            " [194.  166.8  42.    3.6]\n",
            " [195.  149.7  35.6   6. ]\n",
            " [196.   38.2   3.7  13.8]\n",
            " [197.   94.2   4.9   8.1]\n",
            " [198.  177.    9.3   6.4]\n",
            " [199.  283.6  42.   66.2]\n",
            " [200.  232.1   8.6   8.7]]\n",
            "1.0\n"
          ]
        },
        {
          "output_type": "execute_result",
          "data": {
            "text/plain": [
              "1.0"
            ]
          },
          "metadata": {},
          "execution_count": 42
        }
      ]
    },
    {
      "cell_type": "code",
      "metadata": {
        "colab": {
          "base_uri": "https://localhost:8080/"
        },
        "id": "7CG1Ikik3t6t",
        "outputId": "a8aa2fad-72cc-4f8e-893c-067f6bff9098"
      },
      "source": [
        "print(reg.intercept_)\n",
        "print(reg.coef_)"
      ],
      "execution_count": 39,
      "outputs": [
        {
          "output_type": "stream",
          "name": "stdout",
          "text": [
            "-2.842170943040401e-14\n",
            "[2.28022226e-17 1.00000000e+00]\n"
          ]
        }
      ]
    }
  ]
}