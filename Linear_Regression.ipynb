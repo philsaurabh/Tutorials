{
  "nbformat": 4,
  "nbformat_minor": 0,
  "metadata": {
    "colab": {
      "name": "Linear Regression.ipynb",
      "provenance": [],
      "authorship_tag": "ABX9TyMoIjA+IZ0pgw2Ef8TBGvXv",
      "include_colab_link": true
    },
    "kernelspec": {
      "name": "python3",
      "display_name": "Python 3"
    },
    "language_info": {
      "name": "python"
    }
  },
  "cells": [
    {
      "cell_type": "markdown",
      "metadata": {
        "id": "view-in-github",
        "colab_type": "text"
      },
      "source": [
        "<a href=\"https://colab.research.google.com/github/philsaurabh/Tutorials/blob/main/Linear_Regression.ipynb\" target=\"_parent\"><img src=\"https://colab.research.google.com/assets/colab-badge.svg\" alt=\"Open In Colab\"/></a>"
      ]
    },
    {
      "cell_type": "markdown",
      "metadata": {
        "id": "o2mzBgA8B-2B"
      },
      "source": [
        "# Importing Libraries"
      ]
    },
    {
      "cell_type": "code",
      "metadata": {
        "id": "b2iRX35_B1ib"
      },
      "source": [
        "import pandas as pd\n",
        "import scipy.stats as st\n",
        "import statsmodels.api as sm\n",
        "from statsmodels.formula.api import ols"
      ],
      "execution_count": 70,
      "outputs": []
    },
    {
      "cell_type": "code",
      "metadata": {
        "id": "Po3bju8yEGAT",
        "colab": {
          "base_uri": "https://localhost:8080/",
          "height": 203
        },
        "outputId": "8480565b-1336-47ab-e69d-2abf3c021f66"
      },
      "source": [
        "# To read data as dataframe\n",
        "df = pd.read_csv('https://raw.githubusercontent.com/philsaurabh/Tutorials/main/Advertising.csv')\n",
        "df.head()"
      ],
      "execution_count": 71,
      "outputs": [
        {
          "output_type": "execute_result",
          "data": {
            "text/html": [
              "<div>\n",
              "<style scoped>\n",
              "    .dataframe tbody tr th:only-of-type {\n",
              "        vertical-align: middle;\n",
              "    }\n",
              "\n",
              "    .dataframe tbody tr th {\n",
              "        vertical-align: top;\n",
              "    }\n",
              "\n",
              "    .dataframe thead th {\n",
              "        text-align: right;\n",
              "    }\n",
              "</style>\n",
              "<table border=\"1\" class=\"dataframe\">\n",
              "  <thead>\n",
              "    <tr style=\"text-align: right;\">\n",
              "      <th></th>\n",
              "      <th>Unnamed: 0</th>\n",
              "      <th>TV</th>\n",
              "      <th>radio</th>\n",
              "      <th>newspaper</th>\n",
              "      <th>sales</th>\n",
              "    </tr>\n",
              "  </thead>\n",
              "  <tbody>\n",
              "    <tr>\n",
              "      <th>0</th>\n",
              "      <td>1</td>\n",
              "      <td>230.1</td>\n",
              "      <td>37.8</td>\n",
              "      <td>69.2</td>\n",
              "      <td>22.1</td>\n",
              "    </tr>\n",
              "    <tr>\n",
              "      <th>1</th>\n",
              "      <td>2</td>\n",
              "      <td>44.5</td>\n",
              "      <td>39.3</td>\n",
              "      <td>45.1</td>\n",
              "      <td>10.4</td>\n",
              "    </tr>\n",
              "    <tr>\n",
              "      <th>2</th>\n",
              "      <td>3</td>\n",
              "      <td>17.2</td>\n",
              "      <td>45.9</td>\n",
              "      <td>69.3</td>\n",
              "      <td>9.3</td>\n",
              "    </tr>\n",
              "    <tr>\n",
              "      <th>3</th>\n",
              "      <td>4</td>\n",
              "      <td>151.5</td>\n",
              "      <td>41.3</td>\n",
              "      <td>58.5</td>\n",
              "      <td>18.5</td>\n",
              "    </tr>\n",
              "    <tr>\n",
              "      <th>4</th>\n",
              "      <td>5</td>\n",
              "      <td>180.8</td>\n",
              "      <td>10.8</td>\n",
              "      <td>58.4</td>\n",
              "      <td>12.9</td>\n",
              "    </tr>\n",
              "  </tbody>\n",
              "</table>\n",
              "</div>"
            ],
            "text/plain": [
              "   Unnamed: 0     TV  radio  newspaper  sales\n",
              "0           1  230.1   37.8       69.2   22.1\n",
              "1           2   44.5   39.3       45.1   10.4\n",
              "2           3   17.2   45.9       69.3    9.3\n",
              "3           4  151.5   41.3       58.5   18.5\n",
              "4           5  180.8   10.8       58.4   12.9"
            ]
          },
          "metadata": {},
          "execution_count": 71
        }
      ]
    },
    {
      "cell_type": "markdown",
      "metadata": {
        "id": "fLWYrUDvyu_E"
      },
      "source": [
        "# Check Null Values"
      ]
    },
    {
      "cell_type": "code",
      "metadata": {
        "colab": {
          "base_uri": "https://localhost:8080/"
        },
        "id": "Zw6GzbJRyyBE",
        "outputId": "6213b711-2a7b-4e6c-ce19-fe5cfaa8f195"
      },
      "source": [
        "df.isnull().sum()"
      ],
      "execution_count": 72,
      "outputs": [
        {
          "output_type": "execute_result",
          "data": {
            "text/plain": [
              "Unnamed: 0    0\n",
              "TV            0\n",
              "radio         0\n",
              "newspaper     0\n",
              "sales         0\n",
              "dtype: int64"
            ]
          },
          "metadata": {},
          "execution_count": 72
        }
      ]
    },
    {
      "cell_type": "markdown",
      "metadata": {
        "id": "mtWnAVzsz06x"
      },
      "source": [
        "# Model Building\n",
        "For Simple Linear Regression,\n",
        "\n",
        "Equation of linear regression\n",
        "\n",
        "*y=c+m<sub>1</sub>x<sub>1</sub>+m<sub>2</sub>x<sub>2</sub>+...+m<sub>n</sub>x<sub>n</sub>*\n",
        "\n",
        "*y*  is the response\n",
        "*c*  is the intercept\n",
        "*m<sub>1</sub>*  is the coefficient for the first feature\n",
        "*m<sub>n</sub>*  is the coefficient for the nth feature\n",
        "In our case:\n",
        "\n",
        "*y=c+m<sub>1</sub>×TV*\n",
        "\n",
        "The  *m*  values are called the model coefficients or model parameters."
      ]
    },
    {
      "cell_type": "code",
      "metadata": {
        "id": "eTek6buP0xCJ"
      },
      "source": [
        "X = df['TV']#df.iloc[: , 1:3]\n",
        "y = df['sales']"
      ],
      "execution_count": 73,
      "outputs": []
    },
    {
      "cell_type": "code",
      "metadata": {
        "id": "sLEHEaKq03C9"
      },
      "source": [
        "from sklearn.model_selection import train_test_split\n",
        "X_train, X_test, y_train, y_test = train_test_split(X, y, train_size = 0.8, test_size = 0.2)# random_state = 100"
      ],
      "execution_count": 74,
      "outputs": []
    },
    {
      "cell_type": "code",
      "metadata": {
        "colab": {
          "base_uri": "https://localhost:8080/"
        },
        "id": "tA7Cfwf-04Bn",
        "outputId": "4b5bcd33-8be9-4f65-a4a3-8593059b93b0"
      },
      "source": [
        "# The training dataset\n",
        "print(X_train.head())\n",
        "print(y_train.head())"
      ],
      "execution_count": 75,
      "outputs": [
        {
          "output_type": "stream",
          "name": "stdout",
          "text": [
            "182     56.2\n",
            "186    139.5\n",
            "134     36.9\n",
            "150    280.7\n",
            "25     262.9\n",
            "Name: TV, dtype: float64\n",
            "182     8.7\n",
            "186    10.3\n",
            "134    10.8\n",
            "150    16.1\n",
            "25     12.0\n",
            "Name: sales, dtype: float64\n"
          ]
        }
      ]
    },
    {
      "cell_type": "code",
      "metadata": {
        "id": "QOm6xnG_1OLA"
      },
      "source": [
        "import statsmodels.api as sm\n",
        "# Add a constant to get an intercept\n",
        "X_train_sm = sm.add_constant(X_train)\n",
        "\n",
        "# Fit the resgression line using 'OLS'\n",
        "lr = sm.OLS(y_train, X_train_sm).fit()"
      ],
      "execution_count": 76,
      "outputs": []
    },
    {
      "cell_type": "code",
      "metadata": {
        "colab": {
          "base_uri": "https://localhost:8080/"
        },
        "id": "jnlG6vBn1R3F",
        "outputId": "b50f1d6d-d5c7-4068-eb4d-3795be8d32e4"
      },
      "source": [
        "# Print the parameters, i.e. the intercept and the slope of the regression line fitted\n",
        "lr.params"
      ],
      "execution_count": 77,
      "outputs": [
        {
          "output_type": "execute_result",
          "data": {
            "text/plain": [
              "const    7.122027\n",
              "TV       0.046375\n",
              "dtype: float64"
            ]
          },
          "metadata": {},
          "execution_count": 77
        }
      ]
    },
    {
      "cell_type": "code",
      "metadata": {
        "colab": {
          "base_uri": "https://localhost:8080/"
        },
        "id": "e5ch4kjK1VdZ",
        "outputId": "79338d46-e206-4940-abfd-0bcf965505f6"
      },
      "source": [
        "# Performing a summary operation lists out all the different parameters of the regression line fitted\n",
        "print(lr.summary())"
      ],
      "execution_count": 78,
      "outputs": [
        {
          "output_type": "stream",
          "name": "stdout",
          "text": [
            "                            OLS Regression Results                            \n",
            "==============================================================================\n",
            "Dep. Variable:                  sales   R-squared:                       0.591\n",
            "Model:                            OLS   Adj. R-squared:                  0.588\n",
            "Method:                 Least Squares   F-statistic:                     228.3\n",
            "Date:                Sat, 13 Nov 2021   Prob (F-statistic):           1.76e-32\n",
            "Time:                        05:47:33   Log-Likelihood:                -419.03\n",
            "No. Observations:                 160   AIC:                             842.1\n",
            "Df Residuals:                     158   BIC:                             848.2\n",
            "Df Model:                           1                                         \n",
            "Covariance Type:            nonrobust                                         \n",
            "==============================================================================\n",
            "                 coef    std err          t      P>|t|      [0.025      0.975]\n",
            "------------------------------------------------------------------------------\n",
            "const          7.1220      0.543     13.123      0.000       6.050       8.194\n",
            "TV             0.0464      0.003     15.108      0.000       0.040       0.052\n",
            "==============================================================================\n",
            "Omnibus:                        0.782   Durbin-Watson:                   2.108\n",
            "Prob(Omnibus):                  0.676   Jarque-Bera (JB):                0.868\n",
            "Skew:                          -0.071   Prob(JB):                        0.648\n",
            "Kurtosis:                       2.668   Cond. No.                         363.\n",
            "==============================================================================\n",
            "\n",
            "Warnings:\n",
            "[1] Standard Errors assume that the covariance matrix of the errors is correctly specified.\n"
          ]
        }
      ]
    },
    {
      "cell_type": "markdown",
      "metadata": {
        "id": "PiUtWl8C1y3i"
      },
      "source": [
        "# Model Evaluation"
      ]
    },
    {
      "cell_type": "code",
      "metadata": {
        "id": "sFe1c96k1yOv"
      },
      "source": [
        "y_train_pred = lr.predict(X_train_sm)\n",
        "res = (y_train - y_train_pred)"
      ],
      "execution_count": 79,
      "outputs": []
    },
    {
      "cell_type": "code",
      "metadata": {
        "id": "NB8eBmIv12d8"
      },
      "source": [
        "# Add a constant to X_test\n",
        "X_test_sm = sm.add_constant(X_test)\n",
        "\n",
        "# Predict the y values corresponding to X_test_sm\n",
        "y_pred = lr.predict(X_test_sm)"
      ],
      "execution_count": 80,
      "outputs": []
    },
    {
      "cell_type": "code",
      "metadata": {
        "colab": {
          "base_uri": "https://localhost:8080/"
        },
        "id": "joYCnGwZ18vs",
        "outputId": "99dcdf19-fb8e-4d26-c232-9e845effe9c0"
      },
      "source": [
        "y_pred.head()"
      ],
      "execution_count": 81,
      "outputs": [
        {
          "output_type": "execute_result",
          "data": {
            "text/plain": [
              "89     12.214027\n",
              "27     18.256719\n",
              "112    15.270155\n",
              "78      7.372453\n",
              "50     16.387798\n",
              "dtype: float64"
            ]
          },
          "metadata": {},
          "execution_count": 81
        }
      ]
    },
    {
      "cell_type": "code",
      "metadata": {
        "colab": {
          "base_uri": "https://localhost:8080/"
        },
        "id": "aTf6sGRD1-wk",
        "outputId": "5695f370-178d-4235-a6c5-b14d5a4a9ca8"
      },
      "source": [
        "from sklearn.metrics import mean_squared_error\n",
        "from sklearn.metrics import r2_score\n",
        "import numpy as np\n",
        "#Returns the mean squared error; we'll take a square root\n",
        "np.sqrt(mean_squared_error(y_test, y_pred))"
      ],
      "execution_count": 82,
      "outputs": [
        {
          "output_type": "execute_result",
          "data": {
            "text/plain": [
              "2.9249123608015277"
            ]
          },
          "metadata": {},
          "execution_count": 82
        }
      ]
    },
    {
      "cell_type": "code",
      "metadata": {
        "colab": {
          "base_uri": "https://localhost:8080/"
        },
        "id": "ntH4tqb_2H9P",
        "outputId": "8263d59c-95b1-48c2-e553-9aeac5c57a4c"
      },
      "source": [
        "# Checking the R-squared on the test set\n",
        "r_squared = r2_score(y_test, y_pred)\n",
        "r_squared"
      ],
      "execution_count": 83,
      "outputs": [
        {
          "output_type": "execute_result",
          "data": {
            "text/plain": [
              "0.6742335984460303"
            ]
          },
          "metadata": {},
          "execution_count": 83
        }
      ]
    },
    {
      "cell_type": "markdown",
      "metadata": {
        "id": "GLj5zaLiyu5A"
      },
      "source": [
        "# Additional"
      ]
    },
    {
      "cell_type": "markdown",
      "metadata": {
        "id": "2bqXWFpdzEqN"
      },
      "source": [
        "## Visualization"
      ]
    },
    {
      "cell_type": "code",
      "metadata": {
        "colab": {
          "base_uri": "https://localhost:8080/",
          "height": 274
        },
        "id": "tssAT4Hryj7J",
        "outputId": "d4db8ae2-974c-44f3-fac8-01f85a94bac4"
      },
      "source": [
        "# Data Visualisation\n",
        "import matplotlib.pyplot as plt \n",
        "import seaborn as sns\n",
        "# Let's see the correlation between different variables.\n",
        "sns.heatmap(df.corr(),annot= True)# , cmap=\"YlGnBu\", annot = True\n",
        "plt.show()"
      ],
      "execution_count": 84,
      "outputs": [
        {
          "output_type": "display_data",
          "data": {
            "image/png": "[encoded data removed]",
            "text/plain": [
              "<Figure size 432x288 with 2 Axes>"
            ]
          },
          "metadata": {
            "needs_background": "light"
          }
        }
      ]
    },
    {
      "cell_type": "code",
      "metadata": {
        "colab": {
          "base_uri": "https://localhost:8080/",
          "height": 490
        },
        "id": "dzr4K1-UzKQ7",
        "outputId": "91921959-cc13-49dd-a52e-e3adcd2a95e0"
      },
      "source": [
        "# Outlier Analysis\n",
        "fig, axs = plt.subplots(3, figsize = (5,5))\n",
        "plt1 = sns.boxplot(df['TV'], ax = axs[0])\n",
        "plt2 = sns.boxplot(df['newspaper'], ax = axs[1])\n",
        "plt3 = sns.boxplot(df['radio'], ax = axs[2])\n",
        "plt.tight_layout()"
      ],
      "execution_count": 85,
      "outputs": [
        {
          "output_type": "stream",
          "name": "stderr",
          "text": [
            "/usr/local/lib/python3.7/dist-packages/seaborn/_decorators.py:43: FutureWarning: Pass the following variable as a keyword arg: x. From version 0.12, the only valid positional argument will be `data`, and passing other arguments without an explicit keyword will result in an error or misinterpretation.\n",
            "  FutureWarning\n",
            "/usr/local/lib/python3.7/dist-packages/seaborn/_decorators.py:43: FutureWarning: Pass the following variable as a keyword arg: x. From version 0.12, the only valid positional argument will be `data`, and passing other arguments without an explicit keyword will result in an error or misinterpretation.\n",
            "  FutureWarning\n",
            "/usr/local/lib/python3.7/dist-packages/seaborn/_decorators.py:43: FutureWarning: Pass the following variable as a keyword arg: x. From version 0.12, the only valid positional argument will be `data`, and passing other arguments without an explicit keyword will result in an error or misinterpretation.\n",
            "  FutureWarning\n"
          ]
        },
        {
          "output_type": "display_data",
          "data": {
            "image/png": "[encoded data removed]",
            "text/plain": [
              "<Figure size 360x360 with 3 Axes>"
            ]
          },
          "metadata": {
            "needs_background": "light"
          }
        }
      ]
    },
    {
      "cell_type": "code",
      "metadata": {
        "id": "PDxNKgkBzldN"
      },
      "source": [
        "# There are no considerable outliers present in the data."
      ],
      "execution_count": 86,
      "outputs": []
    },
    {
      "cell_type": "code",
      "metadata": {
        "colab": {
          "base_uri": "https://localhost:8080/",
          "height": 265
        },
        "id": "1kTfuLpSzdxG",
        "outputId": "9ef1323d-9e5f-4ba3-f417-3e6e8066a1a4"
      },
      "source": [
        "plt.scatter(X_train, y_train)\n",
        "plt.plot(X_train, 7.1177 + 0.0483*X_train, 'r')\n",
        "plt.show()"
      ],
      "execution_count": 87,
      "outputs": [
        {
          "output_type": "display_data",
          "data": {
            "image/png": "[encoded data removed]",
            "text/plain": [
              "<Figure size 432x288 with 1 Axes>"
            ]
          },
          "metadata": {
            "needs_background": "light"
          }
        }
      ]
    },
    {
      "cell_type": "markdown",
      "metadata": {
        "id": "KZncFSng5TbE"
      },
      "source": [
        "# Using Sklearn"
      ]
    },
    {
      "cell_type": "code",
      "metadata": {
        "colab": {
          "base_uri": "https://localhost:8080/"
        },
        "id": "8ZeSt-k12Rc1",
        "outputId": "6b16f5c2-4566-4fe7-d0c8-2a0f49f13f4d"
      },
      "source": [
        "from sklearn.linear_model import LinearRegression\n",
        "# To read data as dataframe\n",
        "df = pd.read_csv('https://raw.githubusercontent.com/philsaurabh/Tutorials/main/Advertising.csv')\n",
        "print(df.head())"
      ],
      "execution_count": 88,
      "outputs": [
        {
          "output_type": "stream",
          "name": "stdout",
          "text": [
            "   Unnamed: 0     TV  radio  newspaper  sales\n",
            "0           1  230.1   37.8       69.2   22.1\n",
            "1           2   44.5   39.3       45.1   10.4\n",
            "2           3   17.2   45.9       69.3    9.3\n",
            "3           4  151.5   41.3       58.5   18.5\n",
            "4           5  180.8   10.8       58.4   12.9\n"
          ]
        }
      ]
    },
    {
      "cell_type": "code",
      "metadata": {
        "id": "a8utqFe50FRF",
        "outputId": "5793c6c6-51c9-444a-f6a8-187fd0cb92c4",
        "colab": {
          "base_uri": "https://localhost:8080/"
        }
      },
      "source": [
        "feature_cols=['TV','radio']\n",
        "X = df[feature_cols]\n",
        "y = df['sales']\n",
        "#print(X)\n",
        "X_train, X_test, y_train, y_test = train_test_split(X, y, train_size = 0.8, test_size = 0.2)# random_state = 100\n",
        "reg = LinearRegression().fit(X_train, y_train)\n",
        "print(reg.score(X_train, y_train))\n",
        "reg.score(X_test, y_test)"
      ],
      "execution_count": 89,
      "outputs": [
        {
          "output_type": "stream",
          "name": "stdout",
          "text": [
            "0.9161138176157604\n"
          ]
        },
        {
          "output_type": "execute_result",
          "data": {
            "text/plain": [
              "0.7850821006379114"
            ]
          },
          "metadata": {},
          "execution_count": 89
        }
      ]
    },
    {
      "cell_type": "code",
      "metadata": {
        "id": "OHnCnQV60ifh",
        "outputId": "946ea5c6-227a-4b74-e8b9-15458fc8b032",
        "colab": {
          "base_uri": "https://localhost:8080/"
        }
      },
      "source": [
        "zip(feature_cols,reg.coef_)"
      ],
      "execution_count": 90,
      "outputs": [
        {
          "output_type": "execute_result",
          "data": {
            "text/plain": [
              "<zip at 0x7f6445e55460>"
            ]
          },
          "metadata": {},
          "execution_count": 90
        }
      ]
    },
    {
      "cell_type": "code",
      "metadata": {
        "id": "F5kEY8mD0p37"
      },
      "source": [
        "y_pred=reg.predict(X_test)"
      ],
      "execution_count": 91,
      "outputs": []
    },
    {
      "cell_type": "code",
      "metadata": {
        "id": "OogoKlz404TB",
        "outputId": "164f9160-a53c-44ad-dbb4-c2bcd41069bb",
        "colab": {
          "base_uri": "https://localhost:8080/"
        }
      },
      "source": [
        "from sklearn import metrics\n",
        "print(metrics.mean_squared_error(y_test,y_pred))"
      ],
      "execution_count": 92,
      "outputs": [
        {
          "output_type": "stream",
          "name": "stdout",
          "text": [
            "4.929056054709757\n"
          ]
        }
      ]
    },
    {
      "cell_type": "code",
      "metadata": {
        "id": "Q5yRUGXZ1KnF",
        "outputId": "d9ace82f-d2b3-4cc5-ddf5-2fe285b2cf35",
        "colab": {
          "base_uri": "https://localhost:8080/"
        }
      },
      "source": [
        "print(metrics.mean_absolute_error(y_test,y_pred))"
      ],
      "execution_count": 93,
      "outputs": [
        {
          "output_type": "stream",
          "name": "stdout",
          "text": [
            "1.555072456593243\n"
          ]
        }
      ]
    },
    {
      "cell_type": "code",
      "metadata": {
        "id": "7h1uTJA21QVv",
        "outputId": "64e038c1-f880-408a-cd3d-f2ac58221b2b",
        "colab": {
          "base_uri": "https://localhost:8080/"
        }
      },
      "source": [
        "print(np.sqrt(metrics.mean_squared_error(y_test,y_pred)))#rmse"
      ],
      "execution_count": 94,
      "outputs": [
        {
          "output_type": "stream",
          "name": "stdout",
          "text": [
            "2.2201477551527415\n"
          ]
        }
      ]
    }
  ]
}