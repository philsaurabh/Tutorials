{
  "nbformat": 4,
  "nbformat_minor": 0,
  "metadata": {
    "colab": {
      "name": "Testing_tutorial.ipynb",
      "provenance": [],
      "authorship_tag": "ABX9TyN52+1V7H08UDEVeL6yUjWC",
      "include_colab_link": true
    },
    "kernelspec": {
      "name": "python3",
      "display_name": "Python 3"
    },
    "language_info": {
      "name": "python"
    }
  },
  "cells": [
    {
      "cell_type": "markdown",
      "metadata": {
        "id": "view-in-github",
        "colab_type": "text"
      },
      "source": [
        "<a href=\"https://colab.research.google.com/github/philsaurabh/Tutorials/blob/main/Testing_tutorial.ipynb\" target=\"_parent\"><img src=\"https://colab.research.google.com/assets/colab-badge.svg\" alt=\"Open In Colab\"/></a>"
      ]
    },
    {
      "cell_type": "markdown",
      "metadata": {
        "id": "kIsVrkAYvhZ6"
      },
      "source": [
        "# Scipy\n",
        "SciPy stands for Scientific Python.\n",
        "\n",
        "It provides more utility functions for optimization, stats and signal processing.\n",
        "\n",
        "# statmodels\n",
        "\n",
        "statsmodels is a Python module that provides classes and functions for the estimation of many different statistical models, as well as for conducting statistical tests, and statistical data exploration. "
      ]
    },
    {
      "cell_type": "markdown",
      "metadata": {
        "id": "o2mzBgA8B-2B"
      },
      "source": [
        "# Importing Libraries"
      ]
    },
    {
      "cell_type": "code",
      "metadata": {
        "id": "b2iRX35_B1ib",
        "colab": {
          "base_uri": "https://localhost:8080/"
        },
        "outputId": "b15e9273-ba85-42e1-d8dc-4b3fb3de26f5"
      },
      "source": [
        "import pandas as pd\n",
        "import scipy.stats as st\n",
        "import statsmodels.api as sm\n",
        "from statsmodels.formula.api import ols"
      ],
      "execution_count": 1,
      "outputs": [
        {
          "output_type": "stream",
          "name": "stderr",
          "text": [
            "/usr/local/lib/python3.7/dist-packages/statsmodels/tools/_testing.py:19: FutureWarning: pandas.util.testing is deprecated. Use the functions in the public API at pandas.testing instead.\n",
            "  import pandas.util.testing as tm\n"
          ]
        }
      ]
    },
    {
      "cell_type": "code",
      "metadata": {
        "id": "Po3bju8yEGAT",
        "colab": {
          "base_uri": "https://localhost:8080/",
          "height": 203
        },
        "outputId": "5039654a-34e1-4b7c-d1c7-ac8b80c88a55"
      },
      "source": [
        "# To read data as dataframe\n",
        "df = pd.read_csv('https://raw.githubusercontent.com/philsaurabh/Tutorials/main/Advertising.csv')\n",
        "df.head()"
      ],
      "execution_count": 2,
      "outputs": [
        {
          "output_type": "execute_result",
          "data": {
            "text/html": [
              "<div>\n",
              "<style scoped>\n",
              "    .dataframe tbody tr th:only-of-type {\n",
              "        vertical-align: middle;\n",
              "    }\n",
              "\n",
              "    .dataframe tbody tr th {\n",
              "        vertical-align: top;\n",
              "    }\n",
              "\n",
              "    .dataframe thead th {\n",
              "        text-align: right;\n",
              "    }\n",
              "</style>\n",
              "<table border=\"1\" class=\"dataframe\">\n",
              "  <thead>\n",
              "    <tr style=\"text-align: right;\">\n",
              "      <th></th>\n",
              "      <th>Unnamed: 0</th>\n",
              "      <th>TV</th>\n",
              "      <th>radio</th>\n",
              "      <th>newspaper</th>\n",
              "      <th>sales</th>\n",
              "    </tr>\n",
              "  </thead>\n",
              "  <tbody>\n",
              "    <tr>\n",
              "      <th>0</th>\n",
              "      <td>1</td>\n",
              "      <td>230.1</td>\n",
              "      <td>37.8</td>\n",
              "      <td>69.2</td>\n",
              "      <td>22.1</td>\n",
              "    </tr>\n",
              "    <tr>\n",
              "      <th>1</th>\n",
              "      <td>2</td>\n",
              "      <td>44.5</td>\n",
              "      <td>39.3</td>\n",
              "      <td>45.1</td>\n",
              "      <td>10.4</td>\n",
              "    </tr>\n",
              "    <tr>\n",
              "      <th>2</th>\n",
              "      <td>3</td>\n",
              "      <td>17.2</td>\n",
              "      <td>45.9</td>\n",
              "      <td>69.3</td>\n",
              "      <td>9.3</td>\n",
              "    </tr>\n",
              "    <tr>\n",
              "      <th>3</th>\n",
              "      <td>4</td>\n",
              "      <td>151.5</td>\n",
              "      <td>41.3</td>\n",
              "      <td>58.5</td>\n",
              "      <td>18.5</td>\n",
              "    </tr>\n",
              "    <tr>\n",
              "      <th>4</th>\n",
              "      <td>5</td>\n",
              "      <td>180.8</td>\n",
              "      <td>10.8</td>\n",
              "      <td>58.4</td>\n",
              "      <td>12.9</td>\n",
              "    </tr>\n",
              "  </tbody>\n",
              "</table>\n",
              "</div>"
            ],
            "text/plain": [
              "   Unnamed: 0     TV  radio  newspaper  sales\n",
              "0           1  230.1   37.8       69.2   22.1\n",
              "1           2   44.5   39.3       45.1   10.4\n",
              "2           3   17.2   45.9       69.3    9.3\n",
              "3           4  151.5   41.3       58.5   18.5\n",
              "4           5  180.8   10.8       58.4   12.9"
            ]
          },
          "metadata": {},
          "execution_count": 2
        }
      ]
    },
    {
      "cell_type": "markdown",
      "metadata": {
        "id": "MoIui_d6weCF"
      },
      "source": [
        "# Percent Point Function\n",
        "To find the median of a distribution, we can use the percent point function ppf, which is the inverse of the cdf"
      ]
    },
    {
      "cell_type": "markdown",
      "metadata": {
        "id": "tDe-WzW6kjYK"
      },
      "source": [
        "Normal Curve, Mean=0, Std=1.\n",
        "We are Providing Shared area to get critical value(Reverse for cdf)"
      ]
    },
    {
      "cell_type": "code",
      "metadata": {
        "colab": {
          "base_uri": "https://localhost:8080/"
        },
        "id": "3acXc3IjCH2m",
        "outputId": "9357da36-e05a-4e7c-9e1e-6abd479a61ea"
      },
      "source": [
        "st.norm.ppf(.95)\n",
        "#st.norm.ppf([.95,0.05])"
      ],
      "execution_count": 3,
      "outputs": [
        {
          "output_type": "execute_result",
          "data": {
            "text/plain": [
              "1.6448536269514722"
            ]
          },
          "metadata": {},
          "execution_count": 3
        }
      ]
    },
    {
      "cell_type": "code",
      "metadata": {
        "colab": {
          "base_uri": "https://localhost:8080/"
        },
        "id": "Zl6Z3xrWCQbF",
        "outputId": "8d5d532b-d549-4f1e-a194-6a000fc40120"
      },
      "source": [
        "a=st.norm.ppf(.975)\n",
        "b=st.norm.ppf(.025)\n",
        "two_sided=a-b\n",
        "two_sided"
      ],
      "execution_count": 4,
      "outputs": [
        {
          "output_type": "execute_result",
          "data": {
            "text/plain": [
              "3.9199279690801085"
            ]
          },
          "metadata": {},
          "execution_count": 4
        }
      ]
    },
    {
      "cell_type": "markdown",
      "metadata": {
        "id": "YPrXTd1lw0jc"
      },
      "source": [
        "# Cumulative Distribution Function"
      ]
    },
    {
      "cell_type": "code",
      "metadata": {
        "colab": {
          "base_uri": "https://localhost:8080/"
        },
        "id": "NQg7ANgMCNse",
        "outputId": "914fd09b-fd42-4f84-8c48-2990d1f80919"
      },
      "source": [
        "st.norm.cdf(1.64)\n",
        "#st.norm.cdf([1.,0,-1.])# For more than one point\n",
        "#st.norm.cdf(df['TV'])"
      ],
      "execution_count": 5,
      "outputs": [
        {
          "output_type": "execute_result",
          "data": {
            "text/plain": [
              "0.9494974165258963"
            ]
          },
          "metadata": {},
          "execution_count": 5
        }
      ]
    },
    {
      "cell_type": "markdown",
      "metadata": {
        "id": "bKFiBsep6pdX"
      },
      "source": [
        "# Critical value for z"
      ]
    },
    {
      "cell_type": "markdown",
      "metadata": {
        "id": "ucVHfI3KDW4o"
      },
      "source": [
        "```\n",
        "z-critical = stats.norm.ppf(1 - alpha) (use alpha = alpha/2 for two-sided)\n",
        "t-critical = stats.t.ppf(alpha/numOfTails, ddof)\n",
        "```"
      ]
    },
    {
      "cell_type": "code",
      "metadata": {
        "colab": {
          "base_uri": "https://localhost:8080/"
        },
        "id": "N3O6cT6KCeVS",
        "outputId": "4e90a48a-9d49-4aeb-f70b-06a9fc0d721d"
      },
      "source": [
        "# alpha to critical\n",
        "alpha = 0.05\n",
        "n_sided = 2 # 2-sided test\n",
        "z_crit = st.norm.ppf(1-alpha/n_sided)\n",
        "print('Z critical value: ',z_crit) "
      ],
      "execution_count": 6,
      "outputs": [
        {
          "output_type": "stream",
          "name": "stdout",
          "text": [
            "Z critical value:  1.959963984540054\n"
          ]
        }
      ]
    },
    {
      "cell_type": "code",
      "metadata": {
        "colab": {
          "base_uri": "https://localhost:8080/"
        },
        "id": "gikJjP-RDFJ4",
        "outputId": "4ccf9b63-77d8-4d1a-a5b6-3d0cd261bfe1"
      },
      "source": [
        "# critical to alpha\n",
        "alpha = st.norm.sf(z_crit) * n_sided\n",
        "print('alpha: ',alpha) "
      ],
      "execution_count": 7,
      "outputs": [
        {
          "output_type": "stream",
          "name": "stdout",
          "text": [
            "alpha:  0.05\n"
          ]
        }
      ]
    },
    {
      "cell_type": "markdown",
      "metadata": {
        "id": "jykV2qlreC1r"
      },
      "source": [
        "Each z-score tells us how many standard deviations away an individual value is from the mean."
      ]
    },
    {
      "cell_type": "code",
      "metadata": {
        "colab": {
          "base_uri": "https://localhost:8080/",
          "height": 417
        },
        "id": "9ydhpXS3dczV",
        "outputId": "b084209d-f596-454c-f0c3-8782b41b489d"
      },
      "source": [
        "df.apply(st.zscore)\n",
        "#st.zscore(df['TV'])"
      ],
      "execution_count": 8,
      "outputs": [
        {
          "output_type": "execute_result",
          "data": {
            "text/html": [
              "<div>\n",
              "<style scoped>\n",
              "    .dataframe tbody tr th:only-of-type {\n",
              "        vertical-align: middle;\n",
              "    }\n",
              "\n",
              "    .dataframe tbody tr th {\n",
              "        vertical-align: top;\n",
              "    }\n",
              "\n",
              "    .dataframe thead th {\n",
              "        text-align: right;\n",
              "    }\n",
              "</style>\n",
              "<table border=\"1\" class=\"dataframe\">\n",
              "  <thead>\n",
              "    <tr style=\"text-align: right;\">\n",
              "      <th></th>\n",
              "      <th>Unnamed: 0</th>\n",
              "      <th>TV</th>\n",
              "      <th>radio</th>\n",
              "      <th>newspaper</th>\n",
              "      <th>sales</th>\n",
              "    </tr>\n",
              "  </thead>\n",
              "  <tbody>\n",
              "    <tr>\n",
              "      <th>0</th>\n",
              "      <td>-1.723412</td>\n",
              "      <td>0.969852</td>\n",
              "      <td>0.981522</td>\n",
              "      <td>1.778945</td>\n",
              "      <td>1.552053</td>\n",
              "    </tr>\n",
              "    <tr>\n",
              "      <th>1</th>\n",
              "      <td>-1.706091</td>\n",
              "      <td>-1.197376</td>\n",
              "      <td>1.082808</td>\n",
              "      <td>0.669579</td>\n",
              "      <td>-0.696046</td>\n",
              "    </tr>\n",
              "    <tr>\n",
              "      <th>2</th>\n",
              "      <td>-1.688771</td>\n",
              "      <td>-1.516155</td>\n",
              "      <td>1.528463</td>\n",
              "      <td>1.783549</td>\n",
              "      <td>-0.907406</td>\n",
              "    </tr>\n",
              "    <tr>\n",
              "      <th>3</th>\n",
              "      <td>-1.671450</td>\n",
              "      <td>0.052050</td>\n",
              "      <td>1.217855</td>\n",
              "      <td>1.286405</td>\n",
              "      <td>0.860330</td>\n",
              "    </tr>\n",
              "    <tr>\n",
              "      <th>4</th>\n",
              "      <td>-1.654129</td>\n",
              "      <td>0.394182</td>\n",
              "      <td>-0.841614</td>\n",
              "      <td>1.281802</td>\n",
              "      <td>-0.215683</td>\n",
              "    </tr>\n",
              "    <tr>\n",
              "      <th>...</th>\n",
              "      <td>...</td>\n",
              "      <td>...</td>\n",
              "      <td>...</td>\n",
              "      <td>...</td>\n",
              "      <td>...</td>\n",
              "    </tr>\n",
              "    <tr>\n",
              "      <th>195</th>\n",
              "      <td>1.654129</td>\n",
              "      <td>-1.270941</td>\n",
              "      <td>-1.321031</td>\n",
              "      <td>-0.771217</td>\n",
              "      <td>-1.234053</td>\n",
              "    </tr>\n",
              "    <tr>\n",
              "      <th>196</th>\n",
              "      <td>1.671450</td>\n",
              "      <td>-0.617035</td>\n",
              "      <td>-1.240003</td>\n",
              "      <td>-1.033598</td>\n",
              "      <td>-0.830548</td>\n",
              "    </tr>\n",
              "    <tr>\n",
              "      <th>197</th>\n",
              "      <td>1.688771</td>\n",
              "      <td>0.349810</td>\n",
              "      <td>-0.942899</td>\n",
              "      <td>-1.111852</td>\n",
              "      <td>-0.234898</td>\n",
              "    </tr>\n",
              "    <tr>\n",
              "      <th>198</th>\n",
              "      <td>1.706091</td>\n",
              "      <td>1.594565</td>\n",
              "      <td>1.265121</td>\n",
              "      <td>1.640850</td>\n",
              "      <td>2.205347</td>\n",
              "    </tr>\n",
              "    <tr>\n",
              "      <th>199</th>\n",
              "      <td>1.723412</td>\n",
              "      <td>0.993206</td>\n",
              "      <td>-0.990165</td>\n",
              "      <td>-1.005979</td>\n",
              "      <td>-0.119610</td>\n",
              "    </tr>\n",
              "  </tbody>\n",
              "</table>\n",
              "<p>200 rows × 5 columns</p>\n",
              "</div>"
            ],
            "text/plain": [
              "     Unnamed: 0        TV     radio  newspaper     sales\n",
              "0     -1.723412  0.969852  0.981522   1.778945  1.552053\n",
              "1     -1.706091 -1.197376  1.082808   0.669579 -0.696046\n",
              "2     -1.688771 -1.516155  1.528463   1.783549 -0.907406\n",
              "3     -1.671450  0.052050  1.217855   1.286405  0.860330\n",
              "4     -1.654129  0.394182 -0.841614   1.281802 -0.215683\n",
              "..          ...       ...       ...        ...       ...\n",
              "195    1.654129 -1.270941 -1.321031  -0.771217 -1.234053\n",
              "196    1.671450 -0.617035 -1.240003  -1.033598 -0.830548\n",
              "197    1.688771  0.349810 -0.942899  -1.111852 -0.234898\n",
              "198    1.706091  1.594565  1.265121   1.640850  2.205347\n",
              "199    1.723412  0.993206 -0.990165  -1.005979 -0.119610\n",
              "\n",
              "[200 rows x 5 columns]"
            ]
          },
          "metadata": {},
          "execution_count": 8
        }
      ]
    },
    {
      "cell_type": "markdown",
      "metadata": {
        "id": "xzxTw_Yn6yYP"
      },
      "source": [
        "# T- stats"
      ]
    },
    {
      "cell_type": "code",
      "metadata": {
        "colab": {
          "base_uri": "https://localhost:8080/"
        },
        "id": "ttSC1fqRDLaJ",
        "outputId": "a94b4c49-6481-4f4c-9b44-2a7b0c4f2818"
      },
      "source": [
        "#n=999, p<0.05, 2-tail\n",
        "#p/2=0.025\n",
        "print(st.t.ppf(1-0.025, 999))\n",
        "\n",
        "#n=999, p<0.05%, Single tail\n",
        "print(st.t.ppf(1-0.05, 999)-st.t.ppf(1-0.025, 999))"
      ],
      "execution_count": 9,
      "outputs": [
        {
          "output_type": "stream",
          "name": "stdout",
          "text": [
            "1.9623414611334487\n",
            "-0.3159611157059137\n"
          ]
        }
      ]
    },
    {
      "cell_type": "markdown",
      "metadata": {
        "id": "hjxkc9zD7nX_"
      },
      "source": [
        "# One-Way Anova\n",
        "Null Hypothesis: Means of the samples are following same distribution or not."
      ]
    },
    {
      "cell_type": "code",
      "metadata": {
        "id": "DrREu92xET3S"
      },
      "source": [
        "a= df['TV']\n",
        "b= df['radio']\n",
        "c= df['newspaper']\n",
        "F,p=st.f_oneway(a,b,c)"
      ],
      "execution_count": 10,
      "outputs": []
    },
    {
      "cell_type": "code",
      "metadata": {
        "colab": {
          "base_uri": "https://localhost:8080/"
        },
        "id": "URITdHo4FAik",
        "outputId": "0c1fb783-58ae-42a4-f0bd-41954735899a"
      },
      "source": [
        "F"
      ],
      "execution_count": 11,
      "outputs": [
        {
          "output_type": "execute_result",
          "data": {
            "text/plain": [
              "358.8514595342597"
            ]
          },
          "metadata": {},
          "execution_count": 11
        }
      ]
    },
    {
      "cell_type": "code",
      "metadata": {
        "colab": {
          "base_uri": "https://localhost:8080/"
        },
        "id": "egOQdm5QFKtu",
        "outputId": "04796890-7bcd-43f8-9459-f7d408979a10"
      },
      "source": [
        "p"
      ],
      "execution_count": 12,
      "outputs": [
        {
          "output_type": "execute_result",
          "data": {
            "text/plain": [
              "4.552931539744962e-103"
            ]
          },
          "metadata": {},
          "execution_count": 12
        }
      ]
    },
    {
      "cell_type": "markdown",
      "metadata": {
        "id": "pO6leuNIh0Zg"
      },
      "source": [
        "# Additional"
      ]
    },
    {
      "cell_type": "markdown",
      "metadata": {
        "id": "q8wTNoFZ70yu"
      },
      "source": [
        "# Two- Way ANOVA"
      ]
    },
    {
      "cell_type": "code",
      "metadata": {
        "colab": {
          "base_uri": "https://localhost:8080/",
          "height": 110
        },
        "id": "rUTIWam2GNX5",
        "outputId": "794131fd-efe6-4b50-f974-2e60edccddea"
      },
      "source": [
        "df_melt = pd.melt(df.reset_index(), id_vars=['index'], value_vars=['TV', 'radio', 'newspaper', 'sales'])\n",
        "# replace column names\n",
        "df_melt.columns = ['index', 'treatments', 'value']\n",
        "# Ordinary Least Squares (OLS) model\n",
        "model = ols('value ~ C(treatments)', data=df_melt).fit()\n",
        "anova_table = sm.stats.anova_lm(model, typ=2)\n",
        "anova_table"
      ],
      "execution_count": 13,
      "outputs": [
        {
          "output_type": "execute_result",
          "data": {
            "text/html": [
              "<div>\n",
              "<style scoped>\n",
              "    .dataframe tbody tr th:only-of-type {\n",
              "        vertical-align: middle;\n",
              "    }\n",
              "\n",
              "    .dataframe tbody tr th {\n",
              "        vertical-align: top;\n",
              "    }\n",
              "\n",
              "    .dataframe thead th {\n",
              "        text-align: right;\n",
              "    }\n",
              "</style>\n",
              "<table border=\"1\" class=\"dataframe\">\n",
              "  <thead>\n",
              "    <tr style=\"text-align: right;\">\n",
              "      <th></th>\n",
              "      <th>sum_sq</th>\n",
              "      <th>df</th>\n",
              "      <th>F</th>\n",
              "      <th>PR(&gt;F)</th>\n",
              "    </tr>\n",
              "  </thead>\n",
              "  <tbody>\n",
              "    <tr>\n",
              "      <th>C(treatments)</th>\n",
              "      <td>2.349842e+06</td>\n",
              "      <td>3.0</td>\n",
              "      <td>387.144309</td>\n",
              "      <td>5.150514e-155</td>\n",
              "    </tr>\n",
              "    <tr>\n",
              "      <th>Residual</th>\n",
              "      <td>1.610489e+06</td>\n",
              "      <td>796.0</td>\n",
              "      <td>NaN</td>\n",
              "      <td>NaN</td>\n",
              "    </tr>\n",
              "  </tbody>\n",
              "</table>\n",
              "</div>"
            ],
            "text/plain": [
              "                     sum_sq     df           F         PR(>F)\n",
              "C(treatments)  2.349842e+06    3.0  387.144309  5.150514e-155\n",
              "Residual       1.610489e+06  796.0         NaN            NaN"
            ]
          },
          "metadata": {},
          "execution_count": 13
        }
      ]
    },
    {
      "cell_type": "markdown",
      "metadata": {
        "id": "JnogtXRqhgrK"
      },
      "source": [
        "# T Test (Two sided dependent)"
      ]
    },
    {
      "cell_type": "code",
      "metadata": {
        "colab": {
          "base_uri": "https://localhost:8080/",
          "height": 203
        },
        "id": "0qKpwtkIgjBM",
        "outputId": "6fe4c9cb-84ae-46c2-d916-a0b837a00afe"
      },
      "source": [
        "# To read data as dataframe\n",
        "data = pd.read_csv('https://raw.githubusercontent.com/philsaurabh/Tutorials/main/Credit.csv')\n",
        "data.head()"
      ],
      "execution_count": 14,
      "outputs": [
        {
          "output_type": "execute_result",
          "data": {
            "text/html": [
              "<div>\n",
              "<style scoped>\n",
              "    .dataframe tbody tr th:only-of-type {\n",
              "        vertical-align: middle;\n",
              "    }\n",
              "\n",
              "    .dataframe tbody tr th {\n",
              "        vertical-align: top;\n",
              "    }\n",
              "\n",
              "    .dataframe thead th {\n",
              "        text-align: right;\n",
              "    }\n",
              "</style>\n",
              "<table border=\"1\" class=\"dataframe\">\n",
              "  <thead>\n",
              "    <tr style=\"text-align: right;\">\n",
              "      <th></th>\n",
              "      <th>Unnamed: 0</th>\n",
              "      <th>Income</th>\n",
              "      <th>Limit</th>\n",
              "      <th>Rating</th>\n",
              "      <th>Cards</th>\n",
              "      <th>Age</th>\n",
              "      <th>Education</th>\n",
              "      <th>Gender</th>\n",
              "      <th>Student</th>\n",
              "      <th>Married</th>\n",
              "      <th>Ethnicity</th>\n",
              "      <th>Balance</th>\n",
              "      <th>Defaultee</th>\n",
              "    </tr>\n",
              "  </thead>\n",
              "  <tbody>\n",
              "    <tr>\n",
              "      <th>0</th>\n",
              "      <td>1</td>\n",
              "      <td>14.891</td>\n",
              "      <td>3606</td>\n",
              "      <td>283</td>\n",
              "      <td>2</td>\n",
              "      <td>34</td>\n",
              "      <td>11</td>\n",
              "      <td>Male</td>\n",
              "      <td>No</td>\n",
              "      <td>Yes</td>\n",
              "      <td>Caucasian</td>\n",
              "      <td>333</td>\n",
              "      <td>0</td>\n",
              "    </tr>\n",
              "    <tr>\n",
              "      <th>1</th>\n",
              "      <td>2</td>\n",
              "      <td>106.025</td>\n",
              "      <td>6645</td>\n",
              "      <td>483</td>\n",
              "      <td>3</td>\n",
              "      <td>82</td>\n",
              "      <td>15</td>\n",
              "      <td>Female</td>\n",
              "      <td>Yes</td>\n",
              "      <td>Yes</td>\n",
              "      <td>Asian</td>\n",
              "      <td>903</td>\n",
              "      <td>0</td>\n",
              "    </tr>\n",
              "    <tr>\n",
              "      <th>2</th>\n",
              "      <td>3</td>\n",
              "      <td>104.593</td>\n",
              "      <td>7075</td>\n",
              "      <td>514</td>\n",
              "      <td>4</td>\n",
              "      <td>71</td>\n",
              "      <td>11</td>\n",
              "      <td>Male</td>\n",
              "      <td>No</td>\n",
              "      <td>No</td>\n",
              "      <td>Asian</td>\n",
              "      <td>580</td>\n",
              "      <td>0</td>\n",
              "    </tr>\n",
              "    <tr>\n",
              "      <th>3</th>\n",
              "      <td>4</td>\n",
              "      <td>148.924</td>\n",
              "      <td>9504</td>\n",
              "      <td>681</td>\n",
              "      <td>3</td>\n",
              "      <td>36</td>\n",
              "      <td>11</td>\n",
              "      <td>Female</td>\n",
              "      <td>No</td>\n",
              "      <td>No</td>\n",
              "      <td>Asian</td>\n",
              "      <td>964</td>\n",
              "      <td>0</td>\n",
              "    </tr>\n",
              "    <tr>\n",
              "      <th>4</th>\n",
              "      <td>5</td>\n",
              "      <td>55.882</td>\n",
              "      <td>4897</td>\n",
              "      <td>357</td>\n",
              "      <td>2</td>\n",
              "      <td>68</td>\n",
              "      <td>16</td>\n",
              "      <td>Male</td>\n",
              "      <td>No</td>\n",
              "      <td>Yes</td>\n",
              "      <td>Caucasian</td>\n",
              "      <td>331</td>\n",
              "      <td>0</td>\n",
              "    </tr>\n",
              "  </tbody>\n",
              "</table>\n",
              "</div>"
            ],
            "text/plain": [
              "   Unnamed: 0   Income  Limit  Rating  ...  Married  Ethnicity  Balance Defaultee\n",
              "0           1   14.891   3606     283  ...      Yes  Caucasian      333         0\n",
              "1           2  106.025   6645     483  ...      Yes      Asian      903         0\n",
              "2           3  104.593   7075     514  ...       No      Asian      580         0\n",
              "3           4  148.924   9504     681  ...       No      Asian      964         0\n",
              "4           5   55.882   4897     357  ...      Yes  Caucasian      331         0\n",
              "\n",
              "[5 rows x 13 columns]"
            ]
          },
          "metadata": {},
          "execution_count": 14
        }
      ]
    },
    {
      "cell_type": "code",
      "metadata": {
        "colab": {
          "base_uri": "https://localhost:8080/"
        },
        "id": "_RtwJuPcgnl8",
        "outputId": "e967bdf1-ffe0-4c34-de78-0c27b91cdd30"
      },
      "source": [
        "from scipy.stats import ttest_ind\n",
        "\n",
        "male = data[data['Gender']=='Male']\n",
        "female = data[data['Gender']=='Female']\n",
        "\n",
        "ttest_ind(male['Defaultee'], female['Defaultee'])"
      ],
      "execution_count": 15,
      "outputs": [
        {
          "output_type": "execute_result",
          "data": {
            "text/plain": [
              "Ttest_indResult(statistic=0.06754766913026408, pvalue=0.9461796342145767)"
            ]
          },
          "metadata": {},
          "execution_count": 15
        }
      ]
    },
    {
      "cell_type": "code",
      "metadata": {
        "colab": {
          "base_uri": "https://localhost:8080/"
        },
        "id": "UxE-8DuWD7ks",
        "outputId": "77aa3271-1045-465c-952f-b7206b897c32"
      },
      "source": [
        "# Another Example\n",
        "# n = 9, degree of freedom = 9-1 = 8\n",
        "# for 99% confidence interval, alpha = 1% = 0.01 and alpha/2 = 0.005\n",
        "ci = 99\n",
        "n = 9\n",
        "t = st.t.ppf(1- ((100-ci)/2/100), n-1) # 99% CI, t8,0.005\n",
        "print(t)"
      ],
      "execution_count": 16,
      "outputs": [
        {
          "output_type": "stream",
          "name": "stdout",
          "text": [
            "3.3553873313333957\n"
          ]
        }
      ]
    },
    {
      "cell_type": "markdown",
      "metadata": {
        "id": "ebe7q_iFoEs0"
      },
      "source": [
        "# Chi-Square"
      ]
    },
    {
      "cell_type": "code",
      "metadata": {
        "id": "tFTC1hHqoGLV"
      },
      "source": [
        "from scipy.stats import chi2_contingency"
      ],
      "execution_count": 17,
      "outputs": []
    },
    {
      "cell_type": "markdown",
      "metadata": {
        "id": "C9G_NPaNotEb"
      },
      "source": [
        "we want to test if there is a statistically significant difference in Genders (M, F) population between Married and Not Married."
      ]
    },
    {
      "cell_type": "code",
      "metadata": {
        "colab": {
          "base_uri": "https://localhost:8080/",
          "height": 142
        },
        "id": "3F9DenQXoNlR",
        "outputId": "7d504e0f-8000-4561-f621-54b4c7550d9e"
      },
      "source": [
        "contigency= pd.crosstab(data['Gender'], data['Married'])\n",
        "contigency"
      ],
      "execution_count": 19,
      "outputs": [
        {
          "output_type": "execute_result",
          "data": {
            "text/html": [
              "<div>\n",
              "<style scoped>\n",
              "    .dataframe tbody tr th:only-of-type {\n",
              "        vertical-align: middle;\n",
              "    }\n",
              "\n",
              "    .dataframe tbody tr th {\n",
              "        vertical-align: top;\n",
              "    }\n",
              "\n",
              "    .dataframe thead th {\n",
              "        text-align: right;\n",
              "    }\n",
              "</style>\n",
              "<table border=\"1\" class=\"dataframe\">\n",
              "  <thead>\n",
              "    <tr style=\"text-align: right;\">\n",
              "      <th>Married</th>\n",
              "      <th>No</th>\n",
              "      <th>Yes</th>\n",
              "    </tr>\n",
              "    <tr>\n",
              "      <th>Gender</th>\n",
              "      <th></th>\n",
              "      <th></th>\n",
              "    </tr>\n",
              "  </thead>\n",
              "  <tbody>\n",
              "    <tr>\n",
              "      <th>Female</th>\n",
              "      <td>79</td>\n",
              "      <td>128</td>\n",
              "    </tr>\n",
              "    <tr>\n",
              "      <th>Male</th>\n",
              "      <td>76</td>\n",
              "      <td>117</td>\n",
              "    </tr>\n",
              "  </tbody>\n",
              "</table>\n",
              "</div>"
            ],
            "text/plain": [
              "Married  No  Yes\n",
              "Gender          \n",
              "Female   79  128\n",
              "Male     76  117"
            ]
          },
          "metadata": {},
          "execution_count": 19
        }
      ]
    },
    {
      "cell_type": "markdown",
      "metadata": {
        "id": "iSKIInQ4okID"
      },
      "source": [
        "chi2: The test statistic\n",
        "\n",
        "p: The p-value of the test\n",
        "\n",
        "dof: Degrees of freedom\n",
        "\n",
        "expected: The expected frequencies, based on the marginal sums of the table\n"
      ]
    },
    {
      "cell_type": "code",
      "metadata": {
        "colab": {
          "base_uri": "https://localhost:8080/"
        },
        "id": "WBa27iHfoTnK",
        "outputId": "dd271d44-e855-43e8-cc03-988e1604564b"
      },
      "source": [
        "# Chi-square test of independence.\n",
        "c, p, dof, expected = chi2_contingency(contigency)\n",
        "p"
      ],
      "execution_count": 20,
      "outputs": [
        {
          "output_type": "execute_result",
          "data": {
            "text/plain": [
              "0.8836532332904176"
            ]
          },
          "metadata": {},
          "execution_count": 20
        }
      ]
    }
  ]
}