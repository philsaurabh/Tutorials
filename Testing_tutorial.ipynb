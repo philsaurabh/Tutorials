{
  "nbformat": 4,
  "nbformat_minor": 0,
  "metadata": {
    "colab": {
      "name": "Testing_tutorial.ipynb",
      "provenance": [],
      "authorship_tag": "ABX9TyMf1BmJ3RBQ2bj7TzVXgfnN",
      "include_colab_link": true
    },
    "kernelspec": {
      "name": "python3",
      "display_name": "Python 3"
    },
    "language_info": {
      "name": "python"
    }
  },
  "cells": [
    {
      "cell_type": "markdown",
      "metadata": {
        "id": "view-in-github",
        "colab_type": "text"
      },
      "source": [
        "<a href=\"https://colab.research.google.com/github/philsaurabh/Tutorials/blob/main/Testing_tutorial.ipynb\" target=\"_parent\"><img src=\"https://colab.research.google.com/assets/colab-badge.svg\" alt=\"Open In Colab\"/></a>"
      ]
    },
    {
      "cell_type": "markdown",
      "metadata": {
        "id": "kIsVrkAYvhZ6"
      },
      "source": [
        "# Scipy\n",
        "SciPy stands for Scientific Python.\n",
        "\n",
        "It provides more utility functions for optimization, stats and signal processing.\n",
        "\n",
        "# statmodels\n",
        "\n",
        "statsmodels is a Python module that provides classes and functions for the estimation of many different statistical models, as well as for conducting statistical tests, and statistical data exploration. "
      ]
    },
    {
      "cell_type": "markdown",
      "metadata": {
        "id": "o2mzBgA8B-2B"
      },
      "source": [
        "# Importing Libraries"
      ]
    },
    {
      "cell_type": "code",
      "metadata": {
        "id": "b2iRX35_B1ib"
      },
      "source": [
        "import pandas as pd\n",
        "import scipy.stats as st\n",
        "import statsmodels.api as sm\n",
        "from statsmodels.formula.api import ols"
      ],
      "execution_count": 48,
      "outputs": []
    },
    {
      "cell_type": "code",
      "metadata": {
        "id": "Po3bju8yEGAT",
        "colab": {
          "base_uri": "https://localhost:8080/",
          "height": 203
        },
        "outputId": "99388763-dcb3-4c8a-ef9d-60952ff37162"
      },
      "source": [
        "# To read data as dataframe\n",
        "df = pd.read_csv('https://raw.githubusercontent.com/philsaurabh/Tutorials/main/Advertising.csv')\n",
        "df.head()"
      ],
      "execution_count": 49,
      "outputs": [
        {
          "output_type": "execute_result",
          "data": {
            "text/html": [
              "<div>\n",
              "<style scoped>\n",
              "    .dataframe tbody tr th:only-of-type {\n",
              "        vertical-align: middle;\n",
              "    }\n",
              "\n",
              "    .dataframe tbody tr th {\n",
              "        vertical-align: top;\n",
              "    }\n",
              "\n",
              "    .dataframe thead th {\n",
              "        text-align: right;\n",
              "    }\n",
              "</style>\n",
              "<table border=\"1\" class=\"dataframe\">\n",
              "  <thead>\n",
              "    <tr style=\"text-align: right;\">\n",
              "      <th></th>\n",
              "      <th>Unnamed: 0</th>\n",
              "      <th>TV</th>\n",
              "      <th>radio</th>\n",
              "      <th>newspaper</th>\n",
              "      <th>sales</th>\n",
              "    </tr>\n",
              "  </thead>\n",
              "  <tbody>\n",
              "    <tr>\n",
              "      <th>0</th>\n",
              "      <td>1</td>\n",
              "      <td>230.1</td>\n",
              "      <td>37.8</td>\n",
              "      <td>69.2</td>\n",
              "      <td>22.1</td>\n",
              "    </tr>\n",
              "    <tr>\n",
              "      <th>1</th>\n",
              "      <td>2</td>\n",
              "      <td>44.5</td>\n",
              "      <td>39.3</td>\n",
              "      <td>45.1</td>\n",
              "      <td>10.4</td>\n",
              "    </tr>\n",
              "    <tr>\n",
              "      <th>2</th>\n",
              "      <td>3</td>\n",
              "      <td>17.2</td>\n",
              "      <td>45.9</td>\n",
              "      <td>69.3</td>\n",
              "      <td>9.3</td>\n",
              "    </tr>\n",
              "    <tr>\n",
              "      <th>3</th>\n",
              "      <td>4</td>\n",
              "      <td>151.5</td>\n",
              "      <td>41.3</td>\n",
              "      <td>58.5</td>\n",
              "      <td>18.5</td>\n",
              "    </tr>\n",
              "    <tr>\n",
              "      <th>4</th>\n",
              "      <td>5</td>\n",
              "      <td>180.8</td>\n",
              "      <td>10.8</td>\n",
              "      <td>58.4</td>\n",
              "      <td>12.9</td>\n",
              "    </tr>\n",
              "  </tbody>\n",
              "</table>\n",
              "</div>"
            ],
            "text/plain": [
              "   Unnamed: 0     TV  radio  newspaper  sales\n",
              "0           1  230.1   37.8       69.2   22.1\n",
              "1           2   44.5   39.3       45.1   10.4\n",
              "2           3   17.2   45.9       69.3    9.3\n",
              "3           4  151.5   41.3       58.5   18.5\n",
              "4           5  180.8   10.8       58.4   12.9"
            ]
          },
          "metadata": {},
          "execution_count": 49
        }
      ]
    },
    {
      "cell_type": "markdown",
      "metadata": {
        "id": "MoIui_d6weCF"
      },
      "source": [
        "# Percent Point Function\n",
        "To find the median of a distribution, we can use the percent point function ppf, which is the inverse of the cdf"
      ]
    },
    {
      "cell_type": "markdown",
      "metadata": {
        "id": "tDe-WzW6kjYK"
      },
      "source": [
        "Normal Curve, Mean=0, Std=1.\n",
        "We are Providing Shared area to get critical value(Reverse for cdf)"
      ]
    },
    {
      "cell_type": "code",
      "metadata": {
        "colab": {
          "base_uri": "https://localhost:8080/"
        },
        "id": "3acXc3IjCH2m",
        "outputId": "d7d0488c-838d-4536-8714-e6175d077df8"
      },
      "source": [
        "st.norm.ppf(.95)\n",
        "#st.norm.ppf([.95,0.05])"
      ],
      "execution_count": 50,
      "outputs": [
        {
          "output_type": "execute_result",
          "data": {
            "text/plain": [
              "1.6448536269514722"
            ]
          },
          "metadata": {},
          "execution_count": 50
        }
      ]
    },
    {
      "cell_type": "code",
      "metadata": {
        "colab": {
          "base_uri": "https://localhost:8080/"
        },
        "id": "Zl6Z3xrWCQbF",
        "outputId": "dd6f5aa4-b744-45e8-e532-ffcdf332211c"
      },
      "source": [
        "a=st.norm.ppf(.975)\n",
        "b=st.norm.ppf(.025)\n",
        "two_sided=a-b\n",
        "two_sided"
      ],
      "execution_count": 51,
      "outputs": [
        {
          "output_type": "execute_result",
          "data": {
            "text/plain": [
              "3.9199279690801085"
            ]
          },
          "metadata": {},
          "execution_count": 51
        }
      ]
    },
    {
      "cell_type": "markdown",
      "metadata": {
        "id": "YPrXTd1lw0jc"
      },
      "source": [
        "# Cumulative Distribution Function"
      ]
    },
    {
      "cell_type": "code",
      "metadata": {
        "colab": {
          "base_uri": "https://localhost:8080/"
        },
        "id": "NQg7ANgMCNse",
        "outputId": "9ffb392f-357a-4dc7-9590-57300e47924c"
      },
      "source": [
        "st.norm.cdf(1.64)\n",
        "#st.norm.cdf([1.,0,-1.])# For more than one point\n",
        "#st.norm.cdf(df['TV'])"
      ],
      "execution_count": 52,
      "outputs": [
        {
          "output_type": "execute_result",
          "data": {
            "text/plain": [
              "0.9494974165258963"
            ]
          },
          "metadata": {},
          "execution_count": 52
        }
      ]
    },
    {
      "cell_type": "markdown",
      "metadata": {
        "id": "bKFiBsep6pdX"
      },
      "source": [
        "# Critical value for z"
      ]
    },
    {
      "cell_type": "markdown",
      "metadata": {
        "id": "ucVHfI3KDW4o"
      },
      "source": [
        "```\n",
        "z-critical = stats.norm.ppf(1 - alpha) (use alpha = alpha/2 for two-sided)\n",
        "t-critical = stats.t.ppf(alpha/numOfTails, ddof)\n",
        "```"
      ]
    },
    {
      "cell_type": "code",
      "metadata": {
        "colab": {
          "base_uri": "https://localhost:8080/"
        },
        "id": "N3O6cT6KCeVS",
        "outputId": "509e826a-f911-4bf7-d91b-8264b8459aa9"
      },
      "source": [
        "# alpha to critical\n",
        "alpha = 0.05\n",
        "n_sided = 2 # 2-sided test\n",
        "z_crit = st.norm.ppf(1-alpha/n_sided)\n",
        "print('Z critical value: ',z_crit) "
      ],
      "execution_count": 53,
      "outputs": [
        {
          "output_type": "stream",
          "name": "stdout",
          "text": [
            "Z critical value:  1.959963984540054\n"
          ]
        }
      ]
    },
    {
      "cell_type": "code",
      "metadata": {
        "colab": {
          "base_uri": "https://localhost:8080/"
        },
        "id": "gikJjP-RDFJ4",
        "outputId": "49174618-b0c2-4985-9444-0b862afe1249"
      },
      "source": [
        "# critical to alpha\n",
        "alpha = st.norm.sf(z_crit) * n_sided\n",
        "print('alpha: ',alpha) "
      ],
      "execution_count": 54,
      "outputs": [
        {
          "output_type": "stream",
          "name": "stdout",
          "text": [
            "alpha:  0.05\n"
          ]
        }
      ]
    },
    {
      "cell_type": "markdown",
      "metadata": {
        "id": "jykV2qlreC1r"
      },
      "source": [
        "Each z-score tells us how many standard deviations away an individual value is from the mean."
      ]
    },
    {
      "cell_type": "code",
      "metadata": {
        "colab": {
          "base_uri": "https://localhost:8080/",
          "height": 417
        },
        "id": "9ydhpXS3dczV",
        "outputId": "656ab58b-6841-4587-8040-cf3736e3827b"
      },
      "source": [
        "df.apply(st.zscore)\n",
        "#st.zscore(df['TV'])"
      ],
      "execution_count": 55,
      "outputs": [
        {
          "output_type": "execute_result",
          "data": {
            "text/html": [
              "<div>\n",
              "<style scoped>\n",
              "    .dataframe tbody tr th:only-of-type {\n",
              "        vertical-align: middle;\n",
              "    }\n",
              "\n",
              "    .dataframe tbody tr th {\n",
              "        vertical-align: top;\n",
              "    }\n",
              "\n",
              "    .dataframe thead th {\n",
              "        text-align: right;\n",
              "    }\n",
              "</style>\n",
              "<table border=\"1\" class=\"dataframe\">\n",
              "  <thead>\n",
              "    <tr style=\"text-align: right;\">\n",
              "      <th></th>\n",
              "      <th>Unnamed: 0</th>\n",
              "      <th>TV</th>\n",
              "      <th>radio</th>\n",
              "      <th>newspaper</th>\n",
              "      <th>sales</th>\n",
              "    </tr>\n",
              "  </thead>\n",
              "  <tbody>\n",
              "    <tr>\n",
              "      <th>0</th>\n",
              "      <td>-1.723412</td>\n",
              "      <td>0.969852</td>\n",
              "      <td>0.981522</td>\n",
              "      <td>1.778945</td>\n",
              "      <td>1.552053</td>\n",
              "    </tr>\n",
              "    <tr>\n",
              "      <th>1</th>\n",
              "      <td>-1.706091</td>\n",
              "      <td>-1.197376</td>\n",
              "      <td>1.082808</td>\n",
              "      <td>0.669579</td>\n",
              "      <td>-0.696046</td>\n",
              "    </tr>\n",
              "    <tr>\n",
              "      <th>2</th>\n",
              "      <td>-1.688771</td>\n",
              "      <td>-1.516155</td>\n",
              "      <td>1.528463</td>\n",
              "      <td>1.783549</td>\n",
              "      <td>-0.907406</td>\n",
              "    </tr>\n",
              "    <tr>\n",
              "      <th>3</th>\n",
              "      <td>-1.671450</td>\n",
              "      <td>0.052050</td>\n",
              "      <td>1.217855</td>\n",
              "      <td>1.286405</td>\n",
              "      <td>0.860330</td>\n",
              "    </tr>\n",
              "    <tr>\n",
              "      <th>4</th>\n",
              "      <td>-1.654129</td>\n",
              "      <td>0.394182</td>\n",
              "      <td>-0.841614</td>\n",
              "      <td>1.281802</td>\n",
              "      <td>-0.215683</td>\n",
              "    </tr>\n",
              "    <tr>\n",
              "      <th>...</th>\n",
              "      <td>...</td>\n",
              "      <td>...</td>\n",
              "      <td>...</td>\n",
              "      <td>...</td>\n",
              "      <td>...</td>\n",
              "    </tr>\n",
              "    <tr>\n",
              "      <th>195</th>\n",
              "      <td>1.654129</td>\n",
              "      <td>-1.270941</td>\n",
              "      <td>-1.321031</td>\n",
              "      <td>-0.771217</td>\n",
              "      <td>-1.234053</td>\n",
              "    </tr>\n",
              "    <tr>\n",
              "      <th>196</th>\n",
              "      <td>1.671450</td>\n",
              "      <td>-0.617035</td>\n",
              "      <td>-1.240003</td>\n",
              "      <td>-1.033598</td>\n",
              "      <td>-0.830548</td>\n",
              "    </tr>\n",
              "    <tr>\n",
              "      <th>197</th>\n",
              "      <td>1.688771</td>\n",
              "      <td>0.349810</td>\n",
              "      <td>-0.942899</td>\n",
              "      <td>-1.111852</td>\n",
              "      <td>-0.234898</td>\n",
              "    </tr>\n",
              "    <tr>\n",
              "      <th>198</th>\n",
              "      <td>1.706091</td>\n",
              "      <td>1.594565</td>\n",
              "      <td>1.265121</td>\n",
              "      <td>1.640850</td>\n",
              "      <td>2.205347</td>\n",
              "    </tr>\n",
              "    <tr>\n",
              "      <th>199</th>\n",
              "      <td>1.723412</td>\n",
              "      <td>0.993206</td>\n",
              "      <td>-0.990165</td>\n",
              "      <td>-1.005979</td>\n",
              "      <td>-0.119610</td>\n",
              "    </tr>\n",
              "  </tbody>\n",
              "</table>\n",
              "<p>200 rows × 5 columns</p>\n",
              "</div>"
            ],
            "text/plain": [
              "     Unnamed: 0        TV     radio  newspaper     sales\n",
              "0     -1.723412  0.969852  0.981522   1.778945  1.552053\n",
              "1     -1.706091 -1.197376  1.082808   0.669579 -0.696046\n",
              "2     -1.688771 -1.516155  1.528463   1.783549 -0.907406\n",
              "3     -1.671450  0.052050  1.217855   1.286405  0.860330\n",
              "4     -1.654129  0.394182 -0.841614   1.281802 -0.215683\n",
              "..          ...       ...       ...        ...       ...\n",
              "195    1.654129 -1.270941 -1.321031  -0.771217 -1.234053\n",
              "196    1.671450 -0.617035 -1.240003  -1.033598 -0.830548\n",
              "197    1.688771  0.349810 -0.942899  -1.111852 -0.234898\n",
              "198    1.706091  1.594565  1.265121   1.640850  2.205347\n",
              "199    1.723412  0.993206 -0.990165  -1.005979 -0.119610\n",
              "\n",
              "[200 rows x 5 columns]"
            ]
          },
          "metadata": {},
          "execution_count": 55
        }
      ]
    },
    {
      "cell_type": "markdown",
      "metadata": {
        "id": "xzxTw_Yn6yYP"
      },
      "source": [
        "# T- stats"
      ]
    },
    {
      "cell_type": "code",
      "metadata": {
        "colab": {
          "base_uri": "https://localhost:8080/"
        },
        "id": "ttSC1fqRDLaJ",
        "outputId": "61452c10-289f-416e-aadc-e5a81516656f"
      },
      "source": [
        "#n=999, p<0.05, 2-tail\n",
        "#p/2=0.025\n",
        "print(st.t.ppf(1-0.025, 999))\n",
        "\n",
        "#n=999, p<0.05%, Single tail\n",
        "print(st.t.ppf(1-0.05, 999)-st.t.ppf(1-0.025, 999))"
      ],
      "execution_count": 56,
      "outputs": [
        {
          "output_type": "stream",
          "name": "stdout",
          "text": [
            "1.9623414611334487\n",
            "-0.3159611157059137\n"
          ]
        }
      ]
    },
    {
      "cell_type": "markdown",
      "metadata": {
        "id": "hjxkc9zD7nX_"
      },
      "source": [
        "# One-Way Anova\n",
        "Null Hypothesis: Means of the samples are following same distribution or not."
      ]
    },
    {
      "cell_type": "code",
      "metadata": {
        "id": "DrREu92xET3S"
      },
      "source": [
        "a= df['TV']\n",
        "b= df['radio']\n",
        "c= df['newspaper']\n",
        "F,p=st.f_oneway(a,b,c)"
      ],
      "execution_count": 57,
      "outputs": []
    },
    {
      "cell_type": "code",
      "metadata": {
        "colab": {
          "base_uri": "https://localhost:8080/"
        },
        "id": "URITdHo4FAik",
        "outputId": "40564288-c71e-4aed-c03b-e2518ff3763b"
      },
      "source": [
        "F"
      ],
      "execution_count": 58,
      "outputs": [
        {
          "output_type": "execute_result",
          "data": {
            "text/plain": [
              "358.8514595342597"
            ]
          },
          "metadata": {},
          "execution_count": 58
        }
      ]
    },
    {
      "cell_type": "code",
      "metadata": {
        "colab": {
          "base_uri": "https://localhost:8080/"
        },
        "id": "egOQdm5QFKtu",
        "outputId": "9b80754d-fb31-4714-9cea-5ba48b894778"
      },
      "source": [
        "p"
      ],
      "execution_count": 59,
      "outputs": [
        {
          "output_type": "execute_result",
          "data": {
            "text/plain": [
              "4.552931539744962e-103"
            ]
          },
          "metadata": {},
          "execution_count": 59
        }
      ]
    },
    {
      "cell_type": "markdown",
      "metadata": {
        "id": "pO6leuNIh0Zg"
      },
      "source": [
        "# Additional"
      ]
    },
    {
      "cell_type": "code",
      "metadata": {
        "colab": {
          "base_uri": "https://localhost:8080/",
          "height": 110
        },
        "id": "rUTIWam2GNX5",
        "outputId": "487b2c2e-8607-45dc-af28-f83fd544d72a"
      },
      "source": [
        "df_melt = pd.melt(df.reset_index(), id_vars=['index'], value_vars=[ 'TV','radio', 'newspaper', 'sales'])\n",
        "# replace column names\n",
        "df_melt.columns = ['index', 'treatments', 'value']\n",
        "# Ordinary Least Squares (OLS) model\n",
        "model = ols('value ~ C(treatments)', data=df_melt).fit()\n",
        "anova_table = sm.stats.anova_lm(model, typ=2)#Anova table for one or more fitted linear models.\n",
        "anova_table"
      ],
      "execution_count": 60,
      "outputs": [
        {
          "output_type": "execute_result",
          "data": {
            "text/html": [
              "<div>\n",
              "<style scoped>\n",
              "    .dataframe tbody tr th:only-of-type {\n",
              "        vertical-align: middle;\n",
              "    }\n",
              "\n",
              "    .dataframe tbody tr th {\n",
              "        vertical-align: top;\n",
              "    }\n",
              "\n",
              "    .dataframe thead th {\n",
              "        text-align: right;\n",
              "    }\n",
              "</style>\n",
              "<table border=\"1\" class=\"dataframe\">\n",
              "  <thead>\n",
              "    <tr style=\"text-align: right;\">\n",
              "      <th></th>\n",
              "      <th>sum_sq</th>\n",
              "      <th>df</th>\n",
              "      <th>F</th>\n",
              "      <th>PR(&gt;F)</th>\n",
              "    </tr>\n",
              "  </thead>\n",
              "  <tbody>\n",
              "    <tr>\n",
              "      <th>C(treatments)</th>\n",
              "      <td>2.349842e+06</td>\n",
              "      <td>3.0</td>\n",
              "      <td>387.144309</td>\n",
              "      <td>5.150514e-155</td>\n",
              "    </tr>\n",
              "    <tr>\n",
              "      <th>Residual</th>\n",
              "      <td>1.610489e+06</td>\n",
              "      <td>796.0</td>\n",
              "      <td>NaN</td>\n",
              "      <td>NaN</td>\n",
              "    </tr>\n",
              "  </tbody>\n",
              "</table>\n",
              "</div>"
            ],
            "text/plain": [
              "                     sum_sq     df           F         PR(>F)\n",
              "C(treatments)  2.349842e+06    3.0  387.144309  5.150514e-155\n",
              "Residual       1.610489e+06  796.0         NaN            NaN"
            ]
          },
          "metadata": {},
          "execution_count": 60
        }
      ]
    },
    {
      "cell_type": "markdown",
      "metadata": {
        "id": "q8wTNoFZ70yu"
      },
      "source": [
        "# Two- Way ANOVA"
      ]
    },
    {
      "cell_type": "markdown",
      "metadata": {
        "id": "ACMuYRV5qf94"
      },
      "source": [
        "“~” separates the left-hand side of the model from the right-hand side.\n",
        "If treatments had been an integer variable that we wanted to treat explicitly as categorical, we could have done so by using the C() operator."
      ]
    },
    {
      "cell_type": "code",
      "metadata": {
        "colab": {
          "base_uri": "https://localhost:8080/",
          "height": 203
        },
        "id": "EjsXAuSdNHtc",
        "outputId": "70959bc1-420f-4c3c-c1b1-8983ed8dd481"
      },
      "source": [
        "# To read data as dataframe\n",
        "data = pd.read_csv('https://raw.githubusercontent.com/philsaurabh/Tutorials/main/Credit.csv')\n",
        "data.head()"
      ],
      "execution_count": 47,
      "outputs": [
        {
          "output_type": "execute_result",
          "data": {
            "text/html": [
              "<div>\n",
              "<style scoped>\n",
              "    .dataframe tbody tr th:only-of-type {\n",
              "        vertical-align: middle;\n",
              "    }\n",
              "\n",
              "    .dataframe tbody tr th {\n",
              "        vertical-align: top;\n",
              "    }\n",
              "\n",
              "    .dataframe thead th {\n",
              "        text-align: right;\n",
              "    }\n",
              "</style>\n",
              "<table border=\"1\" class=\"dataframe\">\n",
              "  <thead>\n",
              "    <tr style=\"text-align: right;\">\n",
              "      <th></th>\n",
              "      <th>Unnamed: 0</th>\n",
              "      <th>Income</th>\n",
              "      <th>Limit</th>\n",
              "      <th>Rating</th>\n",
              "      <th>Cards</th>\n",
              "      <th>Age</th>\n",
              "      <th>Education</th>\n",
              "      <th>Gender</th>\n",
              "      <th>Student</th>\n",
              "      <th>Married</th>\n",
              "      <th>Ethnicity</th>\n",
              "      <th>Balance</th>\n",
              "      <th>Defaultee</th>\n",
              "    </tr>\n",
              "  </thead>\n",
              "  <tbody>\n",
              "    <tr>\n",
              "      <th>0</th>\n",
              "      <td>1</td>\n",
              "      <td>14.891</td>\n",
              "      <td>3606</td>\n",
              "      <td>283</td>\n",
              "      <td>2</td>\n",
              "      <td>34</td>\n",
              "      <td>11</td>\n",
              "      <td>Male</td>\n",
              "      <td>No</td>\n",
              "      <td>Yes</td>\n",
              "      <td>Caucasian</td>\n",
              "      <td>333</td>\n",
              "      <td>0</td>\n",
              "    </tr>\n",
              "    <tr>\n",
              "      <th>1</th>\n",
              "      <td>2</td>\n",
              "      <td>106.025</td>\n",
              "      <td>6645</td>\n",
              "      <td>483</td>\n",
              "      <td>3</td>\n",
              "      <td>82</td>\n",
              "      <td>15</td>\n",
              "      <td>Female</td>\n",
              "      <td>Yes</td>\n",
              "      <td>Yes</td>\n",
              "      <td>Asian</td>\n",
              "      <td>903</td>\n",
              "      <td>0</td>\n",
              "    </tr>\n",
              "    <tr>\n",
              "      <th>2</th>\n",
              "      <td>3</td>\n",
              "      <td>104.593</td>\n",
              "      <td>7075</td>\n",
              "      <td>514</td>\n",
              "      <td>4</td>\n",
              "      <td>71</td>\n",
              "      <td>11</td>\n",
              "      <td>Male</td>\n",
              "      <td>No</td>\n",
              "      <td>No</td>\n",
              "      <td>Asian</td>\n",
              "      <td>580</td>\n",
              "      <td>0</td>\n",
              "    </tr>\n",
              "    <tr>\n",
              "      <th>3</th>\n",
              "      <td>4</td>\n",
              "      <td>148.924</td>\n",
              "      <td>9504</td>\n",
              "      <td>681</td>\n",
              "      <td>3</td>\n",
              "      <td>36</td>\n",
              "      <td>11</td>\n",
              "      <td>Female</td>\n",
              "      <td>No</td>\n",
              "      <td>No</td>\n",
              "      <td>Asian</td>\n",
              "      <td>964</td>\n",
              "      <td>0</td>\n",
              "    </tr>\n",
              "    <tr>\n",
              "      <th>4</th>\n",
              "      <td>5</td>\n",
              "      <td>55.882</td>\n",
              "      <td>4897</td>\n",
              "      <td>357</td>\n",
              "      <td>2</td>\n",
              "      <td>68</td>\n",
              "      <td>16</td>\n",
              "      <td>Male</td>\n",
              "      <td>No</td>\n",
              "      <td>Yes</td>\n",
              "      <td>Caucasian</td>\n",
              "      <td>331</td>\n",
              "      <td>0</td>\n",
              "    </tr>\n",
              "  </tbody>\n",
              "</table>\n",
              "</div>"
            ],
            "text/plain": [
              "   Unnamed: 0   Income  Limit  Rating  ...  Married  Ethnicity  Balance Defaultee\n",
              "0           1   14.891   3606     283  ...      Yes  Caucasian      333         0\n",
              "1           2  106.025   6645     483  ...      Yes      Asian      903         0\n",
              "2           3  104.593   7075     514  ...       No      Asian      580         0\n",
              "3           4  148.924   9504     681  ...       No      Asian      964         0\n",
              "4           5   55.882   4897     357  ...      Yes  Caucasian      331         0\n",
              "\n",
              "[5 rows x 13 columns]"
            ]
          },
          "metadata": {},
          "execution_count": 47
        }
      ]
    },
    {
      "cell_type": "markdown",
      "metadata": {
        "id": "klE5sxz-Ngzl"
      },
      "source": [
        "A two-way ANOVA is used to determine whether or not there is a statistically significant difference between the means of three or more independent groups that have been split on two factors.\n",
        "\n",
        "The purpose of a two-way ANOVA is to determine how two factors impact a response variable, and to determine whether or not there is an interaction between the two factors on the response variable."
      ]
    },
    {
      "cell_type": "code",
      "metadata": {
        "colab": {
          "base_uri": "https://localhost:8080/",
          "height": 172
        },
        "id": "9ez6DCbeNU3O",
        "outputId": "b65c7953-59d4-4bd5-b8ec-92df9e2d7f45"
      },
      "source": [
        "model = ols('Defaultee ~ C(Gender) + C(Ethnicity) + C(Gender):C(Ethnicity)', data=data).fit()\n",
        "sm.stats.anova_lm(model, typ=1)"
      ],
      "execution_count": 83,
      "outputs": [
        {
          "output_type": "execute_result",
          "data": {
            "text/html": [
              "<div>\n",
              "<style scoped>\n",
              "    .dataframe tbody tr th:only-of-type {\n",
              "        vertical-align: middle;\n",
              "    }\n",
              "\n",
              "    .dataframe tbody tr th {\n",
              "        vertical-align: top;\n",
              "    }\n",
              "\n",
              "    .dataframe thead th {\n",
              "        text-align: right;\n",
              "    }\n",
              "</style>\n",
              "<table border=\"1\" class=\"dataframe\">\n",
              "  <thead>\n",
              "    <tr style=\"text-align: right;\">\n",
              "      <th></th>\n",
              "      <th>df</th>\n",
              "      <th>sum_sq</th>\n",
              "      <th>mean_sq</th>\n",
              "      <th>F</th>\n",
              "      <th>PR(&gt;F)</th>\n",
              "    </tr>\n",
              "  </thead>\n",
              "  <tbody>\n",
              "    <tr>\n",
              "      <th>C(Gender)</th>\n",
              "      <td>1.0</td>\n",
              "      <td>0.000677</td>\n",
              "      <td>0.000677</td>\n",
              "      <td>0.004523</td>\n",
              "      <td>0.946415</td>\n",
              "    </tr>\n",
              "    <tr>\n",
              "      <th>C(Ethnicity)</th>\n",
              "      <td>2.0</td>\n",
              "      <td>0.007807</td>\n",
              "      <td>0.003903</td>\n",
              "      <td>0.026083</td>\n",
              "      <td>0.974256</td>\n",
              "    </tr>\n",
              "    <tr>\n",
              "      <th>C(Gender):C(Ethnicity)</th>\n",
              "      <td>2.0</td>\n",
              "      <td>0.069887</td>\n",
              "      <td>0.034944</td>\n",
              "      <td>0.233504</td>\n",
              "      <td>0.791864</td>\n",
              "    </tr>\n",
              "    <tr>\n",
              "      <th>Residual</th>\n",
              "      <td>394.0</td>\n",
              "      <td>58.961630</td>\n",
              "      <td>0.149649</td>\n",
              "      <td>NaN</td>\n",
              "      <td>NaN</td>\n",
              "    </tr>\n",
              "  </tbody>\n",
              "</table>\n",
              "</div>"
            ],
            "text/plain": [
              "                           df     sum_sq   mean_sq         F    PR(>F)\n",
              "C(Gender)                 1.0   0.000677  0.000677  0.004523  0.946415\n",
              "C(Ethnicity)              2.0   0.007807  0.003903  0.026083  0.974256\n",
              "C(Gender):C(Ethnicity)    2.0   0.069887  0.034944  0.233504  0.791864\n",
              "Residual                394.0  58.961630  0.149649       NaN       NaN"
            ]
          },
          "metadata": {},
          "execution_count": 83
        }
      ]
    },
    {
      "cell_type": "code",
      "metadata": {
        "id": "huuCaEC9OmXt",
        "outputId": "48cf90e8-a45b-4e5f-d635-6265ea7b1397",
        "colab": {
          "base_uri": "https://localhost:8080/",
          "height": 172
        }
      },
      "source": [
        "model = ols('Defaultee ~ C(Gender) + C(Ethnicity) + C(Gender)*C(Ethnicity)', data=data).fit()\n",
        "sm.stats.anova_lm(model, typ=2)"
      ],
      "execution_count": 84,
      "outputs": [
        {
          "output_type": "execute_result",
          "data": {
            "text/html": [
              "<div>\n",
              "<style scoped>\n",
              "    .dataframe tbody tr th:only-of-type {\n",
              "        vertical-align: middle;\n",
              "    }\n",
              "\n",
              "    .dataframe tbody tr th {\n",
              "        vertical-align: top;\n",
              "    }\n",
              "\n",
              "    .dataframe thead th {\n",
              "        text-align: right;\n",
              "    }\n",
              "</style>\n",
              "<table border=\"1\" class=\"dataframe\">\n",
              "  <thead>\n",
              "    <tr style=\"text-align: right;\">\n",
              "      <th></th>\n",
              "      <th>sum_sq</th>\n",
              "      <th>df</th>\n",
              "      <th>F</th>\n",
              "      <th>PR(&gt;F)</th>\n",
              "    </tr>\n",
              "  </thead>\n",
              "  <tbody>\n",
              "    <tr>\n",
              "      <th>C(Gender)</th>\n",
              "      <td>0.000762</td>\n",
              "      <td>1.0</td>\n",
              "      <td>0.005089</td>\n",
              "      <td>0.943165</td>\n",
              "    </tr>\n",
              "    <tr>\n",
              "      <th>C(Ethnicity)</th>\n",
              "      <td>0.007807</td>\n",
              "      <td>2.0</td>\n",
              "      <td>0.026083</td>\n",
              "      <td>0.974256</td>\n",
              "    </tr>\n",
              "    <tr>\n",
              "      <th>C(Gender):C(Ethnicity)</th>\n",
              "      <td>0.069887</td>\n",
              "      <td>2.0</td>\n",
              "      <td>0.233504</td>\n",
              "      <td>0.791864</td>\n",
              "    </tr>\n",
              "    <tr>\n",
              "      <th>Residual</th>\n",
              "      <td>58.961630</td>\n",
              "      <td>394.0</td>\n",
              "      <td>NaN</td>\n",
              "      <td>NaN</td>\n",
              "    </tr>\n",
              "  </tbody>\n",
              "</table>\n",
              "</div>"
            ],
            "text/plain": [
              "                           sum_sq     df         F    PR(>F)\n",
              "C(Gender)                0.000762    1.0  0.005089  0.943165\n",
              "C(Ethnicity)             0.007807    2.0  0.026083  0.974256\n",
              "C(Gender):C(Ethnicity)   0.069887    2.0  0.233504  0.791864\n",
              "Residual                58.961630  394.0       NaN       NaN"
            ]
          },
          "metadata": {},
          "execution_count": 84
        }
      ]
    },
    {
      "cell_type": "code",
      "metadata": {
        "id": "R5NgjCsvO0oj",
        "outputId": "505344f8-5701-4082-d44a-2b8d2bf8b1c2",
        "colab": {
          "base_uri": "https://localhost:8080/",
          "height": 203
        }
      },
      "source": [
        "model= ols('Defaultee ~ C(Gender)*C(Ethnicity)', data=data).fit()\n",
        "sm.stats.anova_lm(model, typ=3)"
      ],
      "execution_count": 80,
      "outputs": [
        {
          "output_type": "execute_result",
          "data": {
            "text/html": [
              "<div>\n",
              "<style scoped>\n",
              "    .dataframe tbody tr th:only-of-type {\n",
              "        vertical-align: middle;\n",
              "    }\n",
              "\n",
              "    .dataframe tbody tr th {\n",
              "        vertical-align: top;\n",
              "    }\n",
              "\n",
              "    .dataframe thead th {\n",
              "        text-align: right;\n",
              "    }\n",
              "</style>\n",
              "<table border=\"1\" class=\"dataframe\">\n",
              "  <thead>\n",
              "    <tr style=\"text-align: right;\">\n",
              "      <th></th>\n",
              "      <th>sum_sq</th>\n",
              "      <th>df</th>\n",
              "      <th>F</th>\n",
              "      <th>PR(&gt;F)</th>\n",
              "    </tr>\n",
              "  </thead>\n",
              "  <tbody>\n",
              "    <tr>\n",
              "      <th>Intercept</th>\n",
              "      <td>1.280000</td>\n",
              "      <td>1.0</td>\n",
              "      <td>8.553359</td>\n",
              "      <td>0.003648</td>\n",
              "    </tr>\n",
              "    <tr>\n",
              "      <th>C(Gender)</th>\n",
              "      <td>0.048089</td>\n",
              "      <td>1.0</td>\n",
              "      <td>0.321346</td>\n",
              "      <td>0.571123</td>\n",
              "    </tr>\n",
              "    <tr>\n",
              "      <th>C(Ethnicity)</th>\n",
              "      <td>0.042944</td>\n",
              "      <td>2.0</td>\n",
              "      <td>0.143483</td>\n",
              "      <td>0.866381</td>\n",
              "    </tr>\n",
              "    <tr>\n",
              "      <th>C(Gender):C(Ethnicity)</th>\n",
              "      <td>0.069887</td>\n",
              "      <td>2.0</td>\n",
              "      <td>0.233504</td>\n",
              "      <td>0.791864</td>\n",
              "    </tr>\n",
              "    <tr>\n",
              "      <th>Residual</th>\n",
              "      <td>58.961630</td>\n",
              "      <td>394.0</td>\n",
              "      <td>NaN</td>\n",
              "      <td>NaN</td>\n",
              "    </tr>\n",
              "  </tbody>\n",
              "</table>\n",
              "</div>"
            ],
            "text/plain": [
              "                           sum_sq     df         F    PR(>F)\n",
              "Intercept                1.280000    1.0  8.553359  0.003648\n",
              "C(Gender)                0.048089    1.0  0.321346  0.571123\n",
              "C(Ethnicity)             0.042944    2.0  0.143483  0.866381\n",
              "C(Gender):C(Ethnicity)   0.069887    2.0  0.233504  0.791864\n",
              "Residual                58.961630  394.0       NaN       NaN"
            ]
          },
          "metadata": {},
          "execution_count": 80
        }
      ]
    },
    {
      "cell_type": "markdown",
      "metadata": {
        "id": "JnogtXRqhgrK"
      },
      "source": [
        "# T Test (Two sided dependent)"
      ]
    },
    {
      "cell_type": "code",
      "metadata": {
        "colab": {
          "base_uri": "https://localhost:8080/",
          "height": 203
        },
        "id": "0qKpwtkIgjBM",
        "outputId": "cda44b0a-7c6f-4433-cf3f-d602da3670e9"
      },
      "source": [
        "# To read data as dataframe\n",
        "data = pd.read_csv('https://raw.githubusercontent.com/philsaurabh/Tutorials/main/Credit.csv')\n",
        "data.head()"
      ],
      "execution_count": 61,
      "outputs": [
        {
          "output_type": "execute_result",
          "data": {
            "text/html": [
              "<div>\n",
              "<style scoped>\n",
              "    .dataframe tbody tr th:only-of-type {\n",
              "        vertical-align: middle;\n",
              "    }\n",
              "\n",
              "    .dataframe tbody tr th {\n",
              "        vertical-align: top;\n",
              "    }\n",
              "\n",
              "    .dataframe thead th {\n",
              "        text-align: right;\n",
              "    }\n",
              "</style>\n",
              "<table border=\"1\" class=\"dataframe\">\n",
              "  <thead>\n",
              "    <tr style=\"text-align: right;\">\n",
              "      <th></th>\n",
              "      <th>Unnamed: 0</th>\n",
              "      <th>Income</th>\n",
              "      <th>Limit</th>\n",
              "      <th>Rating</th>\n",
              "      <th>Cards</th>\n",
              "      <th>Age</th>\n",
              "      <th>Education</th>\n",
              "      <th>Gender</th>\n",
              "      <th>Student</th>\n",
              "      <th>Married</th>\n",
              "      <th>Ethnicity</th>\n",
              "      <th>Balance</th>\n",
              "      <th>Defaultee</th>\n",
              "    </tr>\n",
              "  </thead>\n",
              "  <tbody>\n",
              "    <tr>\n",
              "      <th>0</th>\n",
              "      <td>1</td>\n",
              "      <td>14.891</td>\n",
              "      <td>3606</td>\n",
              "      <td>283</td>\n",
              "      <td>2</td>\n",
              "      <td>34</td>\n",
              "      <td>11</td>\n",
              "      <td>Male</td>\n",
              "      <td>No</td>\n",
              "      <td>Yes</td>\n",
              "      <td>Caucasian</td>\n",
              "      <td>333</td>\n",
              "      <td>0</td>\n",
              "    </tr>\n",
              "    <tr>\n",
              "      <th>1</th>\n",
              "      <td>2</td>\n",
              "      <td>106.025</td>\n",
              "      <td>6645</td>\n",
              "      <td>483</td>\n",
              "      <td>3</td>\n",
              "      <td>82</td>\n",
              "      <td>15</td>\n",
              "      <td>Female</td>\n",
              "      <td>Yes</td>\n",
              "      <td>Yes</td>\n",
              "      <td>Asian</td>\n",
              "      <td>903</td>\n",
              "      <td>0</td>\n",
              "    </tr>\n",
              "    <tr>\n",
              "      <th>2</th>\n",
              "      <td>3</td>\n",
              "      <td>104.593</td>\n",
              "      <td>7075</td>\n",
              "      <td>514</td>\n",
              "      <td>4</td>\n",
              "      <td>71</td>\n",
              "      <td>11</td>\n",
              "      <td>Male</td>\n",
              "      <td>No</td>\n",
              "      <td>No</td>\n",
              "      <td>Asian</td>\n",
              "      <td>580</td>\n",
              "      <td>0</td>\n",
              "    </tr>\n",
              "    <tr>\n",
              "      <th>3</th>\n",
              "      <td>4</td>\n",
              "      <td>148.924</td>\n",
              "      <td>9504</td>\n",
              "      <td>681</td>\n",
              "      <td>3</td>\n",
              "      <td>36</td>\n",
              "      <td>11</td>\n",
              "      <td>Female</td>\n",
              "      <td>No</td>\n",
              "      <td>No</td>\n",
              "      <td>Asian</td>\n",
              "      <td>964</td>\n",
              "      <td>0</td>\n",
              "    </tr>\n",
              "    <tr>\n",
              "      <th>4</th>\n",
              "      <td>5</td>\n",
              "      <td>55.882</td>\n",
              "      <td>4897</td>\n",
              "      <td>357</td>\n",
              "      <td>2</td>\n",
              "      <td>68</td>\n",
              "      <td>16</td>\n",
              "      <td>Male</td>\n",
              "      <td>No</td>\n",
              "      <td>Yes</td>\n",
              "      <td>Caucasian</td>\n",
              "      <td>331</td>\n",
              "      <td>0</td>\n",
              "    </tr>\n",
              "  </tbody>\n",
              "</table>\n",
              "</div>"
            ],
            "text/plain": [
              "   Unnamed: 0   Income  Limit  Rating  ...  Married  Ethnicity  Balance Defaultee\n",
              "0           1   14.891   3606     283  ...      Yes  Caucasian      333         0\n",
              "1           2  106.025   6645     483  ...      Yes      Asian      903         0\n",
              "2           3  104.593   7075     514  ...       No      Asian      580         0\n",
              "3           4  148.924   9504     681  ...       No      Asian      964         0\n",
              "4           5   55.882   4897     357  ...      Yes  Caucasian      331         0\n",
              "\n",
              "[5 rows x 13 columns]"
            ]
          },
          "metadata": {},
          "execution_count": 61
        }
      ]
    },
    {
      "cell_type": "code",
      "metadata": {
        "colab": {
          "base_uri": "https://localhost:8080/"
        },
        "id": "_RtwJuPcgnl8",
        "outputId": "63810d68-fd80-445f-d410-183dbd58015f"
      },
      "source": [
        "from scipy.stats import ttest_ind\n",
        "\n",
        "male = data[data['Gender']=='Male']\n",
        "female = data[data['Gender']=='Female']\n",
        "\n",
        "ttest_ind(male['Defaultee'], female['Defaultee'])"
      ],
      "execution_count": 62,
      "outputs": [
        {
          "output_type": "execute_result",
          "data": {
            "text/plain": [
              "Ttest_indResult(statistic=0.06754766913026408, pvalue=0.9461796342145767)"
            ]
          },
          "metadata": {},
          "execution_count": 62
        }
      ]
    },
    {
      "cell_type": "code",
      "metadata": {
        "colab": {
          "base_uri": "https://localhost:8080/"
        },
        "id": "UxE-8DuWD7ks",
        "outputId": "5ffdf5b7-7dc6-4ec0-deb9-4eb1446a5d47"
      },
      "source": [
        "# Another Example\n",
        "# n = 9, degree of freedom = 9-1 = 8\n",
        "# for 99% confidence interval, alpha = 1% = 0.01 and alpha/2 = 0.005\n",
        "ci = 99\n",
        "n = 9\n",
        "t = st.t.ppf(1- ((100-ci)/2/100), n-1) # 99% CI, t8,0.005\n",
        "print(t)"
      ],
      "execution_count": 63,
      "outputs": [
        {
          "output_type": "stream",
          "name": "stdout",
          "text": [
            "3.3553873313333957\n"
          ]
        }
      ]
    },
    {
      "cell_type": "markdown",
      "metadata": {
        "id": "ebe7q_iFoEs0"
      },
      "source": [
        "# Chi-Square"
      ]
    },
    {
      "cell_type": "code",
      "metadata": {
        "id": "tFTC1hHqoGLV"
      },
      "source": [
        "from scipy.stats import chi2_contingency"
      ],
      "execution_count": 64,
      "outputs": []
    },
    {
      "cell_type": "markdown",
      "metadata": {
        "id": "C9G_NPaNotEb"
      },
      "source": [
        "we want to test if there is a statistically significant difference in Genders (M, F) population between Married and Not Married."
      ]
    },
    {
      "cell_type": "code",
      "metadata": {
        "colab": {
          "base_uri": "https://localhost:8080/",
          "height": 142
        },
        "id": "3F9DenQXoNlR",
        "outputId": "378472b0-ffd9-47ad-b879-6eec805173d5"
      },
      "source": [
        "contigency= pd.crosstab(data['Gender'], data['Married'])\n",
        "contigency"
      ],
      "execution_count": 65,
      "outputs": [
        {
          "output_type": "execute_result",
          "data": {
            "text/html": [
              "<div>\n",
              "<style scoped>\n",
              "    .dataframe tbody tr th:only-of-type {\n",
              "        vertical-align: middle;\n",
              "    }\n",
              "\n",
              "    .dataframe tbody tr th {\n",
              "        vertical-align: top;\n",
              "    }\n",
              "\n",
              "    .dataframe thead th {\n",
              "        text-align: right;\n",
              "    }\n",
              "</style>\n",
              "<table border=\"1\" class=\"dataframe\">\n",
              "  <thead>\n",
              "    <tr style=\"text-align: right;\">\n",
              "      <th>Married</th>\n",
              "      <th>No</th>\n",
              "      <th>Yes</th>\n",
              "    </tr>\n",
              "    <tr>\n",
              "      <th>Gender</th>\n",
              "      <th></th>\n",
              "      <th></th>\n",
              "    </tr>\n",
              "  </thead>\n",
              "  <tbody>\n",
              "    <tr>\n",
              "      <th>Female</th>\n",
              "      <td>79</td>\n",
              "      <td>128</td>\n",
              "    </tr>\n",
              "    <tr>\n",
              "      <th>Male</th>\n",
              "      <td>76</td>\n",
              "      <td>117</td>\n",
              "    </tr>\n",
              "  </tbody>\n",
              "</table>\n",
              "</div>"
            ],
            "text/plain": [
              "Married  No  Yes\n",
              "Gender          \n",
              "Female   79  128\n",
              "Male     76  117"
            ]
          },
          "metadata": {},
          "execution_count": 65
        }
      ]
    },
    {
      "cell_type": "markdown",
      "metadata": {
        "id": "iSKIInQ4okID"
      },
      "source": [
        "chi2: The test statistic\n",
        "\n",
        "p: The p-value of the test\n",
        "\n",
        "dof: Degrees of freedom\n",
        "\n",
        "expected: The expected frequencies, based on the marginal sums of the table\n"
      ]
    },
    {
      "cell_type": "code",
      "metadata": {
        "colab": {
          "base_uri": "https://localhost:8080/"
        },
        "id": "WBa27iHfoTnK",
        "outputId": "a55690d4-2d54-4777-eb6a-8bfd3afe0707"
      },
      "source": [
        "# Chi-square test of independence.\n",
        "c, p, dof, expected = chi2_contingency(contigency)\n",
        "c"
      ],
      "execution_count": 66,
      "outputs": [
        {
          "output_type": "execute_result",
          "data": {
            "text/plain": [
              "0.02141530550698175"
            ]
          },
          "metadata": {},
          "execution_count": 66
        }
      ]
    },
    {
      "cell_type": "code",
      "metadata": {
        "colab": {
          "base_uri": "https://localhost:8080/"
        },
        "id": "dUHlcjVmt62F",
        "outputId": "ae5c5672-cd04-44f8-ac4c-95981e56bf6a"
      },
      "source": [
        "p,dof"
      ],
      "execution_count": 67,
      "outputs": [
        {
          "output_type": "execute_result",
          "data": {
            "text/plain": [
              "(0.8836532332904176, 1)"
            ]
          },
          "metadata": {},
          "execution_count": 67
        }
      ]
    },
    {
      "cell_type": "code",
      "metadata": {
        "colab": {
          "base_uri": "https://localhost:8080/"
        },
        "id": "dt9wXHeLt831",
        "outputId": "8e0aecf4-f8fc-48e6-f674-705b19f65dce"
      },
      "source": [
        "expected"
      ],
      "execution_count": 68,
      "outputs": [
        {
          "output_type": "execute_result",
          "data": {
            "text/plain": [
              "array([[ 80.2125, 126.7875],\n",
              "       [ 74.7875, 118.2125]])"
            ]
          },
          "metadata": {},
          "execution_count": 68
        }
      ]
    }
  ]
}