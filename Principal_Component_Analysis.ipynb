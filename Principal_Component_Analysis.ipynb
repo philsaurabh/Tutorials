{
  "nbformat": 4,
  "nbformat_minor": 0,
  "metadata": {
    "colab": {
      "name": "Principal Component Analysis.ipynb",
      "provenance": [],
      "collapsed_sections": [],
      "authorship_tag": "ABX9TyNeTA9DQsxlKe+RtJFYM6tT",
      "include_colab_link": true
    },
    "kernelspec": {
      "name": "python3",
      "display_name": "Python 3"
    },
    "language_info": {
      "name": "python"
    }
  },
  "cells": [
    {
      "cell_type": "markdown",
      "metadata": {
        "id": "view-in-github",
        "colab_type": "text"
      },
      "source": [
        "<a href=\"https://colab.research.google.com/github/philsaurabh/Tutorials/blob/main/Principal_Component_Analysis.ipynb\" target=\"_parent\"><img src=\"https://colab.research.google.com/assets/colab-badge.svg\" alt=\"Open In Colab\"/></a>"
      ]
    },
    {
      "cell_type": "markdown",
      "metadata": {
        "id": "o2mzBgA8B-2B"
      },
      "source": [
        "# Importing Libraries"
      ]
    },
    {
      "cell_type": "code",
      "metadata": {
        "id": "b2iRX35_B1ib"
      },
      "source": [
        "import pandas as pd\n",
        "import numpy as np\n",
        "import matplotlib.pyplot as plt\n",
        "from sklearn.preprocessing import LabelEncoder, StandardScaler\n",
        "from sklearn.decomposition import PCA\n",
        "from sklearn.model_selection import train_test_split"
      ],
      "execution_count": 15,
      "outputs": []
    },
    {
      "cell_type": "code",
      "metadata": {
        "id": "Po3bju8yEGAT",
        "colab": {
          "base_uri": "https://localhost:8080/",
          "height": 203
        },
        "outputId": "73d84bf6-490f-430d-ded3-375a3d310f6e"
      },
      "source": [
        "# To read data as dataframe\n",
        "df = pd.read_csv('https://raw.githubusercontent.com/philsaurabh/Tutorials/main/Credit.csv')\n",
        "df.head()"
      ],
      "execution_count": 16,
      "outputs": [
        {
          "output_type": "execute_result",
          "data": {
            "text/html": [
              "<div>\n",
              "<style scoped>\n",
              "    .dataframe tbody tr th:only-of-type {\n",
              "        vertical-align: middle;\n",
              "    }\n",
              "\n",
              "    .dataframe tbody tr th {\n",
              "        vertical-align: top;\n",
              "    }\n",
              "\n",
              "    .dataframe thead th {\n",
              "        text-align: right;\n",
              "    }\n",
              "</style>\n",
              "<table border=\"1\" class=\"dataframe\">\n",
              "  <thead>\n",
              "    <tr style=\"text-align: right;\">\n",
              "      <th></th>\n",
              "      <th>Unnamed: 0</th>\n",
              "      <th>Income</th>\n",
              "      <th>Limit</th>\n",
              "      <th>Rating</th>\n",
              "      <th>Cards</th>\n",
              "      <th>Age</th>\n",
              "      <th>Education</th>\n",
              "      <th>Gender</th>\n",
              "      <th>Student</th>\n",
              "      <th>Married</th>\n",
              "      <th>Ethnicity</th>\n",
              "      <th>Balance</th>\n",
              "      <th>Defaultee</th>\n",
              "    </tr>\n",
              "  </thead>\n",
              "  <tbody>\n",
              "    <tr>\n",
              "      <th>0</th>\n",
              "      <td>1</td>\n",
              "      <td>14.891</td>\n",
              "      <td>3606</td>\n",
              "      <td>283</td>\n",
              "      <td>2</td>\n",
              "      <td>34</td>\n",
              "      <td>11</td>\n",
              "      <td>Male</td>\n",
              "      <td>No</td>\n",
              "      <td>Yes</td>\n",
              "      <td>Caucasian</td>\n",
              "      <td>333</td>\n",
              "      <td>0</td>\n",
              "    </tr>\n",
              "    <tr>\n",
              "      <th>1</th>\n",
              "      <td>2</td>\n",
              "      <td>106.025</td>\n",
              "      <td>6645</td>\n",
              "      <td>483</td>\n",
              "      <td>3</td>\n",
              "      <td>82</td>\n",
              "      <td>15</td>\n",
              "      <td>Female</td>\n",
              "      <td>Yes</td>\n",
              "      <td>Yes</td>\n",
              "      <td>Asian</td>\n",
              "      <td>903</td>\n",
              "      <td>0</td>\n",
              "    </tr>\n",
              "    <tr>\n",
              "      <th>2</th>\n",
              "      <td>3</td>\n",
              "      <td>104.593</td>\n",
              "      <td>7075</td>\n",
              "      <td>514</td>\n",
              "      <td>4</td>\n",
              "      <td>71</td>\n",
              "      <td>11</td>\n",
              "      <td>Male</td>\n",
              "      <td>No</td>\n",
              "      <td>No</td>\n",
              "      <td>Asian</td>\n",
              "      <td>580</td>\n",
              "      <td>0</td>\n",
              "    </tr>\n",
              "    <tr>\n",
              "      <th>3</th>\n",
              "      <td>4</td>\n",
              "      <td>148.924</td>\n",
              "      <td>9504</td>\n",
              "      <td>681</td>\n",
              "      <td>3</td>\n",
              "      <td>36</td>\n",
              "      <td>11</td>\n",
              "      <td>Female</td>\n",
              "      <td>No</td>\n",
              "      <td>No</td>\n",
              "      <td>Asian</td>\n",
              "      <td>964</td>\n",
              "      <td>0</td>\n",
              "    </tr>\n",
              "    <tr>\n",
              "      <th>4</th>\n",
              "      <td>5</td>\n",
              "      <td>55.882</td>\n",
              "      <td>4897</td>\n",
              "      <td>357</td>\n",
              "      <td>2</td>\n",
              "      <td>68</td>\n",
              "      <td>16</td>\n",
              "      <td>Male</td>\n",
              "      <td>No</td>\n",
              "      <td>Yes</td>\n",
              "      <td>Caucasian</td>\n",
              "      <td>331</td>\n",
              "      <td>0</td>\n",
              "    </tr>\n",
              "  </tbody>\n",
              "</table>\n",
              "</div>"
            ],
            "text/plain": [
              "   Unnamed: 0   Income  Limit  Rating  ...  Married  Ethnicity  Balance Defaultee\n",
              "0           1   14.891   3606     283  ...      Yes  Caucasian      333         0\n",
              "1           2  106.025   6645     483  ...      Yes      Asian      903         0\n",
              "2           3  104.593   7075     514  ...       No      Asian      580         0\n",
              "3           4  148.924   9504     681  ...       No      Asian      964         0\n",
              "4           5   55.882   4897     357  ...      Yes  Caucasian      331         0\n",
              "\n",
              "[5 rows x 13 columns]"
            ]
          },
          "metadata": {},
          "execution_count": 16
        }
      ]
    },
    {
      "cell_type": "code",
      "metadata": {
        "id": "iilb0QSeyUU9"
      },
      "source": [
        "encoder = LabelEncoder()\n",
        "# Now apply the transformation to all the columns:\n",
        "for col in df.columns:\n",
        "    df[col] = encoder.fit_transform(df[col])\n",
        "X = df.iloc[:,1:11].values\n",
        "y = df.iloc[:,0].values"
      ],
      "execution_count": 17,
      "outputs": []
    },
    {
      "cell_type": "code",
      "metadata": {
        "id": "X67QdEGq6yhY"
      },
      "source": [
        "#df_drop=df.drop(labels=['Defaultee','Gender','Student','Ethnicity','Married'],axis=1)\n",
        "#df_drop.head()"
      ],
      "execution_count": 18,
      "outputs": []
    },
    {
      "cell_type": "code",
      "metadata": {
        "id": "1CprGvL27OEV"
      },
      "source": [
        "# separating features of our dataframe from the labels\n",
        "#X = df_drop.iloc[:,1:8].values\n",
        "#y = df_drop.iloc[:,0].values\n",
        "#X"
      ],
      "execution_count": 19,
      "outputs": []
    },
    {
      "cell_type": "markdown",
      "metadata": {
        "id": "zoxLJM6K7eIJ"
      },
      "source": [
        "# Data Standardisation"
      ]
    },
    {
      "cell_type": "code",
      "metadata": {
        "id": "tYoei6zR7Vzb"
      },
      "source": [
        "from sklearn.preprocessing import StandardScaler\n",
        "X_std = StandardScaler().fit_transform(X)"
      ],
      "execution_count": 20,
      "outputs": []
    },
    {
      "cell_type": "code",
      "metadata": {
        "colab": {
          "base_uri": "https://localhost:8080/"
        },
        "id": "5ZzLFBAK7hHS",
        "outputId": "1e127933-eb0a-433c-b72f-2ec99dad620b"
      },
      "source": [
        "# Covarience Matrix\n",
        "mean_vec = np.mean(X_std, axis=0)\n",
        "cov_mat = (X_std - mean_vec).T.dot((X_std - mean_vec)) / (X_std.shape[0]-1)\n",
        "print('Covariance matrix \\n%s' %cov_mat)"
      ],
      "execution_count": 21,
      "outputs": [
        {
          "output_type": "stream",
          "name": "stdout",
          "text": [
            "Covariance matrix \n",
            "[[ 1.00250627e+00  6.59281466e-01  6.65995134e-01 -5.34879171e-02\n",
            "   1.53519296e-01 -5.05294735e-02 -4.91877885e-03  9.93611723e-03\n",
            "   1.22186793e-02  7.84097656e-04]\n",
            " [ 6.59281466e-01  1.00250627e+00  9.96657423e-01  5.75079030e-03\n",
            "   7.11756896e-02 -4.31641687e-02 -2.48251539e-02  9.55686519e-03\n",
            "   3.36320498e-02  6.67863972e-03]\n",
            " [ 6.65995134e-01  9.96657423e-01  1.00250627e+00  5.00585817e-02\n",
            "   7.99531512e-02 -4.73295382e-02 -1.81252260e-02  8.45409420e-03\n",
            "   3.75228249e-02  1.25446838e-03]\n",
            " [-5.34879171e-02  5.75079030e-03  5.00585817e-02  1.00250627e+00\n",
            "   4.26220061e-02 -5.12122481e-02  2.27148083e-02 -2.62297010e-02\n",
            "  -9.71935840e-03 -3.87643815e-03]\n",
            " [ 1.53519296e-01  7.11756896e-02  7.99531512e-02  4.26220061e-02\n",
            "   1.00250627e+00  2.37582077e-03 -5.11817858e-03 -2.99739947e-02\n",
            "  -7.45498279e-02 -3.30426939e-02]\n",
            " [-5.05294735e-02 -4.31641687e-02 -4.73295382e-02 -5.12122481e-02\n",
            "   2.37582077e-03  1.00250627e+00  5.06172580e-03  7.22660649e-02\n",
            "   4.90331695e-02 -3.01302172e-02]\n",
            " [-4.91877885e-03 -2.48251539e-02 -1.81252260e-02  2.27148083e-02\n",
            "  -5.11817858e-03  5.06172580e-03  1.00250627e+00 -5.51716476e-02\n",
            "  -1.24829179e-02 -1.51779092e-03]\n",
            " [ 9.93611723e-03  9.55686519e-03  8.45409420e-03 -2.62297010e-02\n",
            "  -2.99739947e-02  7.22660649e-02 -5.51716476e-02  1.00250627e+00\n",
            "  -7.71666174e-02 -3.03372197e-02]\n",
            " [ 1.22186793e-02  3.36320498e-02  3.75228249e-02 -9.71935840e-03\n",
            "  -7.45498279e-02  4.90331695e-02 -1.24829179e-02 -7.71666174e-02\n",
            "   1.00250627e+00  6.07143699e-02]\n",
            " [ 7.84097656e-04  6.67863972e-03  1.25446838e-03 -3.87643815e-03\n",
            "  -3.30426939e-02 -3.01302172e-02 -1.51779092e-03 -3.03372197e-02\n",
            "   6.07143699e-02  1.00250627e+00]]\n"
          ]
        }
      ]
    },
    {
      "cell_type": "code",
      "metadata": {
        "colab": {
          "base_uri": "https://localhost:8080/"
        },
        "id": "-L3XGuaE75IC",
        "outputId": "4f941ca3-2798-4d9a-96f6-ee9839933ba4"
      },
      "source": [
        "# Eigen decomposition of the covariance matrix\n",
        "eig_vals, eig_vecs = np.linalg.eig(cov_mat)\n",
        "\n",
        "print('Eigenvectors \\n%s' %eig_vecs)\n",
        "print('\\nEigenvalues \\n%s' %eig_vals)"
      ],
      "execution_count": 22,
      "outputs": [
        {
          "output_type": "stream",
          "name": "stdout",
          "text": [
            "Eigenvectors \n",
            "[[-5.14207013e-01 -1.18539137e-02 -8.46882130e-01 -3.92492052e-02\n",
            "   3.70772851e-02 -1.30951692e-02  3.95633202e-02 -1.92955336e-02\n",
            "  -4.63812802e-02 -1.05194033e-01]\n",
            " [-5.99395833e-01 -7.02065709e-01  3.61787219e-01  7.97693153e-02\n",
            "  -2.28270564e-02 -5.42690934e-02 -4.56371559e-03  2.38823727e-02\n",
            "  -3.28233268e-02  7.37595159e-02]\n",
            " [-6.01288565e-01  7.11249898e-01  3.38394834e-01  7.42687918e-02\n",
            "  -2.58444976e-02 -2.85385825e-02 -1.79992236e-03  1.93483725e-02\n",
            "  -1.22456818e-02  1.02658574e-01]\n",
            " [-7.77518002e-03 -3.19767459e-02 -1.24021429e-01  1.01206618e-01\n",
            "  -8.97029620e-02  4.93158272e-01 -9.37289138e-02 -1.41663971e-01\n",
            "   4.44237375e-01  7.04159500e-01]\n",
            " [-1.06020140e-01 -3.93481933e-03  1.42005106e-01 -3.65769633e-01\n",
            "   2.90587716e-01  4.22327177e-01  2.05858441e-01 -3.22644650e-01\n",
            "   4.29476150e-01 -4.90981544e-01]\n",
            " [ 4.99277123e-02  1.51200313e-03 -3.17105447e-02  4.44834182e-01\n",
            "   2.14432036e-01 -4.77887911e-01  5.59194561e-01 -2.89852960e-01\n",
            "   3.45243566e-01  9.14196896e-02]\n",
            " [ 1.86334525e-02 -3.98593722e-03  2.61101613e-02 -2.14179642e-01\n",
            "  -1.67335904e-01  2.67299321e-01  6.56592780e-01 -2.28600517e-01\n",
            "  -5.65372799e-01  2.24974086e-01]\n",
            " [-5.04641669e-03 -6.61983528e-04  1.12878118e-02 -5.17635992e-01\n",
            "   5.39743378e-01 -3.56809472e-01 -2.36968257e-01 -3.01348319e-01\n",
            "  -1.31779487e-01  3.85918578e-01]\n",
            " [-2.43649576e-02 -3.95111388e-03 -4.39760527e-03 -5.65113880e-01\n",
            "  -5.64685995e-01 -3.67336110e-01  1.91632702e-01  1.76249049e-01\n",
            "   3.89829704e-01  8.03591471e-02]\n",
            " [-2.83233621e-03  3.81968419e-03  2.96387624e-03  1.07234382e-01\n",
            "  -4.69864693e-01 -1.11485450e-01 -3.32502913e-01 -7.85090589e-01\n",
            "  -8.15615534e-02 -1.47274737e-01]]\n",
            "\n",
            "Eigenvalues \n",
            "[2.58640265 0.00471724 0.41935814 0.82163208 1.14355889 1.12592909\n",
            " 1.01893291 0.95117198 0.97874642 0.97461326]\n"
          ]
        }
      ]
    },
    {
      "cell_type": "code",
      "metadata": {
        "colab": {
          "base_uri": "https://localhost:8080/"
        },
        "id": "h9AwuGHg8BTU",
        "outputId": "3f9d769b-a6ea-406e-cc07-de8ea2209eee"
      },
      "source": [
        "# Selecting Principal Components\n",
        "# Make a list of (eigenvalue, eigenvector) tuples\n",
        "eig_pairs = [(np.abs(eig_vals[i]), eig_vecs[:,i]) for i in range(len(eig_vals))]\n",
        "\n",
        "# Sort the (eigenvalue, eigenvector) tuples from high to low\n",
        "eig_pairs.sort(key=lambda x: x[0], reverse=True)\n",
        "\n",
        "# Visually confirm that the list is correctly sorted by decreasing eigenvalues\n",
        "print('Eigenvalues in descending order:')\n",
        "for i in eig_pairs:\n",
        "    print(i[0])"
      ],
      "execution_count": 23,
      "outputs": [
        {
          "output_type": "stream",
          "name": "stdout",
          "text": [
            "Eigenvalues in descending order:\n",
            "2.586402646134885\n",
            "1.143558886450789\n",
            "1.1259290850674644\n",
            "1.0189329075797073\n",
            "0.9787464186797148\n",
            "0.974613264240275\n",
            "0.9511719799323014\n",
            "0.821632084801829\n",
            "0.4193581394465199\n",
            "0.004717244308122973\n"
          ]
        }
      ]
    },
    {
      "cell_type": "code",
      "metadata": {
        "id": "dHYcvIwl8Lpq"
      },
      "source": [
        "tot = sum(eig_vals)\n",
        "var_exp = [(i / tot)*100 for i in sorted(eig_vals, reverse=True)]"
      ],
      "execution_count": 24,
      "outputs": []
    },
    {
      "cell_type": "code",
      "metadata": {
        "colab": {
          "base_uri": "https://localhost:8080/"
        },
        "id": "cuH0zwHe8OVE",
        "outputId": "857dfcb6-a68d-4c93-8968-5f396ef65808"
      },
      "source": [
        "# Projection Matrix\n",
        "matrix_w = np.hstack((eig_pairs[0][1].reshape(10,1), \n",
        "                      eig_pairs[1][1].reshape(10,1)\n",
        "                    ))\n",
        "print('Matrix W:\\n', matrix_w)"
      ],
      "execution_count": 25,
      "outputs": [
        {
          "output_type": "stream",
          "name": "stdout",
          "text": [
            "Matrix W:\n",
            " [[-0.51420701  0.03707729]\n",
            " [-0.59939583 -0.02282706]\n",
            " [-0.60128857 -0.0258445 ]\n",
            " [-0.00777518 -0.08970296]\n",
            " [-0.10602014  0.29058772]\n",
            " [ 0.04992771  0.21443204]\n",
            " [ 0.01863345 -0.1673359 ]\n",
            " [-0.00504642  0.53974338]\n",
            " [-0.02436496 -0.564686  ]\n",
            " [-0.00283234 -0.46986469]]\n"
          ]
        }
      ]
    },
    {
      "cell_type": "markdown",
      "metadata": {
        "id": "Suy31DxE8ZKR"
      },
      "source": [
        "# Projection Onto the New Feature Space \n",
        "In this last step we will use the 7×2-dimensional projection matrix W to transform our samples onto the new subspace via the equation Y=X×W"
      ]
    },
    {
      "cell_type": "code",
      "metadata": {
        "colab": {
          "base_uri": "https://localhost:8080/"
        },
        "id": "WCs4ymAN8SiN",
        "outputId": "005e7153-72d7-4439-d28a-a03873790487"
      },
      "source": [
        "Y = X_std.dot(matrix_w)\n",
        "Y.shape"
      ],
      "execution_count": 26,
      "outputs": [
        {
          "output_type": "execute_result",
          "data": {
            "text/plain": [
              "(400, 2)"
            ]
          },
          "metadata": {},
          "execution_count": 26
        }
      ]
    }
  ]
}