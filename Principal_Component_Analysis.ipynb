{
  "nbformat": 4,
  "nbformat_minor": 0,
  "metadata": {
    "colab": {
      "name": "Principal Component Analysis.ipynb",
      "provenance": [],
      "collapsed_sections": [],
      "authorship_tag": "ABX9TyNsr2Ktq0WuuNSNwZehCci8",
      "include_colab_link": true
    },
    "kernelspec": {
      "name": "python3",
      "display_name": "Python 3"
    },
    "language_info": {
      "name": "python"
    }
  },
  "cells": [
    {
      "cell_type": "markdown",
      "metadata": {
        "id": "view-in-github",
        "colab_type": "text"
      },
      "source": [
        "<a href=\"https://colab.research.google.com/github/philsaurabh/Tutorials/blob/main/Principal_Component_Analysis.ipynb\" target=\"_parent\"><img src=\"https://colab.research.google.com/assets/colab-badge.svg\" alt=\"Open In Colab\"/></a>"
      ]
    },
    {
      "cell_type": "markdown",
      "metadata": {
        "id": "o2mzBgA8B-2B"
      },
      "source": [
        "# Importing Libraries"
      ]
    },
    {
      "cell_type": "code",
      "metadata": {
        "id": "b2iRX35_B1ib"
      },
      "source": [
        "import pandas as pd\n",
        "import numpy as np"
      ],
      "execution_count": 34,
      "outputs": []
    },
    {
      "cell_type": "code",
      "metadata": {
        "id": "Po3bju8yEGAT",
        "colab": {
          "base_uri": "https://localhost:8080/",
          "height": 203
        },
        "outputId": "e5ce4e3c-25c4-46d8-acfc-8eeb1934b8cc"
      },
      "source": [
        "# To read data as dataframe\n",
        "df = pd.read_csv('https://raw.githubusercontent.com/philsaurabh/Tutorials/main/Credit.csv')\n",
        "df.head()"
      ],
      "execution_count": 35,
      "outputs": [
        {
          "output_type": "execute_result",
          "data": {
            "text/html": [
              "<div>\n",
              "<style scoped>\n",
              "    .dataframe tbody tr th:only-of-type {\n",
              "        vertical-align: middle;\n",
              "    }\n",
              "\n",
              "    .dataframe tbody tr th {\n",
              "        vertical-align: top;\n",
              "    }\n",
              "\n",
              "    .dataframe thead th {\n",
              "        text-align: right;\n",
              "    }\n",
              "</style>\n",
              "<table border=\"1\" class=\"dataframe\">\n",
              "  <thead>\n",
              "    <tr style=\"text-align: right;\">\n",
              "      <th></th>\n",
              "      <th>Unnamed: 0</th>\n",
              "      <th>Income</th>\n",
              "      <th>Limit</th>\n",
              "      <th>Rating</th>\n",
              "      <th>Cards</th>\n",
              "      <th>Age</th>\n",
              "      <th>Education</th>\n",
              "      <th>Gender</th>\n",
              "      <th>Student</th>\n",
              "      <th>Married</th>\n",
              "      <th>Ethnicity</th>\n",
              "      <th>Balance</th>\n",
              "      <th>Defaultee</th>\n",
              "    </tr>\n",
              "  </thead>\n",
              "  <tbody>\n",
              "    <tr>\n",
              "      <th>0</th>\n",
              "      <td>1</td>\n",
              "      <td>14.891</td>\n",
              "      <td>3606</td>\n",
              "      <td>283</td>\n",
              "      <td>2</td>\n",
              "      <td>34</td>\n",
              "      <td>11</td>\n",
              "      <td>Male</td>\n",
              "      <td>No</td>\n",
              "      <td>Yes</td>\n",
              "      <td>Caucasian</td>\n",
              "      <td>333</td>\n",
              "      <td>0</td>\n",
              "    </tr>\n",
              "    <tr>\n",
              "      <th>1</th>\n",
              "      <td>2</td>\n",
              "      <td>106.025</td>\n",
              "      <td>6645</td>\n",
              "      <td>483</td>\n",
              "      <td>3</td>\n",
              "      <td>82</td>\n",
              "      <td>15</td>\n",
              "      <td>Female</td>\n",
              "      <td>Yes</td>\n",
              "      <td>Yes</td>\n",
              "      <td>Asian</td>\n",
              "      <td>903</td>\n",
              "      <td>0</td>\n",
              "    </tr>\n",
              "    <tr>\n",
              "      <th>2</th>\n",
              "      <td>3</td>\n",
              "      <td>104.593</td>\n",
              "      <td>7075</td>\n",
              "      <td>514</td>\n",
              "      <td>4</td>\n",
              "      <td>71</td>\n",
              "      <td>11</td>\n",
              "      <td>Male</td>\n",
              "      <td>No</td>\n",
              "      <td>No</td>\n",
              "      <td>Asian</td>\n",
              "      <td>580</td>\n",
              "      <td>0</td>\n",
              "    </tr>\n",
              "    <tr>\n",
              "      <th>3</th>\n",
              "      <td>4</td>\n",
              "      <td>148.924</td>\n",
              "      <td>9504</td>\n",
              "      <td>681</td>\n",
              "      <td>3</td>\n",
              "      <td>36</td>\n",
              "      <td>11</td>\n",
              "      <td>Female</td>\n",
              "      <td>No</td>\n",
              "      <td>No</td>\n",
              "      <td>Asian</td>\n",
              "      <td>964</td>\n",
              "      <td>0</td>\n",
              "    </tr>\n",
              "    <tr>\n",
              "      <th>4</th>\n",
              "      <td>5</td>\n",
              "      <td>55.882</td>\n",
              "      <td>4897</td>\n",
              "      <td>357</td>\n",
              "      <td>2</td>\n",
              "      <td>68</td>\n",
              "      <td>16</td>\n",
              "      <td>Male</td>\n",
              "      <td>No</td>\n",
              "      <td>Yes</td>\n",
              "      <td>Caucasian</td>\n",
              "      <td>331</td>\n",
              "      <td>0</td>\n",
              "    </tr>\n",
              "  </tbody>\n",
              "</table>\n",
              "</div>"
            ],
            "text/plain": [
              "   Unnamed: 0   Income  Limit  Rating  ...  Married  Ethnicity  Balance Defaultee\n",
              "0           1   14.891   3606     283  ...      Yes  Caucasian      333         0\n",
              "1           2  106.025   6645     483  ...      Yes      Asian      903         0\n",
              "2           3  104.593   7075     514  ...       No      Asian      580         0\n",
              "3           4  148.924   9504     681  ...       No      Asian      964         0\n",
              "4           5   55.882   4897     357  ...      Yes  Caucasian      331         0\n",
              "\n",
              "[5 rows x 13 columns]"
            ]
          },
          "metadata": {},
          "execution_count": 35
        }
      ]
    },
    {
      "cell_type": "code",
      "metadata": {
        "colab": {
          "base_uri": "https://localhost:8080/",
          "height": 326
        },
        "id": "aFvPKmpp6Jv_",
        "outputId": "9973574a-623d-4e73-b787-1a8e3b5a0d1e"
      },
      "source": [
        "df.corr()"
      ],
      "execution_count": 36,
      "outputs": [
        {
          "output_type": "execute_result",
          "data": {
            "text/html": [
              "<div>\n",
              "<style scoped>\n",
              "    .dataframe tbody tr th:only-of-type {\n",
              "        vertical-align: middle;\n",
              "    }\n",
              "\n",
              "    .dataframe tbody tr th {\n",
              "        vertical-align: top;\n",
              "    }\n",
              "\n",
              "    .dataframe thead th {\n",
              "        text-align: right;\n",
              "    }\n",
              "</style>\n",
              "<table border=\"1\" class=\"dataframe\">\n",
              "  <thead>\n",
              "    <tr style=\"text-align: right;\">\n",
              "      <th></th>\n",
              "      <th>Unnamed: 0</th>\n",
              "      <th>Income</th>\n",
              "      <th>Limit</th>\n",
              "      <th>Rating</th>\n",
              "      <th>Cards</th>\n",
              "      <th>Age</th>\n",
              "      <th>Education</th>\n",
              "      <th>Balance</th>\n",
              "      <th>Defaultee</th>\n",
              "    </tr>\n",
              "  </thead>\n",
              "  <tbody>\n",
              "    <tr>\n",
              "      <th>Unnamed: 0</th>\n",
              "      <td>1.000000</td>\n",
              "      <td>0.037203</td>\n",
              "      <td>0.024172</td>\n",
              "      <td>0.021985</td>\n",
              "      <td>-0.036304</td>\n",
              "      <td>0.058603</td>\n",
              "      <td>-0.001415</td>\n",
              "      <td>0.006064</td>\n",
              "      <td>-0.009411</td>\n",
              "    </tr>\n",
              "    <tr>\n",
              "      <th>Income</th>\n",
              "      <td>0.037203</td>\n",
              "      <td>1.000000</td>\n",
              "      <td>0.792088</td>\n",
              "      <td>0.791378</td>\n",
              "      <td>-0.018273</td>\n",
              "      <td>0.175338</td>\n",
              "      <td>-0.027692</td>\n",
              "      <td>0.463656</td>\n",
              "      <td>0.406121</td>\n",
              "    </tr>\n",
              "    <tr>\n",
              "      <th>Limit</th>\n",
              "      <td>0.024172</td>\n",
              "      <td>0.792088</td>\n",
              "      <td>1.000000</td>\n",
              "      <td>0.996880</td>\n",
              "      <td>0.010231</td>\n",
              "      <td>0.100888</td>\n",
              "      <td>-0.023549</td>\n",
              "      <td>0.861697</td>\n",
              "      <td>0.622837</td>\n",
              "    </tr>\n",
              "    <tr>\n",
              "      <th>Rating</th>\n",
              "      <td>0.021985</td>\n",
              "      <td>0.791378</td>\n",
              "      <td>0.996880</td>\n",
              "      <td>1.000000</td>\n",
              "      <td>0.053239</td>\n",
              "      <td>0.103165</td>\n",
              "      <td>-0.030136</td>\n",
              "      <td>0.863625</td>\n",
              "      <td>0.628375</td>\n",
              "    </tr>\n",
              "    <tr>\n",
              "      <th>Cards</th>\n",
              "      <td>-0.036304</td>\n",
              "      <td>-0.018273</td>\n",
              "      <td>0.010231</td>\n",
              "      <td>0.053239</td>\n",
              "      <td>1.000000</td>\n",
              "      <td>0.042948</td>\n",
              "      <td>-0.051084</td>\n",
              "      <td>0.086456</td>\n",
              "      <td>0.100063</td>\n",
              "    </tr>\n",
              "    <tr>\n",
              "      <th>Age</th>\n",
              "      <td>0.058603</td>\n",
              "      <td>0.175338</td>\n",
              "      <td>0.100888</td>\n",
              "      <td>0.103165</td>\n",
              "      <td>0.042948</td>\n",
              "      <td>1.000000</td>\n",
              "      <td>0.003619</td>\n",
              "      <td>0.001835</td>\n",
              "      <td>0.038126</td>\n",
              "    </tr>\n",
              "    <tr>\n",
              "      <th>Education</th>\n",
              "      <td>-0.001415</td>\n",
              "      <td>-0.027692</td>\n",
              "      <td>-0.023549</td>\n",
              "      <td>-0.030136</td>\n",
              "      <td>-0.051084</td>\n",
              "      <td>0.003619</td>\n",
              "      <td>1.000000</td>\n",
              "      <td>-0.008062</td>\n",
              "      <td>0.009590</td>\n",
              "    </tr>\n",
              "    <tr>\n",
              "      <th>Balance</th>\n",
              "      <td>0.006064</td>\n",
              "      <td>0.463656</td>\n",
              "      <td>0.861697</td>\n",
              "      <td>0.863625</td>\n",
              "      <td>0.086456</td>\n",
              "      <td>0.001835</td>\n",
              "      <td>-0.008062</td>\n",
              "      <td>1.000000</td>\n",
              "      <td>0.744432</td>\n",
              "    </tr>\n",
              "    <tr>\n",
              "      <th>Defaultee</th>\n",
              "      <td>-0.009411</td>\n",
              "      <td>0.406121</td>\n",
              "      <td>0.622837</td>\n",
              "      <td>0.628375</td>\n",
              "      <td>0.100063</td>\n",
              "      <td>0.038126</td>\n",
              "      <td>0.009590</td>\n",
              "      <td>0.744432</td>\n",
              "      <td>1.000000</td>\n",
              "    </tr>\n",
              "  </tbody>\n",
              "</table>\n",
              "</div>"
            ],
            "text/plain": [
              "            Unnamed: 0    Income     Limit  ...  Education   Balance  Defaultee\n",
              "Unnamed: 0    1.000000  0.037203  0.024172  ...  -0.001415  0.006064  -0.009411\n",
              "Income        0.037203  1.000000  0.792088  ...  -0.027692  0.463656   0.406121\n",
              "Limit         0.024172  0.792088  1.000000  ...  -0.023549  0.861697   0.622837\n",
              "Rating        0.021985  0.791378  0.996880  ...  -0.030136  0.863625   0.628375\n",
              "Cards        -0.036304 -0.018273  0.010231  ...  -0.051084  0.086456   0.100063\n",
              "Age           0.058603  0.175338  0.100888  ...   0.003619  0.001835   0.038126\n",
              "Education    -0.001415 -0.027692 -0.023549  ...   1.000000 -0.008062   0.009590\n",
              "Balance       0.006064  0.463656  0.861697  ...  -0.008062  1.000000   0.744432\n",
              "Defaultee    -0.009411  0.406121  0.622837  ...   0.009590  0.744432   1.000000\n",
              "\n",
              "[9 rows x 9 columns]"
            ]
          },
          "metadata": {},
          "execution_count": 36
        }
      ]
    },
    {
      "cell_type": "code",
      "metadata": {
        "colab": {
          "base_uri": "https://localhost:8080/",
          "height": 203
        },
        "id": "X67QdEGq6yhY",
        "outputId": "2f2c85c8-601c-4c51-c88f-8b5bbd9c5f6e"
      },
      "source": [
        "df_drop=df.drop(labels=['Defaultee','Gender','Student','Ethnicity','Married'],axis=1)\n",
        "df_drop.head()"
      ],
      "execution_count": 37,
      "outputs": [
        {
          "output_type": "execute_result",
          "data": {
            "text/html": [
              "<div>\n",
              "<style scoped>\n",
              "    .dataframe tbody tr th:only-of-type {\n",
              "        vertical-align: middle;\n",
              "    }\n",
              "\n",
              "    .dataframe tbody tr th {\n",
              "        vertical-align: top;\n",
              "    }\n",
              "\n",
              "    .dataframe thead th {\n",
              "        text-align: right;\n",
              "    }\n",
              "</style>\n",
              "<table border=\"1\" class=\"dataframe\">\n",
              "  <thead>\n",
              "    <tr style=\"text-align: right;\">\n",
              "      <th></th>\n",
              "      <th>Unnamed: 0</th>\n",
              "      <th>Income</th>\n",
              "      <th>Limit</th>\n",
              "      <th>Rating</th>\n",
              "      <th>Cards</th>\n",
              "      <th>Age</th>\n",
              "      <th>Education</th>\n",
              "      <th>Balance</th>\n",
              "    </tr>\n",
              "  </thead>\n",
              "  <tbody>\n",
              "    <tr>\n",
              "      <th>0</th>\n",
              "      <td>1</td>\n",
              "      <td>14.891</td>\n",
              "      <td>3606</td>\n",
              "      <td>283</td>\n",
              "      <td>2</td>\n",
              "      <td>34</td>\n",
              "      <td>11</td>\n",
              "      <td>333</td>\n",
              "    </tr>\n",
              "    <tr>\n",
              "      <th>1</th>\n",
              "      <td>2</td>\n",
              "      <td>106.025</td>\n",
              "      <td>6645</td>\n",
              "      <td>483</td>\n",
              "      <td>3</td>\n",
              "      <td>82</td>\n",
              "      <td>15</td>\n",
              "      <td>903</td>\n",
              "    </tr>\n",
              "    <tr>\n",
              "      <th>2</th>\n",
              "      <td>3</td>\n",
              "      <td>104.593</td>\n",
              "      <td>7075</td>\n",
              "      <td>514</td>\n",
              "      <td>4</td>\n",
              "      <td>71</td>\n",
              "      <td>11</td>\n",
              "      <td>580</td>\n",
              "    </tr>\n",
              "    <tr>\n",
              "      <th>3</th>\n",
              "      <td>4</td>\n",
              "      <td>148.924</td>\n",
              "      <td>9504</td>\n",
              "      <td>681</td>\n",
              "      <td>3</td>\n",
              "      <td>36</td>\n",
              "      <td>11</td>\n",
              "      <td>964</td>\n",
              "    </tr>\n",
              "    <tr>\n",
              "      <th>4</th>\n",
              "      <td>5</td>\n",
              "      <td>55.882</td>\n",
              "      <td>4897</td>\n",
              "      <td>357</td>\n",
              "      <td>2</td>\n",
              "      <td>68</td>\n",
              "      <td>16</td>\n",
              "      <td>331</td>\n",
              "    </tr>\n",
              "  </tbody>\n",
              "</table>\n",
              "</div>"
            ],
            "text/plain": [
              "   Unnamed: 0   Income  Limit  Rating  Cards  Age  Education  Balance\n",
              "0           1   14.891   3606     283      2   34         11      333\n",
              "1           2  106.025   6645     483      3   82         15      903\n",
              "2           3  104.593   7075     514      4   71         11      580\n",
              "3           4  148.924   9504     681      3   36         11      964\n",
              "4           5   55.882   4897     357      2   68         16      331"
            ]
          },
          "metadata": {},
          "execution_count": 37
        }
      ]
    },
    {
      "cell_type": "code",
      "metadata": {
        "colab": {
          "base_uri": "https://localhost:8080/"
        },
        "id": "QxBktB7z7JV1",
        "outputId": "fa4dc91e-3e90-458d-dff7-0a2b5c3798b8"
      },
      "source": [
        "cols = df_drop.columns.tolist()\n",
        "cols"
      ],
      "execution_count": 38,
      "outputs": [
        {
          "output_type": "execute_result",
          "data": {
            "text/plain": [
              "['Unnamed: 0',\n",
              " 'Income',\n",
              " 'Limit',\n",
              " 'Rating',\n",
              " 'Cards',\n",
              " 'Age',\n",
              " 'Education',\n",
              " 'Balance']"
            ]
          },
          "metadata": {},
          "execution_count": 38
        }
      ]
    },
    {
      "cell_type": "code",
      "metadata": {
        "colab": {
          "base_uri": "https://localhost:8080/"
        },
        "id": "1CprGvL27OEV",
        "outputId": "710007d6-baaf-43c2-fb4e-93fad05dc4d3"
      },
      "source": [
        "# separating features of our dataframe from the labels\n",
        "X = df_drop.iloc[:,1:8].values\n",
        "y = df_drop.iloc[:,0].values\n",
        "X"
      ],
      "execution_count": 39,
      "outputs": [
        {
          "output_type": "execute_result",
          "data": {
            "text/plain": [
              "array([[1.48910e+01, 3.60600e+03, 2.83000e+02, ..., 3.40000e+01,\n",
              "        1.10000e+01, 3.33000e+02],\n",
              "       [1.06025e+02, 6.64500e+03, 4.83000e+02, ..., 8.20000e+01,\n",
              "        1.50000e+01, 9.03000e+02],\n",
              "       [1.04593e+02, 7.07500e+03, 5.14000e+02, ..., 7.10000e+01,\n",
              "        1.10000e+01, 5.80000e+02],\n",
              "       ...,\n",
              "       [5.78720e+01, 4.17100e+03, 3.21000e+02, ..., 6.70000e+01,\n",
              "        1.20000e+01, 1.38000e+02],\n",
              "       [3.77280e+01, 2.52500e+03, 1.92000e+02, ..., 4.40000e+01,\n",
              "        1.30000e+01, 0.00000e+00],\n",
              "       [1.87010e+01, 5.52400e+03, 4.15000e+02, ..., 6.40000e+01,\n",
              "        7.00000e+00, 9.66000e+02]])"
            ]
          },
          "metadata": {},
          "execution_count": 39
        }
      ]
    },
    {
      "cell_type": "markdown",
      "metadata": {
        "id": "zoxLJM6K7eIJ"
      },
      "source": [
        "# Data Standardisation"
      ]
    },
    {
      "cell_type": "code",
      "metadata": {
        "id": "tYoei6zR7Vzb"
      },
      "source": [
        "from sklearn.preprocessing import StandardScaler\n",
        "X_std = StandardScaler().fit_transform(X)"
      ],
      "execution_count": 40,
      "outputs": []
    },
    {
      "cell_type": "code",
      "metadata": {
        "colab": {
          "base_uri": "https://localhost:8080/"
        },
        "id": "5ZzLFBAK7hHS",
        "outputId": "0aa997fa-c67e-4055-defe-0a142d57f224"
      },
      "source": [
        "# Covarience Matrix\n",
        "mean_vec = np.mean(X_std, axis=0)\n",
        "cov_mat = (X_std - mean_vec).T.dot((X_std - mean_vec)) / (X_std.shape[0]-1)\n",
        "print('Covariance matrix \\n%s' %cov_mat)"
      ],
      "execution_count": 41,
      "outputs": [
        {
          "output_type": "stream",
          "name": "stdout",
          "text": [
            "Covariance matrix \n",
            "[[ 1.00250627  0.79407353  0.79336103 -0.01831841  0.17577785 -0.02776139\n",
            "   0.4648185 ]\n",
            " [ 0.79407353  1.00250627  0.99937818  0.01025698  0.10114077 -0.02360755\n",
            "   0.86385691]\n",
            " [ 0.79336103  0.99937818  1.00250627  0.05337246  0.10342355 -0.03021115\n",
            "   0.86578963]\n",
            " [-0.01831841  0.01025698  0.05337246  1.00250627  0.04305593 -0.05121225\n",
            "   0.08667303]\n",
            " [ 0.17577785  0.10114077  0.10342355  0.04305593  1.00250627  0.00362836\n",
            "   0.00183972]\n",
            " [-0.02776139 -0.02360755 -0.03021115 -0.05121225  0.00362836  1.00250627\n",
            "  -0.00808178]\n",
            " [ 0.4648185   0.86385691  0.86578963  0.08667303  0.00183972 -0.00808178\n",
            "   1.00250627]]\n"
          ]
        }
      ]
    },
    {
      "cell_type": "code",
      "metadata": {
        "colab": {
          "base_uri": "https://localhost:8080/"
        },
        "id": "-L3XGuaE75IC",
        "outputId": "e72d49dc-d0df-47f4-8948-9a66efd90cd9"
      },
      "source": [
        "# Eigen decomposition of the covariance matrix\n",
        "eig_vals, eig_vecs = np.linalg.eig(cov_mat)\n",
        "\n",
        "print('Eigenvectors \\n%s' %eig_vecs)\n",
        "print('\\nEigenvalues \\n%s' %eig_vals)"
      ],
      "execution_count": 42,
      "outputs": [
        {
          "output_type": "stream",
          "name": "stdout",
          "text": [
            "Eigenvectors \n",
            "[[ 4.45399793e-01  7.38478885e-01 -4.63728428e-01 -2.61335303e-03\n",
            "   1.33726519e-01 -1.49278828e-01  3.24056468e-02]\n",
            " [ 5.36014689e-01 -3.39526203e-02  4.59356441e-01 -7.04822682e-01\n",
            "   8.99472325e-03  3.54273272e-02  4.91540298e-02]\n",
            " [ 5.36641042e-01 -2.52634696e-02  4.55060254e-01  7.08720002e-01\n",
            "  -1.54517933e-02  3.94973956e-02  1.46789537e-02]\n",
            " [ 2.91606875e-02  1.58644967e-01  1.67009318e-02 -3.03886879e-02\n",
            "  -6.51448387e-01  7.70066332e-02 -7.36521563e-01]\n",
            " [ 7.81878134e-02 -2.55245791e-01 -1.22244643e-02 -2.53960639e-04\n",
            "   1.81007390e-01 -8.95683817e-01 -3.05897982e-01]\n",
            " [-1.90162104e-02  4.55454277e-02  8.11048127e-03  3.13624060e-03\n",
            "  -7.10981382e-01 -3.63340314e-01  5.99981394e-01]\n",
            " [ 4.67972621e-01 -6.00387281e-01 -6.05288058e-01 -8.61783648e-04\n",
            "  -1.38399254e-01  1.86292746e-01  1.74075620e-02]]\n",
            "\n",
            "Eigenvalues \n",
            "[3.43323241e+00 4.94553856e-01 4.98778290e-02 2.18625324e-03\n",
            " 9.57948914e-01 1.02062852e+00 1.05911608e+00]\n"
          ]
        }
      ]
    },
    {
      "cell_type": "code",
      "metadata": {
        "colab": {
          "base_uri": "https://localhost:8080/"
        },
        "id": "h9AwuGHg8BTU",
        "outputId": "ffa94700-5603-4ab6-d0ca-b13fa1c4c92b"
      },
      "source": [
        "# Selecting Principal Components\n",
        "# Make a list of (eigenvalue, eigenvector) tuples\n",
        "eig_pairs = [(np.abs(eig_vals[i]), eig_vecs[:,i]) for i in range(len(eig_vals))]\n",
        "\n",
        "# Sort the (eigenvalue, eigenvector) tuples from high to low\n",
        "eig_pairs.sort(key=lambda x: x[0], reverse=True)\n",
        "\n",
        "# Visually confirm that the list is correctly sorted by decreasing eigenvalues\n",
        "print('Eigenvalues in descending order:')\n",
        "for i in eig_pairs:\n",
        "    print(i[0])"
      ],
      "execution_count": 43,
      "outputs": [
        {
          "output_type": "stream",
          "name": "stdout",
          "text": [
            "Eigenvalues in descending order:\n",
            "3.4332324069111957\n",
            "1.0591160779975888\n",
            "1.0206285227060878\n",
            "0.9579489136845248\n",
            "0.49455385607799585\n",
            "0.04987782902968256\n",
            "0.002186253242046895\n"
          ]
        }
      ]
    },
    {
      "cell_type": "code",
      "metadata": {
        "id": "dHYcvIwl8Lpq"
      },
      "source": [
        "tot = sum(eig_vals)\n",
        "var_exp = [(i / tot)*100 for i in sorted(eig_vals, reverse=True)]"
      ],
      "execution_count": 44,
      "outputs": []
    },
    {
      "cell_type": "code",
      "metadata": {
        "colab": {
          "base_uri": "https://localhost:8080/"
        },
        "id": "cuH0zwHe8OVE",
        "outputId": "c565f6a4-2412-402a-eb8d-c247e46dfccc"
      },
      "source": [
        "# Projection Matrix\n",
        "matrix_w = np.hstack((eig_pairs[0][1].reshape(7,1), \n",
        "                      eig_pairs[1][1].reshape(7,1)\n",
        "                    ))\n",
        "print('Matrix W:\\n', matrix_w)"
      ],
      "execution_count": 45,
      "outputs": [
        {
          "output_type": "stream",
          "name": "stdout",
          "text": [
            "Matrix W:\n",
            " [[ 0.44539979  0.03240565]\n",
            " [ 0.53601469  0.04915403]\n",
            " [ 0.53664104  0.01467895]\n",
            " [ 0.02916069 -0.73652156]\n",
            " [ 0.07818781 -0.30589798]\n",
            " [-0.01901621  0.59998139]\n",
            " [ 0.46797262  0.01740756]]\n"
          ]
        }
      ]
    },
    {
      "cell_type": "markdown",
      "metadata": {
        "id": "Suy31DxE8ZKR"
      },
      "source": [
        "# Projection Onto the New Feature Space \n",
        "In this last step we will use the 7×2-dimensional projection matrix W to transform our samples onto the new subspace via the equation Y=X×W"
      ]
    },
    {
      "cell_type": "code",
      "metadata": {
        "colab": {
          "base_uri": "https://localhost:8080/"
        },
        "id": "WCs4ymAN8SiN",
        "outputId": "99cfcf4d-b83e-4af3-9ebc-97717cb8c7e2"
      },
      "source": [
        "Y = X_std.dot(matrix_w)\n",
        "Y"
      ],
      "execution_count": 46,
      "outputs": [
        {
          "output_type": "execute_result",
          "data": {
            "text/plain": [
              "array([[-1.19061265e+00,  3.62771915e-01],\n",
              "       [ 2.15935957e+00, -6.90873884e-02],\n",
              "       [ 2.01543225e+00, -1.18189241e+00],\n",
              "       [ 3.93230007e+00,  1.00357894e-01],\n",
              "       [ 7.01909682e-03,  7.92406583e-01],\n",
              "       [ 2.73877982e+00, -1.45552675e+00],\n",
              "       [-1.37236260e+00,  4.95490881e-01],\n",
              "       [ 1.93745724e+00, -7.93705495e-01],\n",
              "       [-1.17595188e+00, -1.44427505e+00],\n",
              "       [ 2.03030081e+00,  1.41700769e+00],\n",
              "       [ 2.63155542e+00,  1.45243281e-01],\n",
              "       [-2.43821803e+00,  1.78242270e-01],\n",
              "       [ 3.98226937e-01, -1.74263836e-01],\n",
              "       [ 1.55776649e+00,  3.96997497e-01],\n",
              "       [-1.27331081e+00,  8.09061990e-03],\n",
              "       [-1.90249161e+00,  1.46727834e-01],\n",
              "       [-8.42950715e-01,  3.11451259e-01],\n",
              "       [-3.51830580e-01,  1.54290990e-02],\n",
              "       [ 9.99454198e-01,  7.50627597e-01],\n",
              "       [ 1.32250107e+00, -6.40819983e-02],\n",
              "       [-1.60015033e+00, -2.93721754e-01],\n",
              "       [ 1.10755935e+00,  1.49964367e+00],\n",
              "       [-1.78390734e+00, -8.81895611e-01],\n",
              "       [ 4.21409934e-01, -1.98315599e+00],\n",
              "       [-2.35213176e+00,  1.17567953e-01],\n",
              "       [-5.47671243e-01, -9.82094499e-02],\n",
              "       [-3.64776470e-01, -1.73514729e+00],\n",
              "       [-4.23198578e-01,  1.19242162e+00],\n",
              "       [ 7.09356664e+00,  1.30160167e+00],\n",
              "       [ 5.71503422e-01, -3.65983920e-02],\n",
              "       [ 6.61687694e-01, -2.00285435e+00],\n",
              "       [-1.73443978e+00, -4.74497167e-01],\n",
              "       [ 2.52320501e+00,  7.32605269e-01],\n",
              "       [-2.12436102e+00, -8.80826177e-01],\n",
              "       [-2.03748536e+00,  1.06300697e+00],\n",
              "       [-1.37511177e+00, -2.66402742e-01],\n",
              "       [ 1.27603080e+00, -1.57046008e-01],\n",
              "       [ 1.23631962e+00, -5.22086787e-01],\n",
              "       [-8.93003934e-01, -7.32690746e-01],\n",
              "       [-1.21153342e+00, -3.72570265e-01],\n",
              "       [-1.30048675e+00,  4.54844117e-02],\n",
              "       [ 2.84564021e+00,  7.96208674e-01],\n",
              "       [-1.29087557e-01,  2.39079311e-01],\n",
              "       [ 8.37567570e-01,  1.77135097e+00],\n",
              "       [ 1.06591593e+00,  1.06806839e+00],\n",
              "       [ 2.26188579e+00, -7.29842728e-02],\n",
              "       [ 5.56250249e-01,  8.69379735e-01],\n",
              "       [ 2.27876486e-02,  9.31412906e-01],\n",
              "       [-1.50749376e+00, -1.71579868e+00],\n",
              "       [ 3.19958898e-01, -5.19511972e-01],\n",
              "       [ 1.62844231e-01,  4.01939327e-01],\n",
              "       [-9.40656932e-01,  2.24472599e+00],\n",
              "       [ 2.35223138e-01,  1.21532876e+00],\n",
              "       [ 5.41040799e-01, -1.39622508e+00],\n",
              "       [-2.44665865e+00, -3.23411029e-01],\n",
              "       [-2.03678939e+00, -7.22629534e-01],\n",
              "       [ 2.31598002e-01, -1.70629991e+00],\n",
              "       [ 1.11687944e-01, -6.04629806e-01],\n",
              "       [-1.15743657e+00,  8.69846731e-01],\n",
              "       [ 4.62504729e-01, -3.06264522e-01],\n",
              "       [-2.48525373e-02,  2.14693039e+00],\n",
              "       [-1.41968311e+00, -8.27585091e-01],\n",
              "       [-1.98771520e+00, -1.22063564e+00],\n",
              "       [-1.46443718e+00, -3.11721874e-01],\n",
              "       [-1.49548303e+00,  3.15969781e-01],\n",
              "       [-6.98665420e-01, -6.72533658e-03],\n",
              "       [ 4.03017848e+00, -9.92253925e-02],\n",
              "       [ 1.84120917e-01, -3.14409836e-01],\n",
              "       [ 5.83866582e-01,  4.36621946e-01],\n",
              "       [ 1.65032534e+00, -3.59061279e-01],\n",
              "       [-6.14621532e-01, -1.22768766e+00],\n",
              "       [ 2.12485194e+00, -1.04763309e-01],\n",
              "       [-2.01147577e-01,  2.07012082e+00],\n",
              "       [-3.93549996e-01,  1.52678592e-01],\n",
              "       [ 4.30654966e-01, -1.02514247e+00],\n",
              "       [-1.63270979e+00,  1.42088927e+00],\n",
              "       [-8.70107633e-01,  1.27028205e+00],\n",
              "       [-1.55556265e+00,  1.72854427e+00],\n",
              "       [ 1.50841778e+00, -1.96938029e-01],\n",
              "       [-2.14059218e+00,  3.34086519e-01],\n",
              "       [-1.16543127e+00, -6.63853003e-01],\n",
              "       [-4.93260837e-01,  8.43306084e-01],\n",
              "       [-3.49221752e-01, -6.51964660e-01],\n",
              "       [-2.51833638e+00,  2.60374529e-01],\n",
              "       [-1.30592203e+00, -1.34025392e+00],\n",
              "       [ 5.94967030e+00, -2.31384882e-01],\n",
              "       [ 9.71257710e-01,  1.81669757e+00],\n",
              "       [-2.08104289e+00, -1.01803944e+00],\n",
              "       [-3.63586743e-01, -1.66638955e+00],\n",
              "       [ 2.16101855e+00, -6.97890098e-01],\n",
              "       [ 6.44507903e-01,  1.97448745e-01],\n",
              "       [ 9.39340987e-01,  6.72706879e-01],\n",
              "       [-1.52001825e+00, -6.47962399e-01],\n",
              "       [ 1.68173888e-01,  1.53925729e+00],\n",
              "       [-1.44604977e+00,  3.92294363e-01],\n",
              "       [-2.66411141e+00, -3.97811777e-01],\n",
              "       [ 6.29364187e-01,  1.69499751e+00],\n",
              "       [-1.15276613e+00, -2.72404287e-01],\n",
              "       [-1.03630984e+00,  3.39343283e-01],\n",
              "       [ 3.02059127e+00,  9.97220446e-02],\n",
              "       [-1.20010758e+00,  7.80907511e-01],\n",
              "       [-1.49319090e+00,  1.19608835e-01],\n",
              "       [ 2.62350347e+00,  1.13867924e+00],\n",
              "       [ 4.17276356e+00, -1.27516374e+00],\n",
              "       [-8.09799226e-02, -8.08859301e-01],\n",
              "       [-1.46781241e+00,  1.26357317e+00],\n",
              "       [-2.45941423e+00,  3.46246835e-01],\n",
              "       [-1.20229030e+00, -6.58618645e-01],\n",
              "       [ 1.18055788e+00, -5.19588248e-01],\n",
              "       [-1.30948656e+00,  2.23614519e-01],\n",
              "       [-1.33687102e+00,  5.66909907e-01],\n",
              "       [-1.56985794e+00, -1.17635519e-01],\n",
              "       [ 1.41744063e+00, -1.38106765e-01],\n",
              "       [ 1.26856146e+00, -3.05589771e-01],\n",
              "       [-1.30087934e+00, -7.64707563e-02],\n",
              "       [ 1.91320780e-01, -2.59728985e+00],\n",
              "       [-1.83846202e+00,  2.54032377e-01],\n",
              "       [ 3.27703609e+00,  2.08167473e+00],\n",
              "       [-2.08228581e+00,  8.29089233e-01],\n",
              "       [-2.24071083e+00, -1.14252933e-01],\n",
              "       [-2.29905100e+00,  4.82751609e-01],\n",
              "       [ 2.98372743e+00,  1.31445906e-01],\n",
              "       [ 1.69041261e+00,  1.70709570e-01],\n",
              "       [-2.48347815e+00, -4.42233737e-01],\n",
              "       [-1.95629533e+00,  1.13307213e+00],\n",
              "       [-1.97066547e+00,  1.63721424e+00],\n",
              "       [ 1.12793513e+00, -6.59212662e-01],\n",
              "       [-9.29546773e-01, -8.29831202e-01],\n",
              "       [ 3.58255359e+00,  8.07217427e-01],\n",
              "       [-1.17977067e+00,  1.99822506e-01],\n",
              "       [-3.53352479e-01, -8.78318393e-01],\n",
              "       [-2.40715033e+00,  2.73260094e-03],\n",
              "       [ 4.61873789e-01, -5.14055520e-01],\n",
              "       [ 8.52758027e-01, -1.24423592e+00],\n",
              "       [ 8.68421996e-01, -6.87983752e-02],\n",
              "       [-1.05832658e+00, -3.82304381e-02],\n",
              "       [-5.42408599e-01, -8.12443101e-01],\n",
              "       [-1.02424471e+00, -1.10108744e+00],\n",
              "       [-1.99791619e+00, -3.97054390e-01],\n",
              "       [ 4.68123347e+00, -1.56466253e+00],\n",
              "       [ 1.42228241e+00,  1.85805501e-01],\n",
              "       [ 1.48875836e+00,  3.55610397e-01],\n",
              "       [ 2.29926251e+00,  2.91719975e-01],\n",
              "       [ 7.82824184e-02, -8.43853595e-01],\n",
              "       [-1.82559615e+00,  4.05906187e-01],\n",
              "       [-3.08628590e-01,  6.81835653e-01],\n",
              "       [ 6.53295445e-02,  2.81324283e-01],\n",
              "       [-2.27717363e+00,  3.33590753e-01],\n",
              "       [-1.95921395e+00, -3.04961249e-01],\n",
              "       [-2.62795880e+00, -1.70768615e+00],\n",
              "       [ 6.79683565e-01,  6.22423504e-01],\n",
              "       [-3.81341227e-02, -2.99047606e-01],\n",
              "       [-1.72744537e+00, -5.58608250e-01],\n",
              "       [-1.31478565e-01,  1.09954487e+00],\n",
              "       [-1.33739589e+00,  1.38732418e+00],\n",
              "       [-2.42436928e+00, -1.16672349e+00],\n",
              "       [-2.92273870e-01, -1.55520765e+00],\n",
              "       [ 1.04734351e+00,  7.65807756e-01],\n",
              "       [ 5.78484799e-01, -2.24481299e-01],\n",
              "       [-1.25600120e+00, -1.22648690e-01],\n",
              "       [ 1.35147185e-01, -1.78372330e+00],\n",
              "       [-1.97452078e+00, -4.82542873e-01],\n",
              "       [ 1.98628582e+00,  8.81435897e-01],\n",
              "       [-1.87768554e+00, -1.15476607e+00],\n",
              "       [ 9.51809849e-01, -5.68570843e-01],\n",
              "       [-2.13420823e-01, -8.79594703e-01],\n",
              "       [-1.69504999e+00,  1.09839393e+00],\n",
              "       [-2.03433448e+00,  1.38744117e+00],\n",
              "       [-1.80619770e+00,  9.12180825e-01],\n",
              "       [ 1.00246557e+00, -4.44006790e-01],\n",
              "       [-1.91193441e+00, -1.00696649e+00],\n",
              "       [-6.30195108e-01,  3.52703352e-02],\n",
              "       [-5.88414869e-02,  2.48223504e-01],\n",
              "       [-2.08755086e-01, -3.64496733e-01],\n",
              "       [ 4.77283088e+00,  7.71493123e-01],\n",
              "       [-1.87246155e+00,  6.22153143e-01],\n",
              "       [-1.87082270e+00,  6.36893663e-01],\n",
              "       [-9.47438975e-01,  9.56773696e-01],\n",
              "       [-6.17921926e-01,  2.96109142e-01],\n",
              "       [ 2.35724845e+00, -1.65320292e+00],\n",
              "       [-9.27401617e-01, -9.10835927e-01],\n",
              "       [ 3.29089693e-01, -7.38664769e-01],\n",
              "       [ 1.25424429e+00, -4.55304229e-01],\n",
              "       [-4.27897661e-01,  7.46025375e-01],\n",
              "       [ 5.50591930e+00,  1.95135953e+00],\n",
              "       [-6.23621855e-01,  1.58793108e+00],\n",
              "       [-8.59017563e-01,  4.48719171e-01],\n",
              "       [-1.99569004e+00,  3.57410222e-01],\n",
              "       [ 2.39833607e+00, -3.08788258e-01],\n",
              "       [-3.14166986e-01,  4.71755228e-01],\n",
              "       [ 3.67017700e-01,  2.48238721e-01],\n",
              "       [ 4.47597037e+00,  9.77422868e-01],\n",
              "       [-8.01181579e-01, -5.06744166e-01],\n",
              "       [ 4.52233014e+00, -5.48862341e-01],\n",
              "       [-1.84745231e+00,  1.00719838e-01],\n",
              "       [ 3.60446926e-01,  7.06303842e-01],\n",
              "       [ 2.03886823e+00,  6.97633338e-01],\n",
              "       [-6.57022403e-01,  6.61183684e-01],\n",
              "       [-2.05238240e+00, -9.97516418e-02],\n",
              "       [-6.95995686e-01, -1.08444892e+00],\n",
              "       [ 1.65224554e-01,  1.67546822e+00],\n",
              "       [ 2.21633820e+00, -1.42111813e+00],\n",
              "       [-2.33646824e+00,  2.54993788e-01],\n",
              "       [ 2.13230975e+00, -2.17763830e-01],\n",
              "       [ 3.20844608e-01, -5.11001124e-01],\n",
              "       [-6.43546044e-01, -2.37348626e+00],\n",
              "       [-1.86065832e+00, -7.32087793e-02],\n",
              "       [ 1.84614541e-01, -1.44244727e+00],\n",
              "       [-4.86804456e-01,  4.29354777e-01],\n",
              "       [ 3.74607764e+00, -3.55558356e-01],\n",
              "       [-1.42197030e+00,  4.53709755e-02],\n",
              "       [ 2.17943301e-01,  8.31997047e-01],\n",
              "       [-4.64023882e-01,  2.20100808e-01],\n",
              "       [ 1.54609462e-01,  1.80154385e+00],\n",
              "       [ 3.46308630e-01,  9.06293550e-01],\n",
              "       [-4.39434644e-01,  6.02937429e-01],\n",
              "       [-1.80533202e+00,  6.74329004e-01],\n",
              "       [ 3.50677032e-01, -7.89295457e-02],\n",
              "       [-2.13203305e+00, -5.50063637e-01],\n",
              "       [ 3.38866625e-01, -9.97075938e-01],\n",
              "       [ 1.25103513e+00, -5.06886547e-03],\n",
              "       [ 3.45906430e+00, -1.77768412e+00],\n",
              "       [ 1.57166519e+00, -1.14019843e+00],\n",
              "       [-1.40566033e-01, -7.23967478e-01],\n",
              "       [ 2.70632650e+00, -1.72729729e+00],\n",
              "       [ 4.84064241e-01,  2.47166766e-01],\n",
              "       [ 1.96613587e+00, -1.63925181e+00],\n",
              "       [ 6.59841275e-01,  2.81223146e-01],\n",
              "       [-2.35907097e-01,  4.34180566e-01],\n",
              "       [ 2.30393354e+00, -1.11774322e+00],\n",
              "       [ 2.39587775e-01, -9.31516167e-01],\n",
              "       [-1.15181687e-01, -3.76113527e-01],\n",
              "       [-2.91691508e-01,  1.43523430e+00],\n",
              "       [-2.02453723e+00, -8.85051706e-01],\n",
              "       [ 2.65851287e+00,  4.92552399e-01],\n",
              "       [-1.78896822e+00,  1.30151478e+00],\n",
              "       [-4.87774620e-02,  3.78456444e-01],\n",
              "       [ 2.80660788e-01, -4.63598070e-01],\n",
              "       [-1.50939085e+00, -6.95948701e-01],\n",
              "       [-1.30838719e+00,  1.26987448e+00],\n",
              "       [-1.11040695e+00, -1.33166762e+00],\n",
              "       [-2.76478683e+00,  2.40623355e-01],\n",
              "       [-2.48979876e+00,  8.67931682e-01],\n",
              "       [ 1.27718451e+00,  8.42829187e-01],\n",
              "       [-2.16472386e+00, -5.69347040e-01],\n",
              "       [-1.75137820e+00, -7.59488295e-01],\n",
              "       [-1.28433052e+00, -5.90900850e-01],\n",
              "       [-1.86528572e+00,  1.04724409e+00],\n",
              "       [-2.84096871e+00,  1.70313543e+00],\n",
              "       [-2.27819135e+00, -1.01711858e-02],\n",
              "       [-2.16385390e+00,  1.42689484e+00],\n",
              "       [-1.17007724e+00, -1.63177491e+00],\n",
              "       [ 3.09689013e+00, -1.05349980e+00],\n",
              "       [ 5.61443014e-01, -1.95228965e+00],\n",
              "       [ 1.38118273e+00, -2.34894969e+00],\n",
              "       [-5.35352618e-01, -9.89061345e-01],\n",
              "       [-2.18051397e+00,  2.26902694e-01],\n",
              "       [-2.03786050e+00,  9.70680734e-01],\n",
              "       [-1.68288023e+00,  8.86965545e-01],\n",
              "       [ 1.19517749e+00, -2.42852170e+00],\n",
              "       [ 3.75106721e-01, -9.43044142e-01],\n",
              "       [ 4.47625199e+00, -1.00017005e+00],\n",
              "       [-8.50634432e-01,  7.28538592e-01],\n",
              "       [-1.21084155e+00,  8.15404727e-01],\n",
              "       [ 6.52949760e-02,  4.00803060e-01],\n",
              "       [ 8.25262664e-02,  6.76062641e-02],\n",
              "       [ 2.49353682e-01, -5.82943825e-01],\n",
              "       [ 6.29586681e-01,  7.81053444e-01],\n",
              "       [-2.14967422e+00, -1.43676142e+00],\n",
              "       [ 5.22546921e-01,  4.76907716e-01],\n",
              "       [-1.74016980e+00,  1.17226835e+00],\n",
              "       [-2.23073270e-01,  8.43900768e-01],\n",
              "       [-5.81767523e-01,  1.32403459e+00],\n",
              "       [ 4.01851825e-01, -1.39349199e+00],\n",
              "       [ 1.01094466e+00, -2.36800436e+00],\n",
              "       [ 3.38073299e+00,  4.04479892e-01],\n",
              "       [-1.28531213e+00,  8.45189399e-01],\n",
              "       [-1.79910417e-02,  3.39308134e-01],\n",
              "       [ 1.95725039e+00, -2.23149816e-01],\n",
              "       [-8.51713418e-01, -1.17659478e+00],\n",
              "       [ 2.53116303e-01,  8.82500000e-02],\n",
              "       [-2.01162067e+00,  1.87233208e-01],\n",
              "       [ 2.52419535e+00,  1.43750535e+00],\n",
              "       [ 1.34138041e+00,  3.82389096e-01],\n",
              "       [-2.11735889e+00, -1.24132221e+00],\n",
              "       [-2.34805333e+00,  1.75329485e-01],\n",
              "       [-2.41825871e+00,  8.16162418e-01],\n",
              "       [-8.90138441e-01, -1.89345918e+00],\n",
              "       [ 1.48691490e-01,  7.11267906e-01],\n",
              "       [-9.77647092e-01,  5.90476317e-02],\n",
              "       [-1.09748478e+00, -2.03717894e+00],\n",
              "       [-9.40847148e-01, -7.09772914e-01],\n",
              "       [ 6.91639461e-02,  1.26525257e+00],\n",
              "       [ 5.56389934e+00, -2.54424739e+00],\n",
              "       [-1.62927391e+00, -4.87523126e-01],\n",
              "       [-2.13441629e+00, -2.08995055e+00],\n",
              "       [ 8.30350663e-02,  1.87395958e+00],\n",
              "       [-3.51759601e-01,  3.19709579e-01],\n",
              "       [-1.84740136e+00,  1.57229026e+00],\n",
              "       [ 1.78465718e-01, -8.57917749e-01],\n",
              "       [-3.48279277e-01,  1.81421948e+00],\n",
              "       [-1.08057244e+00, -1.00701827e+00],\n",
              "       [-3.88967420e-02,  1.14862614e+00],\n",
              "       [ 7.34411409e-04,  1.67111227e-01],\n",
              "       [ 2.15978472e+00,  4.05851031e-01],\n",
              "       [-2.15543730e+00,  6.04459993e-01],\n",
              "       [-7.77652425e-01, -1.54686684e+00],\n",
              "       [-6.15082246e-01,  3.27593975e-01],\n",
              "       [-3.98624337e-01, -5.40627309e-01],\n",
              "       [ 1.63864611e+00,  1.33966760e+00],\n",
              "       [ 3.91132479e-01,  1.62158824e+00],\n",
              "       [ 3.55111316e-01,  2.62286280e-01],\n",
              "       [ 4.23797741e-01, -2.22843036e+00],\n",
              "       [ 2.27321656e+00,  1.18183580e+00],\n",
              "       [ 3.65843228e+00,  5.97466036e-01],\n",
              "       [-9.16530742e-01,  6.38502146e-01],\n",
              "       [ 1.88207107e+00,  6.97649042e-01],\n",
              "       [-1.20970265e-01,  7.37769154e-01],\n",
              "       [-2.27962372e+00, -7.11573238e-01],\n",
              "       [-1.66981032e+00, -6.72382293e-01],\n",
              "       [-2.41247599e+00, -6.50035711e-01],\n",
              "       [-1.65647377e+00,  1.24043454e+00],\n",
              "       [-9.73316528e-01, -2.08410862e+00],\n",
              "       [ 7.75139590e+00, -1.91981821e-01],\n",
              "       [-1.17529081e+00,  9.44346265e-01],\n",
              "       [-7.61323992e-03,  5.81317794e-01],\n",
              "       [ 4.52626917e+00,  2.57454931e-01],\n",
              "       [ 1.55578003e+00, -5.92674629e-02],\n",
              "       [-9.28081509e-01,  4.49923021e-01],\n",
              "       [ 2.12098147e+00,  1.34660481e+00],\n",
              "       [ 1.27470380e-01,  8.98146407e-01],\n",
              "       [-9.29256672e-01,  1.08716981e+00],\n",
              "       [ 3.80396186e-01, -1.87180108e-01],\n",
              "       [-1.27314717e+00,  9.05881607e-01],\n",
              "       [-1.91132051e-01,  6.48462076e-01],\n",
              "       [-1.32954337e+00, -2.12833193e-01],\n",
              "       [ 8.93693249e-01, -8.29720885e-01],\n",
              "       [-2.76437416e+00, -3.64146794e-02],\n",
              "       [ 1.53959361e-01,  1.36173947e+00],\n",
              "       [ 4.47989433e+00,  1.38053398e+00],\n",
              "       [-8.65951898e-01, -1.28982729e+00],\n",
              "       [-8.29166864e-01,  7.62868522e-01],\n",
              "       [-1.46738955e+00, -1.70950627e+00],\n",
              "       [-1.13376336e+00,  1.34033943e+00],\n",
              "       [ 4.52244899e-01, -2.51989801e+00],\n",
              "       [-2.37387911e+00,  1.47661638e+00],\n",
              "       [ 4.65266218e-01, -1.28130186e-01],\n",
              "       [ 4.94240884e+00,  1.25804451e+00],\n",
              "       [-2.55064568e+00, -3.20462799e-01],\n",
              "       [ 3.11852996e-01, -3.67182419e-01],\n",
              "       [-2.06499834e+00, -1.02202168e+00],\n",
              "       [ 2.00575565e-01, -5.76536891e-02],\n",
              "       [ 1.81089025e+00,  1.00373471e+00],\n",
              "       [-2.76171400e-01,  1.53509615e+00],\n",
              "       [-1.07002173e+00,  2.07552971e+00],\n",
              "       [ 5.97724136e+00, -2.16357841e-01],\n",
              "       [ 8.40108073e-01,  4.76092787e-01],\n",
              "       [-1.80755959e+00,  1.34904023e+00],\n",
              "       [-4.70190603e-01,  1.44701684e+00],\n",
              "       [-3.07248732e-01, -7.49365323e-01],\n",
              "       [ 1.00719874e+00, -1.64424250e+00],\n",
              "       [-4.65105131e-02,  1.18396604e+00],\n",
              "       [ 1.27251286e-01,  9.31557568e-01],\n",
              "       [ 9.83295460e-01,  1.42302232e-02],\n",
              "       [ 4.15886879e+00,  5.10175328e-01],\n",
              "       [ 2.07815172e+00, -3.76954381e-01],\n",
              "       [ 2.41287184e+00,  2.06470641e-01],\n",
              "       [-1.11947023e+00,  3.02286699e-01],\n",
              "       [ 8.70528873e-01, -1.05988328e+00],\n",
              "       [ 2.64049299e+00,  5.87478282e-01],\n",
              "       [ 1.03041907e+00, -5.11736218e-01],\n",
              "       [-1.73970990e+00, -7.03697284e-01],\n",
              "       [-5.12373523e-01,  1.13923885e+00],\n",
              "       [ 7.41794185e-01,  1.38008754e+00],\n",
              "       [ 4.21316550e-03,  4.82218080e-01],\n",
              "       [ 5.76978857e-01, -3.79707513e-01],\n",
              "       [ 1.86622308e+00,  1.38860882e-01],\n",
              "       [-2.22150201e+00, -7.26367771e-01],\n",
              "       [-2.18783734e-01,  2.51109216e+00],\n",
              "       [-1.24523708e+00, -1.79168712e-01],\n",
              "       [ 2.48872975e+00, -2.50864647e-01],\n",
              "       [ 2.70068318e+00, -3.03499761e-01],\n",
              "       [ 8.36710208e-01,  6.33884521e-01],\n",
              "       [-9.31541577e-01, -4.32466685e+00],\n",
              "       [-2.04411821e+00, -1.42739306e-02],\n",
              "       [ 5.16099202e-01,  2.54316938e-01],\n",
              "       [-9.11838538e-01, -1.30591080e+00],\n",
              "       [-2.41684736e+00, -1.13059177e+00],\n",
              "       [ 1.54805912e+00,  6.93765644e-02],\n",
              "       [ 1.74437631e+00,  1.70767123e+00],\n",
              "       [ 4.85359366e+00,  1.02964572e-01],\n",
              "       [ 1.30272347e+00,  1.12119617e+00],\n",
              "       [-2.03296858e+00,  3.09745304e-01],\n",
              "       [-2.40237845e+00,  1.24203586e-01],\n",
              "       [ 6.89195965e-01, -1.29070399e+00],\n",
              "       [-7.96396866e-01,  2.63792182e-01],\n",
              "       [-7.93021800e-01, -6.37312671e-01],\n",
              "       [-3.74609633e-01, -1.59644840e+00],\n",
              "       [-1.79647900e+00,  1.08414575e+00],\n",
              "       [ 6.31466807e-01, -2.47118441e+00]])"
            ]
          },
          "metadata": {},
          "execution_count": 46
        }
      ]
    },
    {
      "cell_type": "markdown",
      "metadata": {
        "id": "SQ9PGErh8kb0"
      },
      "source": [
        "# PCA in scikit-learn"
      ]
    },
    {
      "cell_type": "code",
      "metadata": {
        "id": "81eDuBTa8VM0"
      },
      "source": [
        "from sklearn.decomposition import PCA\n",
        "pca = PCA().fit(X_std)"
      ],
      "execution_count": 47,
      "outputs": []
    },
    {
      "cell_type": "code",
      "metadata": {
        "id": "mwWQsVak8nOg"
      },
      "source": [
        "from sklearn.decomposition import PCA \n",
        "sklearn_pca = PCA(n_components=6)\n",
        "Y_sklearn = sklearn_pca.fit_transform(X_std)"
      ],
      "execution_count": 48,
      "outputs": []
    },
    {
      "cell_type": "code",
      "metadata": {
        "colab": {
          "base_uri": "https://localhost:8080/"
        },
        "id": "-jU1JOR-8ssU",
        "outputId": "94a8b3b0-d136-4e41-fd48-35348129c243"
      },
      "source": [
        "print(Y_sklearn)\n",
        "Y_sklearn.shape"
      ],
      "execution_count": 49,
      "outputs": [
        {
          "output_type": "stream",
          "name": "stdout",
          "text": [
            "[[-1.19061265 -0.36277191  1.37483382 -0.72980557 -0.18898643 -0.20646022]\n",
            " [ 2.15935957  0.06908739 -1.58746588 -0.01359661  0.36327149  0.56246757]\n",
            " [ 2.01543225  1.18189241 -0.6041669  -0.42398958  0.96459381 -0.06874669]\n",
            " ...\n",
            " [-0.37460963  1.5964484  -0.53153129  0.35778936  0.82634777 -0.13752276]\n",
            " [-1.796479   -1.08414575  0.29408031 -1.04697182  0.52151061  0.15290948]\n",
            " [ 0.63146681  2.47118441  0.7533306  -0.34711744 -1.14186137 -0.09765327]]\n"
          ]
        },
        {
          "output_type": "execute_result",
          "data": {
            "text/plain": [
              "(400, 6)"
            ]
          },
          "metadata": {},
          "execution_count": 49
        }
      ]
    },
    {
      "cell_type": "markdown",
      "metadata": {
        "id": "UIrVmtz28-o3"
      },
      "source": [
        "# Additional"
      ]
    },
    {
      "cell_type": "code",
      "metadata": {
        "colab": {
          "base_uri": "https://localhost:8080/",
          "height": 296
        },
        "id": "suxdxiuh9AD_",
        "outputId": "02a08e82-0d26-4aea-e766-54e5b8c49e06"
      },
      "source": [
        "import matplotlib.pyplot as plt\n",
        "plt.plot(np.cumsum(pca.explained_variance_ratio_))\n",
        "plt.xlim(0,7,1)\n",
        "plt.xlabel('Number of components')\n",
        "plt.ylabel('Cumulative explained variance')"
      ],
      "execution_count": 50,
      "outputs": [
        {
          "output_type": "execute_result",
          "data": {
            "text/plain": [
              "Text(0, 0.5, 'Cumulative explained variance')"
            ]
          },
          "metadata": {},
          "execution_count": 50
        },
        {
          "output_type": "display_data",
          "data": {
            "image/png": "[encoded data removed]",
            "text/plain": [
              "<Figure size 432x288 with 1 Axes>"
            ]
          },
          "metadata": {
            "needs_background": "light"
          }
        }
      ]
    }
  ]
}