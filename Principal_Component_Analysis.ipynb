{
  "nbformat": 4,
  "nbformat_minor": 0,
  "metadata": {
    "colab": {
      "name": "Principal Component Analysis.ipynb",
      "provenance": [],
      "collapsed_sections": [],
      "authorship_tag": "ABX9TyPXBwGHdGaMQb4PSMPuX843",
      "include_colab_link": true
    },
    "kernelspec": {
      "name": "python3",
      "display_name": "Python 3"
    },
    "language_info": {
      "name": "python"
    }
  },
  "cells": [
    {
      "cell_type": "markdown",
      "metadata": {
        "id": "view-in-github",
        "colab_type": "text"
      },
      "source": [
        "<a href=\"https://colab.research.google.com/github/philsaurabh/Tutorials/blob/main/Principal_Component_Analysis.ipynb\" target=\"_parent\"><img src=\"https://colab.research.google.com/assets/colab-badge.svg\" alt=\"Open In Colab\"/></a>"
      ]
    },
    {
      "cell_type": "markdown",
      "metadata": {
        "id": "o2mzBgA8B-2B"
      },
      "source": [
        "# Importing Libraries"
      ]
    },
    {
      "cell_type": "code",
      "metadata": {
        "id": "b2iRX35_B1ib"
      },
      "source": [
        "import pandas as pd\n",
        "import numpy as np\n",
        "import matplotlib.pyplot as plt\n",
        "from sklearn.preprocessing import LabelEncoder, StandardScaler\n",
        "from sklearn.decomposition import PCA\n",
        "from sklearn.model_selection import train_test_split"
      ],
      "execution_count": 18,
      "outputs": []
    },
    {
      "cell_type": "code",
      "metadata": {
        "id": "Po3bju8yEGAT",
        "colab": {
          "base_uri": "https://localhost:8080/",
          "height": 203
        },
        "outputId": "e135be61-66ff-48af-be23-a8f911e3b6a4"
      },
      "source": [
        "# To read data as dataframe\n",
        "df = pd.read_csv('https://raw.githubusercontent.com/philsaurabh/Tutorials/main/Credit.csv')\n",
        "df.head()"
      ],
      "execution_count": 74,
      "outputs": [
        {
          "output_type": "execute_result",
          "data": {
            "text/html": [
              "<div>\n",
              "<style scoped>\n",
              "    .dataframe tbody tr th:only-of-type {\n",
              "        vertical-align: middle;\n",
              "    }\n",
              "\n",
              "    .dataframe tbody tr th {\n",
              "        vertical-align: top;\n",
              "    }\n",
              "\n",
              "    .dataframe thead th {\n",
              "        text-align: right;\n",
              "    }\n",
              "</style>\n",
              "<table border=\"1\" class=\"dataframe\">\n",
              "  <thead>\n",
              "    <tr style=\"text-align: right;\">\n",
              "      <th></th>\n",
              "      <th>Unnamed: 0</th>\n",
              "      <th>Income</th>\n",
              "      <th>Limit</th>\n",
              "      <th>Rating</th>\n",
              "      <th>Cards</th>\n",
              "      <th>Age</th>\n",
              "      <th>Education</th>\n",
              "      <th>Gender</th>\n",
              "      <th>Student</th>\n",
              "      <th>Married</th>\n",
              "      <th>Ethnicity</th>\n",
              "      <th>Balance</th>\n",
              "      <th>Defaultee</th>\n",
              "    </tr>\n",
              "  </thead>\n",
              "  <tbody>\n",
              "    <tr>\n",
              "      <th>0</th>\n",
              "      <td>1</td>\n",
              "      <td>14.891</td>\n",
              "      <td>3606</td>\n",
              "      <td>283</td>\n",
              "      <td>2</td>\n",
              "      <td>34</td>\n",
              "      <td>11</td>\n",
              "      <td>Male</td>\n",
              "      <td>No</td>\n",
              "      <td>Yes</td>\n",
              "      <td>Caucasian</td>\n",
              "      <td>333</td>\n",
              "      <td>0</td>\n",
              "    </tr>\n",
              "    <tr>\n",
              "      <th>1</th>\n",
              "      <td>2</td>\n",
              "      <td>106.025</td>\n",
              "      <td>6645</td>\n",
              "      <td>483</td>\n",
              "      <td>3</td>\n",
              "      <td>82</td>\n",
              "      <td>15</td>\n",
              "      <td>Female</td>\n",
              "      <td>Yes</td>\n",
              "      <td>Yes</td>\n",
              "      <td>Asian</td>\n",
              "      <td>903</td>\n",
              "      <td>0</td>\n",
              "    </tr>\n",
              "    <tr>\n",
              "      <th>2</th>\n",
              "      <td>3</td>\n",
              "      <td>104.593</td>\n",
              "      <td>7075</td>\n",
              "      <td>514</td>\n",
              "      <td>4</td>\n",
              "      <td>71</td>\n",
              "      <td>11</td>\n",
              "      <td>Male</td>\n",
              "      <td>No</td>\n",
              "      <td>No</td>\n",
              "      <td>Asian</td>\n",
              "      <td>580</td>\n",
              "      <td>0</td>\n",
              "    </tr>\n",
              "    <tr>\n",
              "      <th>3</th>\n",
              "      <td>4</td>\n",
              "      <td>148.924</td>\n",
              "      <td>9504</td>\n",
              "      <td>681</td>\n",
              "      <td>3</td>\n",
              "      <td>36</td>\n",
              "      <td>11</td>\n",
              "      <td>Female</td>\n",
              "      <td>No</td>\n",
              "      <td>No</td>\n",
              "      <td>Asian</td>\n",
              "      <td>964</td>\n",
              "      <td>0</td>\n",
              "    </tr>\n",
              "    <tr>\n",
              "      <th>4</th>\n",
              "      <td>5</td>\n",
              "      <td>55.882</td>\n",
              "      <td>4897</td>\n",
              "      <td>357</td>\n",
              "      <td>2</td>\n",
              "      <td>68</td>\n",
              "      <td>16</td>\n",
              "      <td>Male</td>\n",
              "      <td>No</td>\n",
              "      <td>Yes</td>\n",
              "      <td>Caucasian</td>\n",
              "      <td>331</td>\n",
              "      <td>0</td>\n",
              "    </tr>\n",
              "  </tbody>\n",
              "</table>\n",
              "</div>"
            ],
            "text/plain": [
              "   Unnamed: 0   Income  Limit  Rating  ...  Married  Ethnicity  Balance Defaultee\n",
              "0           1   14.891   3606     283  ...      Yes  Caucasian      333         0\n",
              "1           2  106.025   6645     483  ...      Yes      Asian      903         0\n",
              "2           3  104.593   7075     514  ...       No      Asian      580         0\n",
              "3           4  148.924   9504     681  ...       No      Asian      964         0\n",
              "4           5   55.882   4897     357  ...      Yes  Caucasian      331         0\n",
              "\n",
              "[5 rows x 13 columns]"
            ]
          },
          "metadata": {},
          "execution_count": 74
        }
      ]
    },
    {
      "cell_type": "code",
      "metadata": {
        "colab": {
          "base_uri": "https://localhost:8080/",
          "height": 326
        },
        "id": "aFvPKmpp6Jv_",
        "outputId": "8104a960-9485-4a53-c087-8a9fce2df3e4"
      },
      "source": [
        "df.corr()"
      ],
      "execution_count": 75,
      "outputs": [
        {
          "output_type": "execute_result",
          "data": {
            "text/html": [
              "<div>\n",
              "<style scoped>\n",
              "    .dataframe tbody tr th:only-of-type {\n",
              "        vertical-align: middle;\n",
              "    }\n",
              "\n",
              "    .dataframe tbody tr th {\n",
              "        vertical-align: top;\n",
              "    }\n",
              "\n",
              "    .dataframe thead th {\n",
              "        text-align: right;\n",
              "    }\n",
              "</style>\n",
              "<table border=\"1\" class=\"dataframe\">\n",
              "  <thead>\n",
              "    <tr style=\"text-align: right;\">\n",
              "      <th></th>\n",
              "      <th>Unnamed: 0</th>\n",
              "      <th>Income</th>\n",
              "      <th>Limit</th>\n",
              "      <th>Rating</th>\n",
              "      <th>Cards</th>\n",
              "      <th>Age</th>\n",
              "      <th>Education</th>\n",
              "      <th>Balance</th>\n",
              "      <th>Defaultee</th>\n",
              "    </tr>\n",
              "  </thead>\n",
              "  <tbody>\n",
              "    <tr>\n",
              "      <th>Unnamed: 0</th>\n",
              "      <td>1.000000</td>\n",
              "      <td>0.037203</td>\n",
              "      <td>0.024172</td>\n",
              "      <td>0.021985</td>\n",
              "      <td>-0.036304</td>\n",
              "      <td>0.058603</td>\n",
              "      <td>-0.001415</td>\n",
              "      <td>0.006064</td>\n",
              "      <td>-0.009411</td>\n",
              "    </tr>\n",
              "    <tr>\n",
              "      <th>Income</th>\n",
              "      <td>0.037203</td>\n",
              "      <td>1.000000</td>\n",
              "      <td>0.792088</td>\n",
              "      <td>0.791378</td>\n",
              "      <td>-0.018273</td>\n",
              "      <td>0.175338</td>\n",
              "      <td>-0.027692</td>\n",
              "      <td>0.463656</td>\n",
              "      <td>0.406121</td>\n",
              "    </tr>\n",
              "    <tr>\n",
              "      <th>Limit</th>\n",
              "      <td>0.024172</td>\n",
              "      <td>0.792088</td>\n",
              "      <td>1.000000</td>\n",
              "      <td>0.996880</td>\n",
              "      <td>0.010231</td>\n",
              "      <td>0.100888</td>\n",
              "      <td>-0.023549</td>\n",
              "      <td>0.861697</td>\n",
              "      <td>0.622837</td>\n",
              "    </tr>\n",
              "    <tr>\n",
              "      <th>Rating</th>\n",
              "      <td>0.021985</td>\n",
              "      <td>0.791378</td>\n",
              "      <td>0.996880</td>\n",
              "      <td>1.000000</td>\n",
              "      <td>0.053239</td>\n",
              "      <td>0.103165</td>\n",
              "      <td>-0.030136</td>\n",
              "      <td>0.863625</td>\n",
              "      <td>0.628375</td>\n",
              "    </tr>\n",
              "    <tr>\n",
              "      <th>Cards</th>\n",
              "      <td>-0.036304</td>\n",
              "      <td>-0.018273</td>\n",
              "      <td>0.010231</td>\n",
              "      <td>0.053239</td>\n",
              "      <td>1.000000</td>\n",
              "      <td>0.042948</td>\n",
              "      <td>-0.051084</td>\n",
              "      <td>0.086456</td>\n",
              "      <td>0.100063</td>\n",
              "    </tr>\n",
              "    <tr>\n",
              "      <th>Age</th>\n",
              "      <td>0.058603</td>\n",
              "      <td>0.175338</td>\n",
              "      <td>0.100888</td>\n",
              "      <td>0.103165</td>\n",
              "      <td>0.042948</td>\n",
              "      <td>1.000000</td>\n",
              "      <td>0.003619</td>\n",
              "      <td>0.001835</td>\n",
              "      <td>0.038126</td>\n",
              "    </tr>\n",
              "    <tr>\n",
              "      <th>Education</th>\n",
              "      <td>-0.001415</td>\n",
              "      <td>-0.027692</td>\n",
              "      <td>-0.023549</td>\n",
              "      <td>-0.030136</td>\n",
              "      <td>-0.051084</td>\n",
              "      <td>0.003619</td>\n",
              "      <td>1.000000</td>\n",
              "      <td>-0.008062</td>\n",
              "      <td>0.009590</td>\n",
              "    </tr>\n",
              "    <tr>\n",
              "      <th>Balance</th>\n",
              "      <td>0.006064</td>\n",
              "      <td>0.463656</td>\n",
              "      <td>0.861697</td>\n",
              "      <td>0.863625</td>\n",
              "      <td>0.086456</td>\n",
              "      <td>0.001835</td>\n",
              "      <td>-0.008062</td>\n",
              "      <td>1.000000</td>\n",
              "      <td>0.744432</td>\n",
              "    </tr>\n",
              "    <tr>\n",
              "      <th>Defaultee</th>\n",
              "      <td>-0.009411</td>\n",
              "      <td>0.406121</td>\n",
              "      <td>0.622837</td>\n",
              "      <td>0.628375</td>\n",
              "      <td>0.100063</td>\n",
              "      <td>0.038126</td>\n",
              "      <td>0.009590</td>\n",
              "      <td>0.744432</td>\n",
              "      <td>1.000000</td>\n",
              "    </tr>\n",
              "  </tbody>\n",
              "</table>\n",
              "</div>"
            ],
            "text/plain": [
              "            Unnamed: 0    Income     Limit  ...  Education   Balance  Defaultee\n",
              "Unnamed: 0    1.000000  0.037203  0.024172  ...  -0.001415  0.006064  -0.009411\n",
              "Income        0.037203  1.000000  0.792088  ...  -0.027692  0.463656   0.406121\n",
              "Limit         0.024172  0.792088  1.000000  ...  -0.023549  0.861697   0.622837\n",
              "Rating        0.021985  0.791378  0.996880  ...  -0.030136  0.863625   0.628375\n",
              "Cards        -0.036304 -0.018273  0.010231  ...  -0.051084  0.086456   0.100063\n",
              "Age           0.058603  0.175338  0.100888  ...   0.003619  0.001835   0.038126\n",
              "Education    -0.001415 -0.027692 -0.023549  ...   1.000000 -0.008062   0.009590\n",
              "Balance       0.006064  0.463656  0.861697  ...  -0.008062  1.000000   0.744432\n",
              "Defaultee    -0.009411  0.406121  0.622837  ...   0.009590  0.744432   1.000000\n",
              "\n",
              "[9 rows x 9 columns]"
            ]
          },
          "metadata": {},
          "execution_count": 75
        }
      ]
    },
    {
      "cell_type": "code",
      "metadata": {
        "colab": {
          "base_uri": "https://localhost:8080/",
          "height": 203
        },
        "id": "X67QdEGq6yhY",
        "outputId": "2d7ad428-d229-4bf8-bfc6-30d10f87c7e7"
      },
      "source": [
        "df_drop=df.drop(labels=['Defaultee','Gender','Student','Ethnicity','Married'],axis=1)\n",
        "df_drop.head()"
      ],
      "execution_count": 76,
      "outputs": [
        {
          "output_type": "execute_result",
          "data": {
            "text/html": [
              "<div>\n",
              "<style scoped>\n",
              "    .dataframe tbody tr th:only-of-type {\n",
              "        vertical-align: middle;\n",
              "    }\n",
              "\n",
              "    .dataframe tbody tr th {\n",
              "        vertical-align: top;\n",
              "    }\n",
              "\n",
              "    .dataframe thead th {\n",
              "        text-align: right;\n",
              "    }\n",
              "</style>\n",
              "<table border=\"1\" class=\"dataframe\">\n",
              "  <thead>\n",
              "    <tr style=\"text-align: right;\">\n",
              "      <th></th>\n",
              "      <th>Unnamed: 0</th>\n",
              "      <th>Income</th>\n",
              "      <th>Limit</th>\n",
              "      <th>Rating</th>\n",
              "      <th>Cards</th>\n",
              "      <th>Age</th>\n",
              "      <th>Education</th>\n",
              "      <th>Balance</th>\n",
              "    </tr>\n",
              "  </thead>\n",
              "  <tbody>\n",
              "    <tr>\n",
              "      <th>0</th>\n",
              "      <td>1</td>\n",
              "      <td>14.891</td>\n",
              "      <td>3606</td>\n",
              "      <td>283</td>\n",
              "      <td>2</td>\n",
              "      <td>34</td>\n",
              "      <td>11</td>\n",
              "      <td>333</td>\n",
              "    </tr>\n",
              "    <tr>\n",
              "      <th>1</th>\n",
              "      <td>2</td>\n",
              "      <td>106.025</td>\n",
              "      <td>6645</td>\n",
              "      <td>483</td>\n",
              "      <td>3</td>\n",
              "      <td>82</td>\n",
              "      <td>15</td>\n",
              "      <td>903</td>\n",
              "    </tr>\n",
              "    <tr>\n",
              "      <th>2</th>\n",
              "      <td>3</td>\n",
              "      <td>104.593</td>\n",
              "      <td>7075</td>\n",
              "      <td>514</td>\n",
              "      <td>4</td>\n",
              "      <td>71</td>\n",
              "      <td>11</td>\n",
              "      <td>580</td>\n",
              "    </tr>\n",
              "    <tr>\n",
              "      <th>3</th>\n",
              "      <td>4</td>\n",
              "      <td>148.924</td>\n",
              "      <td>9504</td>\n",
              "      <td>681</td>\n",
              "      <td>3</td>\n",
              "      <td>36</td>\n",
              "      <td>11</td>\n",
              "      <td>964</td>\n",
              "    </tr>\n",
              "    <tr>\n",
              "      <th>4</th>\n",
              "      <td>5</td>\n",
              "      <td>55.882</td>\n",
              "      <td>4897</td>\n",
              "      <td>357</td>\n",
              "      <td>2</td>\n",
              "      <td>68</td>\n",
              "      <td>16</td>\n",
              "      <td>331</td>\n",
              "    </tr>\n",
              "  </tbody>\n",
              "</table>\n",
              "</div>"
            ],
            "text/plain": [
              "   Unnamed: 0   Income  Limit  Rating  Cards  Age  Education  Balance\n",
              "0           1   14.891   3606     283      2   34         11      333\n",
              "1           2  106.025   6645     483      3   82         15      903\n",
              "2           3  104.593   7075     514      4   71         11      580\n",
              "3           4  148.924   9504     681      3   36         11      964\n",
              "4           5   55.882   4897     357      2   68         16      331"
            ]
          },
          "metadata": {},
          "execution_count": 76
        }
      ]
    },
    {
      "cell_type": "code",
      "metadata": {
        "colab": {
          "base_uri": "https://localhost:8080/"
        },
        "id": "QxBktB7z7JV1",
        "outputId": "e6252a53-9465-4284-8b77-15e679d6d4b1"
      },
      "source": [
        "cols = df_drop.columns.tolist()\n",
        "cols"
      ],
      "execution_count": 77,
      "outputs": [
        {
          "output_type": "execute_result",
          "data": {
            "text/plain": [
              "['Unnamed: 0',\n",
              " 'Income',\n",
              " 'Limit',\n",
              " 'Rating',\n",
              " 'Cards',\n",
              " 'Age',\n",
              " 'Education',\n",
              " 'Balance']"
            ]
          },
          "metadata": {},
          "execution_count": 77
        }
      ]
    },
    {
      "cell_type": "code",
      "metadata": {
        "colab": {
          "base_uri": "https://localhost:8080/"
        },
        "id": "1CprGvL27OEV",
        "outputId": "122ec6c7-f557-45e7-9ae1-ce88cd9e3fdc"
      },
      "source": [
        "# separating features of our dataframe from the labels\n",
        "X = df_drop.iloc[:,1:8].values\n",
        "y = df_drop.iloc[:,0].values\n",
        "X"
      ],
      "execution_count": 78,
      "outputs": [
        {
          "output_type": "execute_result",
          "data": {
            "text/plain": [
              "array([[1.48910e+01, 3.60600e+03, 2.83000e+02, ..., 3.40000e+01,\n",
              "        1.10000e+01, 3.33000e+02],\n",
              "       [1.06025e+02, 6.64500e+03, 4.83000e+02, ..., 8.20000e+01,\n",
              "        1.50000e+01, 9.03000e+02],\n",
              "       [1.04593e+02, 7.07500e+03, 5.14000e+02, ..., 7.10000e+01,\n",
              "        1.10000e+01, 5.80000e+02],\n",
              "       ...,\n",
              "       [5.78720e+01, 4.17100e+03, 3.21000e+02, ..., 6.70000e+01,\n",
              "        1.20000e+01, 1.38000e+02],\n",
              "       [3.77280e+01, 2.52500e+03, 1.92000e+02, ..., 4.40000e+01,\n",
              "        1.30000e+01, 0.00000e+00],\n",
              "       [1.87010e+01, 5.52400e+03, 4.15000e+02, ..., 6.40000e+01,\n",
              "        7.00000e+00, 9.66000e+02]])"
            ]
          },
          "metadata": {},
          "execution_count": 78
        }
      ]
    },
    {
      "cell_type": "markdown",
      "metadata": {
        "id": "zoxLJM6K7eIJ"
      },
      "source": [
        "# Data Standardisation"
      ]
    },
    {
      "cell_type": "code",
      "metadata": {
        "id": "tYoei6zR7Vzb"
      },
      "source": [
        "from sklearn.preprocessing import StandardScaler\n",
        "X_std = StandardScaler().fit_transform(X)"
      ],
      "execution_count": 79,
      "outputs": []
    },
    {
      "cell_type": "code",
      "metadata": {
        "colab": {
          "base_uri": "https://localhost:8080/"
        },
        "id": "5ZzLFBAK7hHS",
        "outputId": "49599ec5-8809-494b-c329-cec3b860cf2e"
      },
      "source": [
        "# Covarience Matrix\n",
        "mean_vec = np.mean(X_std, axis=0)\n",
        "cov_mat = (X_std - mean_vec).T.dot((X_std - mean_vec)) / (X_std.shape[0]-1)\n",
        "print('Covariance matrix \\n%s' %cov_mat)"
      ],
      "execution_count": 80,
      "outputs": [
        {
          "output_type": "stream",
          "name": "stdout",
          "text": [
            "Covariance matrix \n",
            "[[ 1.00250627  0.79407353  0.79336103 -0.01831841  0.17577785 -0.02776139\n",
            "   0.4648185 ]\n",
            " [ 0.79407353  1.00250627  0.99937818  0.01025698  0.10114077 -0.02360755\n",
            "   0.86385691]\n",
            " [ 0.79336103  0.99937818  1.00250627  0.05337246  0.10342355 -0.03021115\n",
            "   0.86578963]\n",
            " [-0.01831841  0.01025698  0.05337246  1.00250627  0.04305593 -0.05121225\n",
            "   0.08667303]\n",
            " [ 0.17577785  0.10114077  0.10342355  0.04305593  1.00250627  0.00362836\n",
            "   0.00183972]\n",
            " [-0.02776139 -0.02360755 -0.03021115 -0.05121225  0.00362836  1.00250627\n",
            "  -0.00808178]\n",
            " [ 0.4648185   0.86385691  0.86578963  0.08667303  0.00183972 -0.00808178\n",
            "   1.00250627]]\n"
          ]
        }
      ]
    },
    {
      "cell_type": "code",
      "metadata": {
        "colab": {
          "base_uri": "https://localhost:8080/"
        },
        "id": "-L3XGuaE75IC",
        "outputId": "926190b7-0aab-4be7-9290-85e06f5776f7"
      },
      "source": [
        "# Eigen decomposition of the covariance matrix\n",
        "eig_vals, eig_vecs = np.linalg.eig(cov_mat)\n",
        "\n",
        "print('Eigenvectors \\n%s' %eig_vecs)\n",
        "print('\\nEigenvalues \\n%s' %eig_vals)"
      ],
      "execution_count": 81,
      "outputs": [
        {
          "output_type": "stream",
          "name": "stdout",
          "text": [
            "Eigenvectors \n",
            "[[ 4.45399793e-01  7.38478885e-01 -4.63728428e-01 -2.61335303e-03\n",
            "   1.33726519e-01 -1.49278828e-01  3.24056468e-02]\n",
            " [ 5.36014689e-01 -3.39526203e-02  4.59356441e-01 -7.04822682e-01\n",
            "   8.99472325e-03  3.54273272e-02  4.91540298e-02]\n",
            " [ 5.36641042e-01 -2.52634696e-02  4.55060254e-01  7.08720002e-01\n",
            "  -1.54517933e-02  3.94973956e-02  1.46789537e-02]\n",
            " [ 2.91606875e-02  1.58644967e-01  1.67009318e-02 -3.03886879e-02\n",
            "  -6.51448387e-01  7.70066332e-02 -7.36521563e-01]\n",
            " [ 7.81878134e-02 -2.55245791e-01 -1.22244643e-02 -2.53960639e-04\n",
            "   1.81007390e-01 -8.95683817e-01 -3.05897982e-01]\n",
            " [-1.90162104e-02  4.55454277e-02  8.11048127e-03  3.13624060e-03\n",
            "  -7.10981382e-01 -3.63340314e-01  5.99981394e-01]\n",
            " [ 4.67972621e-01 -6.00387281e-01 -6.05288058e-01 -8.61783648e-04\n",
            "  -1.38399254e-01  1.86292746e-01  1.74075620e-02]]\n",
            "\n",
            "Eigenvalues \n",
            "[3.43323241e+00 4.94553856e-01 4.98778290e-02 2.18625324e-03\n",
            " 9.57948914e-01 1.02062852e+00 1.05911608e+00]\n"
          ]
        }
      ]
    },
    {
      "cell_type": "code",
      "metadata": {
        "colab": {
          "base_uri": "https://localhost:8080/"
        },
        "id": "h9AwuGHg8BTU",
        "outputId": "45875556-bd17-4750-d7ca-2c3ade78c534"
      },
      "source": [
        "# Selecting Principal Components\n",
        "# Make a list of (eigenvalue, eigenvector) tuples\n",
        "eig_pairs = [(np.abs(eig_vals[i]), eig_vecs[:,i]) for i in range(len(eig_vals))]\n",
        "\n",
        "# Sort the (eigenvalue, eigenvector) tuples from high to low\n",
        "eig_pairs.sort(key=lambda x: x[0], reverse=True)\n",
        "\n",
        "# Visually confirm that the list is correctly sorted by decreasing eigenvalues\n",
        "print('Eigenvalues in descending order:')\n",
        "for i in eig_pairs:\n",
        "    print(i[0])"
      ],
      "execution_count": 82,
      "outputs": [
        {
          "output_type": "stream",
          "name": "stdout",
          "text": [
            "Eigenvalues in descending order:\n",
            "3.4332324069111957\n",
            "1.0591160779975888\n",
            "1.0206285227060878\n",
            "0.9579489136845248\n",
            "0.49455385607799585\n",
            "0.04987782902968256\n",
            "0.002186253242046895\n"
          ]
        }
      ]
    },
    {
      "cell_type": "code",
      "metadata": {
        "id": "dHYcvIwl8Lpq"
      },
      "source": [
        "tot = sum(eig_vals)\n",
        "var_exp = [(i / tot)*100 for i in sorted(eig_vals, reverse=True)]"
      ],
      "execution_count": 83,
      "outputs": []
    },
    {
      "cell_type": "code",
      "metadata": {
        "colab": {
          "base_uri": "https://localhost:8080/"
        },
        "id": "cuH0zwHe8OVE",
        "outputId": "85969426-a644-4693-93af-634fc8d4f51b"
      },
      "source": [
        "# Projection Matrix\n",
        "matrix_w = np.hstack((eig_pairs[0][1].reshape(7,1), \n",
        "                      eig_pairs[1][1].reshape(7,1)\n",
        "                    ))\n",
        "print('Matrix W:\\n', matrix_w)"
      ],
      "execution_count": 84,
      "outputs": [
        {
          "output_type": "stream",
          "name": "stdout",
          "text": [
            "Matrix W:\n",
            " [[ 0.44539979  0.03240565]\n",
            " [ 0.53601469  0.04915403]\n",
            " [ 0.53664104  0.01467895]\n",
            " [ 0.02916069 -0.73652156]\n",
            " [ 0.07818781 -0.30589798]\n",
            " [-0.01901621  0.59998139]\n",
            " [ 0.46797262  0.01740756]]\n"
          ]
        }
      ]
    },
    {
      "cell_type": "markdown",
      "metadata": {
        "id": "Suy31DxE8ZKR"
      },
      "source": [
        "# Projection Onto the New Feature Space \n",
        "In this last step we will use the 7×2-dimensional projection matrix W to transform our samples onto the new subspace via the equation Y=X×W"
      ]
    },
    {
      "cell_type": "code",
      "metadata": {
        "colab": {
          "base_uri": "https://localhost:8080/"
        },
        "id": "WCs4ymAN8SiN",
        "outputId": "6db7d680-91bb-401f-c77f-be99e726dece"
      },
      "source": [
        "Y = X_std.dot(matrix_w)\n",
        "Y.shape"
      ],
      "execution_count": 85,
      "outputs": [
        {
          "output_type": "execute_result",
          "data": {
            "text/plain": [
              "(400, 2)"
            ]
          },
          "metadata": {},
          "execution_count": 85
        }
      ]
    },
    {
      "cell_type": "markdown",
      "metadata": {
        "id": "SQ9PGErh8kb0"
      },
      "source": [
        "# PCA in scikit-learn"
      ]
    },
    {
      "cell_type": "code",
      "metadata": {
        "id": "81eDuBTa8VM0"
      },
      "source": [
        "# Machine learning systems work with integers, we need to encode these\n",
        "# string characters into ints\n",
        "encoder = LabelEncoder()\n",
        "# Now apply the transformation to all the columns:\n",
        "for col in df.columns:\n",
        "    df[col] = encoder.fit_transform(df[col])\n",
        "X = df.iloc[:,1:11].values\n",
        "y = df.iloc[:,0].values\n",
        "X_std = StandardScaler().fit_transform(X)"
      ],
      "execution_count": 87,
      "outputs": []
    },
    {
      "cell_type": "markdown",
      "metadata": {
        "id": "y-gJMHZoRiPD"
      },
      "source": [
        "In scikit-learn estimator api,\n",
        "\n",
        "fit() : used for generating learning model parameters from training data\n",
        "\n",
        "transform() : parameters generated from fit() method,applied upon model to generate transformed data set.\n",
        "\n",
        "fit_transform() : combination of fit() and transform() api on same data set"
      ]
    },
    {
      "cell_type": "code",
      "metadata": {
        "colab": {
          "base_uri": "https://localhost:8080/"
        },
        "id": "75GrPe5CRHQN",
        "outputId": "4ec647bd-09e4-4d21-840d-ab2509a8a84d"
      },
      "source": [
        "pca.fit_transform(X_std)"
      ],
      "execution_count": 88,
      "outputs": [
        {
          "output_type": "execute_result",
          "data": {
            "text/plain": [
              "array([[-1.40928362, -1.72617919, -0.4385511 , ...,  0.38620513,\n",
              "         0.74222051, -0.08652764],\n",
              "       [ 2.26089488,  2.02392369, -1.27128021, ...,  2.05263518,\n",
              "        -0.25496661,  0.0362074 ],\n",
              "       [ 2.30707567,  0.51590996,  1.89924765, ..., -0.16215627,\n",
              "        -0.27631907,  0.01455184],\n",
              "       ...,\n",
              "       [ 0.35232919, -0.89333514,  0.71036027, ...,  0.33548309,\n",
              "        -0.98322704,  0.00678771],\n",
              "       [-1.34585241, -1.26288303, -0.8271535 , ...,  0.5509644 ,\n",
              "        -0.91374509, -0.01076684],\n",
              "       [ 0.4056268 ,  0.32639756,  2.24269824, ..., -0.25609418,\n",
              "         1.29805809,  0.07738083]])"
            ]
          },
          "metadata": {},
          "execution_count": 88
        }
      ]
    },
    {
      "cell_type": "code",
      "metadata": {
        "id": "mwWQsVak8nOg",
        "colab": {
          "base_uri": "https://localhost:8080/"
        },
        "outputId": "1857619d-72f4-4aa4-ce2a-c475dde16c14"
      },
      "source": [
        "sklearn_pca = PCA(n_components=5)\n",
        "Y_sklearn = sklearn_pca.fit_transform(X_std)\n",
        "print(Y_sklearn.shape)"
      ],
      "execution_count": 89,
      "outputs": [
        {
          "output_type": "stream",
          "name": "stdout",
          "text": [
            "(400, 5)\n"
          ]
        }
      ]
    },
    {
      "cell_type": "code",
      "metadata": {
        "colab": {
          "base_uri": "https://localhost:8080/",
          "height": 313
        },
        "id": "b-8L38qkUIp0",
        "outputId": "7793657f-84c8-49d3-f5e7-a433f9493d4d"
      },
      "source": [
        "# Visualize\n",
        "pca = PCA()\n",
        "pca.fit_transform(X_std)\n",
        "pca_variance = pca.explained_variance_\n",
        "print(pca_variance)\n",
        "\n",
        "plt.figure()\n",
        "plt.bar(range(10), pca_variance, label='individual variance')\n",
        "plt.legend()\n",
        "plt.ylabel('Variance ratio')\n",
        "plt.xlabel('Principal components')\n",
        "plt.show()"
      ],
      "execution_count": 90,
      "outputs": [
        {
          "output_type": "stream",
          "name": "stdout",
          "text": [
            "[2.58640265 1.14355889 1.12592909 1.01893291 0.97874642 0.97461326\n",
            " 0.95117198 0.82163208 0.41935814 0.00471724]\n"
          ]
        },
        {
          "output_type": "display_data",
          "data": {
            "image/png": "[encoded data removed]",
            "text/plain": [
              "<Figure size 432x288 with 1 Axes>"
            ]
          },
          "metadata": {
            "needs_background": "light"
          }
        }
      ]
    },
    {
      "cell_type": "code",
      "metadata": {
        "colab": {
          "base_uri": "https://localhost:8080/"
        },
        "id": "1tQSgzWzZPHR",
        "outputId": "9f6d107b-6bc9-4168-8ab1-eafca3cd1d96"
      },
      "source": [
        "pca"
      ],
      "execution_count": 91,
      "outputs": [
        {
          "output_type": "execute_result",
          "data": {
            "text/plain": [
              "PCA(copy=True, iterated_power='auto', n_components=None, random_state=None,\n",
              "    svd_solver='auto', tol=0.0, whiten=False)"
            ]
          },
          "metadata": {},
          "execution_count": 91
        }
      ]
    },
    {
      "cell_type": "markdown",
      "metadata": {
        "id": "UIrVmtz28-o3"
      },
      "source": [
        "# Additional"
      ]
    },
    {
      "cell_type": "code",
      "metadata": {
        "colab": {
          "base_uri": "https://localhost:8080/",
          "height": 374
        },
        "id": "uTzkR1mePWUV",
        "outputId": "5d02aec1-7c64-4cd8-8382-57d6990e7966"
      },
      "source": [
        "pca2 = PCA(n_components=2)\n",
        "pca2.fit(X_std)\n",
        "x_3d = pca2.transform(X_std)\n",
        "\n",
        "plt.figure(figsize=(8,6))\n",
        "plt.scatter(x_3d[:,0], x_3d[:,1], c=df['Defaultee'])\n",
        "plt.show()"
      ],
      "execution_count": 33,
      "outputs": [
        {
          "output_type": "display_data",
          "data": {
            "image/png": "[encoded data removed]",
            "text/plain": [
              "<Figure size 576x432 with 1 Axes>"
            ]
          },
          "metadata": {
            "needs_background": "light"
          }
        }
      ]
    },
    {
      "cell_type": "code",
      "metadata": {
        "colab": {
          "base_uri": "https://localhost:8080/"
        },
        "id": "GNE0Kq1iZmhD",
        "outputId": "380c45b5-51ea-47bb-c3c3-f54ced14646b"
      },
      "source": [
        "pca2 = PCA(n_components=6)\n",
        "pca2.fit(X_std)\n",
        "x_3d = pca2.transform(X_std)\n",
        "X_train, X_test, y_train, y_test = train_test_split(X_std, y, train_size = 0.8, test_size = 0.2)# random_state = 100\n",
        "reg = LinearRegression().fit(X_train, y_train)\n",
        "print(reg.score(X_train, y_train))\n",
        "reg.score(X_test, y_test)"
      ],
      "execution_count": 94,
      "outputs": [
        {
          "output_type": "stream",
          "name": "stdout",
          "text": [
            "0.046679907037508794\n"
          ]
        },
        {
          "output_type": "execute_result",
          "data": {
            "text/plain": [
              "-0.06332793175307638"
            ]
          },
          "metadata": {},
          "execution_count": 94
        }
      ]
    },
    {
      "cell_type": "code",
      "metadata": {
        "colab": {
          "base_uri": "https://localhost:8080/"
        },
        "id": "Sg-w5oEWZ3AN",
        "outputId": "fe7346e0-5112-48d4-b404-90f74ed7a164"
      },
      "source": [
        "pca2 = PCA(n_components=2)\n",
        "pca2.fit(X_std)\n",
        "x_3d = pca2.transform(X_std)\n",
        "X_train, X_test, y_train, y_test = train_test_split(X_std, y, train_size = 0.8, test_size = 0.2)# random_state = 100\n",
        "reg = LinearRegression().fit(X_train, y_train)\n",
        "print(reg.score(X_train, y_train))\n",
        "reg.score(X_test, y_test)"
      ],
      "execution_count": 95,
      "outputs": [
        {
          "output_type": "stream",
          "name": "stdout",
          "text": [
            "0.03709226206790184\n"
          ]
        },
        {
          "output_type": "execute_result",
          "data": {
            "text/plain": [
              "-0.12681712211402374"
            ]
          },
          "metadata": {},
          "execution_count": 95
        }
      ]
    }
  ]
}